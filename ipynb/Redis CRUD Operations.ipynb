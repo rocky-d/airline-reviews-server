{
 "cells": [
  {
   "cell_type": "markdown",
   "source": [
    "# Redis CRUD Operations"
   ],
   "metadata": {
    "collapsed": false
   },
   "id": "2912fa1f895026f2"
  },
  {
   "cell_type": "code",
   "execution_count": 1,
   "outputs": [],
   "source": [
    "import redis"
   ],
   "metadata": {
    "collapsed": false,
    "ExecuteTime": {
     "end_time": "2023-09-26T03:40:18.903152800Z",
     "start_time": "2023-09-26T03:40:18.839795100Z"
    }
   },
   "id": "70b75b1f5d8c9663"
  },
  {
   "cell_type": "code",
   "execution_count": 2,
   "outputs": [],
   "source": [
    "r = redis.StrictRedis(host = '192.168.0.115', port = 6379, db = 1)"
   ],
   "metadata": {
    "collapsed": false,
    "ExecuteTime": {
     "end_time": "2023-09-26T03:40:18.908369200Z",
     "start_time": "2023-09-26T03:40:18.907780900Z"
    }
   },
   "id": "1c52cb7cdd595edd"
  },
  {
   "cell_type": "code",
   "execution_count": 3,
   "outputs": [
    {
     "data": {
      "text/plain": "[b'FLIGHT', b'AIRLINE', b'REVIEW', b'PASSENGER']"
     },
     "execution_count": 3,
     "metadata": {},
     "output_type": "execute_result"
    }
   ],
   "source": [
    "r.keys()"
   ],
   "metadata": {
    "collapsed": false,
    "ExecuteTime": {
     "end_time": "2023-09-26T03:40:18.970879100Z",
     "start_time": "2023-09-26T03:40:18.908369200Z"
    }
   },
   "id": "444925a4cbb31171"
  },
  {
   "cell_type": "code",
   "execution_count": 11,
   "outputs": [
    {
     "data": {
      "text/plain": "True"
     },
     "execution_count": 11,
     "metadata": {},
     "output_type": "execute_result"
    }
   ],
   "source": [
    "# Create\n",
    "r.set(name = 'DB_NAME', value = 'airline reviews database', nx = True)"
   ],
   "metadata": {
    "collapsed": false,
    "ExecuteTime": {
     "end_time": "2023-09-26T03:46:06.371675700Z",
     "start_time": "2023-09-26T03:46:06.343960700Z"
    }
   },
   "id": "9688062f8a84a7db"
  },
  {
   "cell_type": "code",
   "execution_count": 5,
   "outputs": [
    {
     "data": {
      "text/plain": "b'AIRLINEREVIEWS_DB'"
     },
     "execution_count": 5,
     "metadata": {},
     "output_type": "execute_result"
    }
   ],
   "source": [
    "# Read\n",
    "r.get(name = 'DB_NAME')"
   ],
   "metadata": {
    "collapsed": false,
    "ExecuteTime": {
     "end_time": "2023-09-26T03:40:18.986505500Z",
     "start_time": "2023-09-26T03:40:18.955254500Z"
    }
   },
   "id": "e1d4de51c10cb910"
  },
  {
   "cell_type": "code",
   "execution_count": 6,
   "outputs": [
    {
     "data": {
      "text/plain": "True"
     },
     "execution_count": 6,
     "metadata": {},
     "output_type": "execute_result"
    }
   ],
   "source": [
    "# Update\n",
    "r.set(name = 'DB_NAME', value = 'AIRLINEREVIEWS_DB', xx = True)"
   ],
   "metadata": {
    "collapsed": false,
    "ExecuteTime": {
     "end_time": "2023-09-26T03:40:18.986505500Z",
     "start_time": "2023-09-26T03:40:18.970879100Z"
    }
   },
   "id": "a22b25af2fe7166c"
  },
  {
   "cell_type": "code",
   "execution_count": 7,
   "outputs": [
    {
     "data": {
      "text/plain": "b'AIRLINEREVIEWS_DB'"
     },
     "execution_count": 7,
     "metadata": {},
     "output_type": "execute_result"
    }
   ],
   "source": [
    "# Read\n",
    "r.get(name = 'DB_NAME')"
   ],
   "metadata": {
    "collapsed": false,
    "ExecuteTime": {
     "end_time": "2023-09-26T03:40:19.065229900Z",
     "start_time": "2023-09-26T03:40:18.986505500Z"
    }
   },
   "id": "89e2f581293207a5"
  },
  {
   "cell_type": "code",
   "execution_count": 8,
   "outputs": [
    {
     "data": {
      "text/plain": "1"
     },
     "execution_count": 8,
     "metadata": {},
     "output_type": "execute_result"
    }
   ],
   "source": [
    "r.exists('DB_NAME')"
   ],
   "metadata": {
    "collapsed": false,
    "ExecuteTime": {
     "end_time": "2023-09-26T03:40:19.065229900Z",
     "start_time": "2023-09-26T03:40:19.002127500Z"
    }
   },
   "id": "d12fb5978e0b4ab1"
  },
  {
   "cell_type": "code",
   "execution_count": 9,
   "outputs": [
    {
     "data": {
      "text/plain": "1"
     },
     "execution_count": 9,
     "metadata": {},
     "output_type": "execute_result"
    }
   ],
   "source": [
    "# Delete\n",
    "r.delete('DB_NAME')"
   ],
   "metadata": {
    "collapsed": false,
    "ExecuteTime": {
     "end_time": "2023-09-26T03:40:19.065229900Z",
     "start_time": "2023-09-26T03:40:19.018346Z"
    }
   },
   "id": "d800de85685bbba6"
  },
  {
   "cell_type": "code",
   "execution_count": 10,
   "outputs": [
    {
     "data": {
      "text/plain": "0"
     },
     "execution_count": 10,
     "metadata": {},
     "output_type": "execute_result"
    }
   ],
   "source": [
    "r.exists('DB_NAME')"
   ],
   "metadata": {
    "collapsed": false,
    "ExecuteTime": {
     "end_time": "2023-09-26T03:40:19.065229900Z",
     "start_time": "2023-09-26T03:40:19.033985100Z"
    }
   },
   "id": "c83e808c3c200934"
  }
 ],
 "metadata": {
  "kernelspec": {
   "display_name": "Python 3",
   "language": "python",
   "name": "python3"
  },
  "language_info": {
   "codemirror_mode": {
    "name": "ipython",
    "version": 2
   },
   "file_extension": ".py",
   "mimetype": "text/x-python",
   "name": "python",
   "nbconvert_exporter": "python",
   "pygments_lexer": "ipython2",
   "version": "2.7.6"
  }
 },
 "nbformat": 4,
 "nbformat_minor": 5
}
