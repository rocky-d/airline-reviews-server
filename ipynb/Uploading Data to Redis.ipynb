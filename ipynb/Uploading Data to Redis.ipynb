{
 "cells": [
  {
   "cell_type": "markdown",
   "source": [
    "# Uploading Data to Redis"
   ],
   "metadata": {
    "collapsed": false
   },
   "id": "b4a42ecd9278feb"
  },
  {
   "cell_type": "code",
   "execution_count": 1,
   "outputs": [],
   "source": [
    "import json\n",
    "\n",
    "import pandas as pd\n",
    "import redis"
   ],
   "metadata": {
    "collapsed": false,
    "ExecuteTime": {
     "end_time": "2023-09-25T10:50:28.128298700Z",
     "start_time": "2023-09-25T10:50:27.838122300Z"
    }
   },
   "id": "initial_id"
  },
  {
   "cell_type": "code",
   "execution_count": 2,
   "id": "49bfd91029d71126",
   "metadata": {
    "collapsed": false,
    "ExecuteTime": {
     "end_time": "2023-09-25T10:50:28.148178500Z",
     "start_time": "2023-09-25T10:50:28.128298700Z"
    }
   },
   "outputs": [],
   "source": [
    "r = redis.StrictRedis(host = '192.168.0.115', port = 6379, db = 1)"
   ]
  },
  {
   "cell_type": "code",
   "execution_count": 3,
   "id": "c5149bc0d40e41eb",
   "metadata": {
    "collapsed": false,
    "ExecuteTime": {
     "end_time": "2023-09-25T10:50:28.198003700Z",
     "start_time": "2023-09-25T10:50:28.148178500Z"
    }
   },
   "outputs": [
    {
     "data": {
      "text/plain": "[b'FLIGHT', b'PASSENGER', b'AIRLINE', b'REVIEW']"
     },
     "execution_count": 3,
     "metadata": {},
     "output_type": "execute_result"
    }
   ],
   "source": [
    "r.keys()"
   ]
  },
  {
   "cell_type": "markdown",
   "source": [
    "## PASSENGER"
   ],
   "metadata": {
    "collapsed": false
   },
   "id": "2942784e9d4300fd"
  },
  {
   "cell_type": "code",
   "execution_count": 4,
   "id": "ed48ded8336ac16c",
   "metadata": {
    "collapsed": false,
    "ExecuteTime": {
     "end_time": "2023-09-25T10:50:28.248026300Z",
     "start_time": "2023-09-25T10:50:28.188129700Z"
    }
   },
   "outputs": [],
   "source": [
    "passenger_df = pd.read_csv(r'..\\..\\data_csv\\AIRLINEREVIEWS_DB\\PASSENGER.csv')"
   ]
  },
  {
   "cell_type": "code",
   "execution_count": 5,
   "id": "700adc68df5e3800",
   "metadata": {
    "collapsed": false,
    "ExecuteTime": {
     "end_time": "2023-09-25T10:50:28.268160600Z",
     "start_time": "2023-09-25T10:50:28.248026300Z"
    }
   },
   "outputs": [
    {
     "name": "stdout",
     "output_type": "stream",
     "text": [
      "<class 'pandas.core.frame.DataFrame'>\n",
      "RangeIndex: 19329 entries, 0 to 19328\n",
      "Data columns (total 9 columns):\n",
      " #   Column            Non-Null Count  Dtype \n",
      "---  ------            --------------  ----- \n",
      " 0   PSG_ID            19329 non-null  object\n",
      " 1   PSG_VERIFIED      19329 non-null  bool  \n",
      " 2   PSG_AGE           19329 non-null  int64 \n",
      " 3   PSG_GENDER        19329 non-null  object\n",
      " 4   PSG_TYPE          19329 non-null  object\n",
      " 5   PSG_SEAT_TYPE     19329 non-null  object\n",
      " 6   PSG_FLT_ARL_IATA  19329 non-null  object\n",
      " 7   PSG_FLT_ROUTE     19329 non-null  object\n",
      " 8   PSG_FLT_DATE      19329 non-null  object\n",
      "dtypes: bool(1), int64(1), object(7)\n",
      "memory usage: 1.2+ MB\n"
     ]
    }
   ],
   "source": [
    "passenger_df.info()"
   ]
  },
  {
   "cell_type": "code",
   "execution_count": 6,
   "id": "3ee4afe57a32fce8",
   "metadata": {
    "collapsed": false,
    "ExecuteTime": {
     "end_time": "2023-09-25T10:50:28.877943100Z",
     "start_time": "2023-09-25T10:50:28.268160600Z"
    }
   },
   "outputs": [
    {
     "data": {
      "text/plain": "1"
     },
     "execution_count": 6,
     "metadata": {},
     "output_type": "execute_result"
    }
   ],
   "source": [
    "big_ls = []\n",
    "for index, row in passenger_df.iterrows():\n",
    "    row_dict = row.to_dict()\n",
    "\n",
    "    new_dict = dict()\n",
    "    new_dict['PSG_ID'] = row_dict['PSG_ID']\n",
    "    new_dict['PSG_VERIFIED'] = row_dict['PSG_VERIFIED']\n",
    "    new_dict['PSG_AGE'] = row_dict['PSG_AGE']\n",
    "    new_dict['PSG_GENDER'] = row_dict['PSG_GENDER']\n",
    "    new_dict['PSG_TYPE'] = row_dict['PSG_TYPE']\n",
    "    new_dict['PSG_SEAT_TYPE'] = row_dict['PSG_SEAT_TYPE']\n",
    "    new_dict['PSG_FLT_TAG'] = {'PSG_FLT_ARL_IATA': row_dict['PSG_FLT_ARL_IATA'],\n",
    "                               'PSG_FLT_ROUTE': row_dict['PSG_FLT_ROUTE'],\n",
    "                               'PSG_FLT_DATE': row_dict['PSG_FLT_DATE']}\n",
    "\n",
    "    big_ls.append(json.dumps(new_dict))\n",
    "\n",
    "r.delete('PASSENGER')"
   ]
  },
  {
   "cell_type": "code",
   "execution_count": 7,
   "outputs": [],
   "source": [
    "for row in big_ls:\n",
    "    r.rpush('PASSENGER', row)"
   ],
   "metadata": {
    "collapsed": false,
    "ExecuteTime": {
     "end_time": "2023-09-25T11:00:29.875011100Z",
     "start_time": "2023-09-25T10:50:28.837924200Z"
    }
   },
   "id": "122551d59af40ed"
  },
  {
   "cell_type": "markdown",
   "source": [
    "## REVIEW"
   ],
   "metadata": {
    "collapsed": false
   },
   "id": "b899fecd5d7740dd"
  },
  {
   "cell_type": "code",
   "execution_count": 8,
   "id": "72e91d8fbfb665a5",
   "metadata": {
    "collapsed": false,
    "ExecuteTime": {
     "end_time": "2023-09-25T11:00:30.065383600Z",
     "start_time": "2023-09-25T11:00:29.879112400Z"
    }
   },
   "outputs": [],
   "source": [
    "review_df = pd.read_csv(r'..\\..\\data_csv\\AIRLINEREVIEWS_DB\\REVIEW.csv')"
   ]
  },
  {
   "cell_type": "code",
   "execution_count": 9,
   "id": "df22cf34ef5f44f5",
   "metadata": {
    "collapsed": false,
    "ExecuteTime": {
     "end_time": "2023-09-25T11:00:30.084938600Z",
     "start_time": "2023-09-25T11:00:30.065383600Z"
    }
   },
   "outputs": [
    {
     "name": "stdout",
     "output_type": "stream",
     "text": [
      "<class 'pandas.core.frame.DataFrame'>\n",
      "RangeIndex: 19329 entries, 0 to 19328\n",
      "Data columns (total 17 columns):\n",
      " #   Column            Non-Null Count  Dtype \n",
      "---  ------            --------------  ----- \n",
      " 0   REV_ID            19329 non-null  object\n",
      " 1   REV_RECOMMENDED   19329 non-null  bool  \n",
      " 2   REV_TITLE         19329 non-null  object\n",
      " 3   REV_CONTENT       19329 non-null  object\n",
      " 4   REV_DATE          19329 non-null  object\n",
      " 5   REV_RT_O          19329 non-null  int64 \n",
      " 6   REV_RT_SC         19329 non-null  int64 \n",
      " 7   REV_RT_CSS        19329 non-null  int64 \n",
      " 8   REV_RT_FB         19329 non-null  int64 \n",
      " 9   REV_RT_GS         19329 non-null  int64 \n",
      " 10  REV_RT_IE         19329 non-null  int64 \n",
      " 11  REV_RT_WC         19329 non-null  int64 \n",
      " 12  REV_RT_VFM        19329 non-null  int64 \n",
      " 13  REV_PSG_ID        19329 non-null  object\n",
      " 14  REV_FLT_ARL_IATA  19329 non-null  object\n",
      " 15  REV_FLT_ROUTE     19329 non-null  object\n",
      " 16  REV_FLT_DATE      19329 non-null  object\n",
      "dtypes: bool(1), int64(8), object(8)\n",
      "memory usage: 2.4+ MB\n"
     ]
    }
   ],
   "source": [
    "review_df.info()"
   ]
  },
  {
   "cell_type": "code",
   "execution_count": 10,
   "id": "d0faa3c90c9c98a9",
   "metadata": {
    "collapsed": false,
    "ExecuteTime": {
     "end_time": "2023-09-25T11:00:30.825042700Z",
     "start_time": "2023-09-25T11:00:30.084938600Z"
    }
   },
   "outputs": [
    {
     "data": {
      "text/plain": "1"
     },
     "execution_count": 10,
     "metadata": {},
     "output_type": "execute_result"
    }
   ],
   "source": [
    "big_ls = []\n",
    "for index, row in review_df.iterrows():\n",
    "    row_dict = row.to_dict()\n",
    "\n",
    "    new_dict = dict()\n",
    "    new_dict['REV_ID'] = row_dict['REV_ID']\n",
    "    new_dict['REV_RECOMMENDED'] = row_dict['REV_RECOMMENDED']\n",
    "    new_dict['REV_TITLE'] = row_dict['REV_TITLE']\n",
    "    new_dict['REV_CONTENT'] = row_dict['REV_CONTENT']\n",
    "    new_dict['REV_DATE'] = row_dict['REV_DATE']\n",
    "    new_dict['REV_RT'] = {'REV_RT_O': row_dict['REV_RT_O'],\n",
    "                          'REV_RT_SC': row_dict['REV_RT_SC'],\n",
    "                          'REV_RT_CSS': row_dict['REV_RT_CSS'],\n",
    "                          'REV_RT_FB': row_dict['REV_RT_FB'],\n",
    "                          'REV_RT_GS': row_dict['REV_RT_GS'],\n",
    "                          'REV_RT_IE': row_dict['REV_RT_IE'],\n",
    "                          'REV_RT_WC': row_dict['REV_RT_WC'],\n",
    "                          'REV_RT_VFM': row_dict['REV_RT_VFM']}\n",
    "    new_dict['REV_PSG_ID'] = row_dict['REV_PSG_ID']\n",
    "    new_dict['REV_FLT_TAG'] = {'REV_FLT_ARL_IATA': row_dict['REV_FLT_ARL_IATA'],\n",
    "                               'REV_FLT_ROUTE': row_dict['REV_FLT_ROUTE'],\n",
    "                               'REV_FLT_DATE': row_dict['REV_FLT_DATE']}\n",
    "\n",
    "    big_ls.append(json.dumps(new_dict))\n",
    "\n",
    "r.delete('REVIEW')"
   ]
  },
  {
   "cell_type": "code",
   "execution_count": 11,
   "outputs": [],
   "source": [
    "for row in big_ls:\n",
    "    r.rpush('REVIEW', row)"
   ],
   "metadata": {
    "collapsed": false,
    "ExecuteTime": {
     "end_time": "2023-09-25T11:12:16.738568100Z",
     "start_time": "2023-09-25T11:00:30.825042700Z"
    }
   },
   "id": "f28015d3c10c345b"
  },
  {
   "cell_type": "markdown",
   "source": [
    "## FLIGHT"
   ],
   "metadata": {
    "collapsed": false
   },
   "id": "7f1498abc7dd699e"
  },
  {
   "cell_type": "code",
   "execution_count": 12,
   "id": "cc63ef57a4a38407",
   "metadata": {
    "collapsed": false,
    "ExecuteTime": {
     "end_time": "2023-09-25T11:12:16.770739Z",
     "start_time": "2023-09-25T11:12:16.741569Z"
    }
   },
   "outputs": [],
   "source": [
    "flight_df = pd.read_csv(r'..\\..\\data_csv\\AIRLINEREVIEWS_DB\\FLIGHT.csv')"
   ]
  },
  {
   "cell_type": "code",
   "execution_count": 13,
   "id": "5218e596fef359b6",
   "metadata": {
    "collapsed": false,
    "ExecuteTime": {
     "end_time": "2023-09-25T11:12:16.800191400Z",
     "start_time": "2023-09-25T11:12:16.768738100Z"
    }
   },
   "outputs": [
    {
     "name": "stdout",
     "output_type": "stream",
     "text": [
      "<class 'pandas.core.frame.DataFrame'>\n",
      "RangeIndex: 18819 entries, 0 to 18818\n",
      "Data columns (total 4 columns):\n",
      " #   Column        Non-Null Count  Dtype \n",
      "---  ------        --------------  ----- \n",
      " 0   FLT_ARL_IATA  18819 non-null  object\n",
      " 1   FLT_ROUTE     18819 non-null  object\n",
      " 2   FLT_DATE      18819 non-null  object\n",
      " 3   FLT_AIRCRAFT  18819 non-null  object\n",
      "dtypes: object(4)\n",
      "memory usage: 588.2+ KB\n"
     ]
    }
   ],
   "source": [
    "flight_df.info()"
   ]
  },
  {
   "cell_type": "code",
   "execution_count": 14,
   "id": "bb81a00d2ef4dda9",
   "metadata": {
    "collapsed": false,
    "ExecuteTime": {
     "end_time": "2023-09-25T11:12:17.953377700Z",
     "start_time": "2023-09-25T11:12:16.790159Z"
    }
   },
   "outputs": [
    {
     "data": {
      "text/plain": "1"
     },
     "execution_count": 14,
     "metadata": {},
     "output_type": "execute_result"
    }
   ],
   "source": [
    "big_ls = []\n",
    "for index, row in flight_df.iterrows():\n",
    "    row_dict = row.to_dict()\n",
    "\n",
    "    new_dict = dict()\n",
    "    new_dict['FLT_TAG'] = {'FLT_ARL_IATA': row_dict['FLT_ARL_IATA'],\n",
    "                           'FLT_ROUTE': row_dict['FLT_ROUTE'],\n",
    "                           'FLT_DATE': row_dict['FLT_DATE']}\n",
    "    new_dict['FLT_AIRCRAFT'] = row_dict['FLT_AIRCRAFT']\n",
    "\n",
    "    big_ls.append(json.dumps(new_dict))\n",
    "\n",
    "r.delete('FLIGHT')"
   ]
  },
  {
   "cell_type": "code",
   "execution_count": 15,
   "outputs": [],
   "source": [
    "for row in big_ls:\n",
    "    r.rpush('FLIGHT', row)"
   ],
   "metadata": {
    "collapsed": false,
    "ExecuteTime": {
     "end_time": "2023-09-25T11:17:33.889909300Z",
     "start_time": "2023-09-25T11:12:17.940301700Z"
    }
   },
   "id": "694a618620e01077"
  },
  {
   "cell_type": "markdown",
   "source": [
    "## AIRLINE"
   ],
   "metadata": {
    "collapsed": false
   },
   "id": "d0c65366d2fcfc48"
  },
  {
   "cell_type": "code",
   "execution_count": 16,
   "id": "86d48e264f990050",
   "metadata": {
    "collapsed": false,
    "ExecuteTime": {
     "end_time": "2023-09-25T11:17:33.914222600Z",
     "start_time": "2023-09-25T11:17:33.892024600Z"
    }
   },
   "outputs": [],
   "source": [
    "airline_df = pd.read_csv(r'..\\..\\data_csv\\AIRLINEREVIEWS_DB\\AIRLINE.csv')"
   ]
  },
  {
   "cell_type": "code",
   "execution_count": 17,
   "id": "21fec44f1846bd1b",
   "metadata": {
    "collapsed": false,
    "ExecuteTime": {
     "end_time": "2023-09-25T11:17:33.947324700Z",
     "start_time": "2023-09-25T11:17:33.907126400Z"
    }
   },
   "outputs": [
    {
     "name": "stdout",
     "output_type": "stream",
     "text": [
      "<class 'pandas.core.frame.DataFrame'>\n",
      "RangeIndex: 467 entries, 0 to 466\n",
      "Data columns (total 4 columns):\n",
      " #   Column         Non-Null Count  Dtype \n",
      "---  ------         --------------  ----- \n",
      " 0   ARL_IATA       467 non-null    object\n",
      " 1   ARL_ICAO       467 non-null    object\n",
      " 2   ARL_NAME       467 non-null    object\n",
      " 3   ARL_HQ_NATION  467 non-null    object\n",
      "dtypes: object(4)\n",
      "memory usage: 14.7+ KB\n"
     ]
    }
   ],
   "source": [
    "airline_df.info()"
   ]
  },
  {
   "cell_type": "code",
   "execution_count": 18,
   "id": "6197c3c1920c43f8",
   "metadata": {
    "collapsed": false,
    "ExecuteTime": {
     "end_time": "2023-09-25T11:17:33.976020300Z",
     "start_time": "2023-09-25T11:17:33.922209500Z"
    }
   },
   "outputs": [
    {
     "data": {
      "text/plain": "1"
     },
     "execution_count": 18,
     "metadata": {},
     "output_type": "execute_result"
    }
   ],
   "source": [
    "big_ls = []\n",
    "for index, row in airline_df.iterrows():\n",
    "    row_dict = row.to_dict()\n",
    "\n",
    "    new_dict = dict()\n",
    "    new_dict['ARL_IATA'] = row_dict['ARL_IATA']\n",
    "    new_dict['ARL_ICAO'] = row_dict['ARL_ICAO']\n",
    "    new_dict['ARL_NAME'] = row_dict['ARL_NAME']\n",
    "    new_dict['ARL_HQ_NATION'] = row_dict['ARL_HQ_NATION']\n",
    "\n",
    "    big_ls.append(json.dumps(new_dict))\n",
    "\n",
    "r.delete('AIRLINE')"
   ]
  },
  {
   "cell_type": "code",
   "execution_count": 19,
   "outputs": [],
   "source": [
    "for row in big_ls:\n",
    "    r.rpush('AIRLINE', row)"
   ],
   "metadata": {
    "collapsed": false,
    "ExecuteTime": {
     "end_time": "2023-09-25T11:17:43.177046200Z",
     "start_time": "2023-09-25T11:17:33.969871Z"
    }
   },
   "id": "6692a3cad1404e01"
  }
 ],
 "metadata": {
  "kernelspec": {
   "display_name": "Python 3 (ipykernel)",
   "language": "python",
   "name": "python3"
  },
  "language_info": {
   "codemirror_mode": {
    "name": "ipython",
    "version": 3
   },
   "file_extension": ".py",
   "mimetype": "text/x-python",
   "name": "python",
   "nbconvert_exporter": "python",
   "pygments_lexer": "ipython3",
   "version": "3.10.8"
  }
 },
 "nbformat": 4,
 "nbformat_minor": 5
}
