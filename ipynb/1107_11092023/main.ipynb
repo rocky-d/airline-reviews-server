{
 "cells": [
  {
   "cell_type": "markdown",
   "source": [
    "redis"
   ],
   "metadata": {
    "collapsed": false
   },
   "id": "85ca8ef2bca8a70a"
  },
  {
   "cell_type": "code",
   "execution_count": 1,
   "outputs": [],
   "source": [
    "import redis"
   ],
   "metadata": {
    "collapsed": false,
    "ExecuteTime": {
     "end_time": "2023-09-04T13:27:05.399484Z",
     "start_time": "2023-09-04T13:27:05.337065700Z"
    }
   },
   "id": "76d042cdc134c9f2"
  },
  {
   "cell_type": "code",
   "execution_count": 2,
   "outputs": [],
   "source": [
    "r = redis.StrictRedis(host = '192.168.0.111', port = 6379)"
   ],
   "metadata": {
    "collapsed": false,
    "ExecuteTime": {
     "end_time": "2023-09-04T13:27:08.964644400Z",
     "start_time": "2023-09-04T13:27:08.922083500Z"
    }
   },
   "id": "ee4421a1ac261f43"
  },
  {
   "cell_type": "code",
   "execution_count": null,
   "outputs": [],
   "source": [],
   "metadata": {
    "collapsed": false
   },
   "id": "acabfa76407d0738"
  }
 ],
 "metadata": {
  "kernelspec": {
   "display_name": "Python 3",
   "language": "python",
   "name": "python3"
  },
  "language_info": {
   "codemirror_mode": {
    "name": "ipython",
    "version": 2
   },
   "file_extension": ".py",
   "mimetype": "text/x-python",
   "name": "python",
   "nbconvert_exporter": "python",
   "pygments_lexer": "ipython2",
   "version": "2.7.6"
  }
 },
 "nbformat": 4,
 "nbformat_minor": 5
}
