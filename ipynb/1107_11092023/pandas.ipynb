{
 "cells": [
  {
   "cell_type": "code",
   "execution_count": 1,
   "id": "initial_id",
   "metadata": {
    "collapsed": true,
    "ExecuteTime": {
     "end_time": "2023-09-05T10:23:31.394524400Z",
     "start_time": "2023-09-05T10:23:31.156875700Z"
    }
   },
   "outputs": [],
   "source": [
    "import pandas as pd"
   ]
  },
  {
   "cell_type": "code",
   "execution_count": 2,
   "outputs": [
    {
     "data": {
      "text/plain": "       Unnamed: 0   Airline Name Overall_Rating  \\\n0               0    AB Aviation              9   \n1               1    AB Aviation              1   \n2               2    AB Aviation              1   \n3               3  Adria Airways              1   \n4               4  Adria Airways              1   \n...           ...            ...            ...   \n23166       23166         ZIPAIR              1   \n23167       23167         ZIPAIR              1   \n23168       23168         ZIPAIR              3   \n23169       23169         ZIPAIR              6   \n23170       23170         ZIPAIR              1   \n\n                                 Review_Title          Review Date  Verified  \\\n0                     \"pretty decent airline\"   11th November 2019      True   \n1                        \"Not a good airline\"       25th June 2019      True   \n2              \"flight was fortunately short\"       25th June 2019      True   \n3         \"I will never fly again with Adria\"  28th September 2019     False   \n4       \"it ruined our last days of holidays\"  24th September 2019      True   \n...                                       ...                  ...       ...   \n23166          \"customer service is terrible\"        5th July 2022     False   \n23167                    \"Avoid at all costs\"        1st June 2022      True   \n23168          \"Will not recommend to anyone\"        31st May 2022      True   \n23169             \"It was immaculately clean\"        23rd May 2022      True   \n23170  \"lost all of our money with no refund\"        20th May 2022      True   \n\n                                                  Review       Aircraft  \\\n0        Moroni to Moheli. Turned out to be a pretty ...            NaN   \n1       Moroni to Anjouan. It is a very small airline...           E120   \n2        Anjouan to Dzaoudzi. A very small airline an...  Embraer E120    \n3        Please do a favor yourself and do not fly wi...            NaN   \n4       Do not book a flight with this airline! My fr...            NaN   \n...                                                  ...            ...   \n23166   Bangkok to Tokyo. I’ve flown many low cost ai...            NaN   \n23167    Avoid at all costs. I booked flights to go f...            NaN   \n23168    Flight was leaving at 23.15 and after an hou...            NaN   \n23169   Zipair is JAL’s budget airline. They don’t ha...     Dreamliner   \n23170    They lied about connection in Narita and we ...            NaN   \n\n      Type Of Traveller       Seat Type                             Route  \\\n0          Solo Leisure   Economy Class                  Moroni to Moheli   \n1          Solo Leisure   Economy Class                 Moroni to Anjouan   \n2          Solo Leisure   Economy Class               Anjouan to Dzaoudzi   \n3          Solo Leisure   Economy Class             Frankfurt to Pristina   \n4        Couple Leisure   Economy Class  Sofia to Amsterdam via Ljubljana   \n...                 ...             ...                               ...   \n23166    Couple Leisure   Economy Class                  Bangkok to Tokyo   \n23167      Solo Leisure   Economy Class                Singapore to Tokyo   \n23168          Business   Economy Class                  Bangkok to Tokyo   \n23169          Business  Business Class              Tokyo to Los Angeles   \n23170      Solo Leisure   Economy Class                Singapore to Tokyo   \n\n           Date Flown  Seat Comfort  Cabin Staff Service  Food & Beverages  \\\n0       November 2019           4.0                  5.0               4.0   \n1           June 2019           2.0                  2.0               1.0   \n2           June 2019           2.0                  1.0               1.0   \n3      September 2019           1.0                  1.0               NaN   \n4      September 2019           1.0                  1.0               1.0   \n...               ...           ...                  ...               ...   \n23166       June 2022           2.0                  1.0               NaN   \n23167       June 2022           NaN                  NaN               NaN   \n23168        May 2022           2.0                  4.0               2.0   \n23169        May 2022           3.0                  4.0               3.0   \n23170        May 2022           NaN                  NaN               NaN   \n\n       Ground Service  Inflight Entertainment  Wifi & Connectivity  \\\n0                 4.0                     NaN                  NaN   \n1                 1.0                     NaN                  NaN   \n2                 1.0                     NaN                  NaN   \n3                 1.0                     NaN                  NaN   \n4                 1.0                     1.0                  1.0   \n...               ...                     ...                  ...   \n23166             1.0                     1.0                  1.0   \n23167             NaN                     NaN                  NaN   \n23168             1.0                     NaN                  NaN   \n23169             1.0                     2.0                  5.0   \n23170             1.0                     NaN                  NaN   \n\n       Value For Money Recommended  \n0                  3.0         yes  \n1                  2.0          no  \n2                  2.0          no  \n3                  1.0          no  \n4                  1.0          no  \n...                ...         ...  \n23166              1.0          no  \n23167              1.0          no  \n23168              2.0          no  \n23169              5.0         yes  \n23170              1.0          no  \n\n[23171 rows x 20 columns]",
      "text/html": "<div>\n<style scoped>\n    .dataframe tbody tr th:only-of-type {\n        vertical-align: middle;\n    }\n\n    .dataframe tbody tr th {\n        vertical-align: top;\n    }\n\n    .dataframe thead th {\n        text-align: right;\n    }\n</style>\n<table border=\"1\" class=\"dataframe\">\n  <thead>\n    <tr style=\"text-align: right;\">\n      <th></th>\n      <th>Unnamed: 0</th>\n      <th>Airline Name</th>\n      <th>Overall_Rating</th>\n      <th>Review_Title</th>\n      <th>Review Date</th>\n      <th>Verified</th>\n      <th>Review</th>\n      <th>Aircraft</th>\n      <th>Type Of Traveller</th>\n      <th>Seat Type</th>\n      <th>Route</th>\n      <th>Date Flown</th>\n      <th>Seat Comfort</th>\n      <th>Cabin Staff Service</th>\n      <th>Food &amp; Beverages</th>\n      <th>Ground Service</th>\n      <th>Inflight Entertainment</th>\n      <th>Wifi &amp; Connectivity</th>\n      <th>Value For Money</th>\n      <th>Recommended</th>\n    </tr>\n  </thead>\n  <tbody>\n    <tr>\n      <th>0</th>\n      <td>0</td>\n      <td>AB Aviation</td>\n      <td>9</td>\n      <td>\"pretty decent airline\"</td>\n      <td>11th November 2019</td>\n      <td>True</td>\n      <td>Moroni to Moheli. Turned out to be a pretty ...</td>\n      <td>NaN</td>\n      <td>Solo Leisure</td>\n      <td>Economy Class</td>\n      <td>Moroni to Moheli</td>\n      <td>November 2019</td>\n      <td>4.0</td>\n      <td>5.0</td>\n      <td>4.0</td>\n      <td>4.0</td>\n      <td>NaN</td>\n      <td>NaN</td>\n      <td>3.0</td>\n      <td>yes</td>\n    </tr>\n    <tr>\n      <th>1</th>\n      <td>1</td>\n      <td>AB Aviation</td>\n      <td>1</td>\n      <td>\"Not a good airline\"</td>\n      <td>25th June 2019</td>\n      <td>True</td>\n      <td>Moroni to Anjouan. It is a very small airline...</td>\n      <td>E120</td>\n      <td>Solo Leisure</td>\n      <td>Economy Class</td>\n      <td>Moroni to Anjouan</td>\n      <td>June 2019</td>\n      <td>2.0</td>\n      <td>2.0</td>\n      <td>1.0</td>\n      <td>1.0</td>\n      <td>NaN</td>\n      <td>NaN</td>\n      <td>2.0</td>\n      <td>no</td>\n    </tr>\n    <tr>\n      <th>2</th>\n      <td>2</td>\n      <td>AB Aviation</td>\n      <td>1</td>\n      <td>\"flight was fortunately short\"</td>\n      <td>25th June 2019</td>\n      <td>True</td>\n      <td>Anjouan to Dzaoudzi. A very small airline an...</td>\n      <td>Embraer E120</td>\n      <td>Solo Leisure</td>\n      <td>Economy Class</td>\n      <td>Anjouan to Dzaoudzi</td>\n      <td>June 2019</td>\n      <td>2.0</td>\n      <td>1.0</td>\n      <td>1.0</td>\n      <td>1.0</td>\n      <td>NaN</td>\n      <td>NaN</td>\n      <td>2.0</td>\n      <td>no</td>\n    </tr>\n    <tr>\n      <th>3</th>\n      <td>3</td>\n      <td>Adria Airways</td>\n      <td>1</td>\n      <td>\"I will never fly again with Adria\"</td>\n      <td>28th September 2019</td>\n      <td>False</td>\n      <td>Please do a favor yourself and do not fly wi...</td>\n      <td>NaN</td>\n      <td>Solo Leisure</td>\n      <td>Economy Class</td>\n      <td>Frankfurt to Pristina</td>\n      <td>September 2019</td>\n      <td>1.0</td>\n      <td>1.0</td>\n      <td>NaN</td>\n      <td>1.0</td>\n      <td>NaN</td>\n      <td>NaN</td>\n      <td>1.0</td>\n      <td>no</td>\n    </tr>\n    <tr>\n      <th>4</th>\n      <td>4</td>\n      <td>Adria Airways</td>\n      <td>1</td>\n      <td>\"it ruined our last days of holidays\"</td>\n      <td>24th September 2019</td>\n      <td>True</td>\n      <td>Do not book a flight with this airline! My fr...</td>\n      <td>NaN</td>\n      <td>Couple Leisure</td>\n      <td>Economy Class</td>\n      <td>Sofia to Amsterdam via Ljubljana</td>\n      <td>September 2019</td>\n      <td>1.0</td>\n      <td>1.0</td>\n      <td>1.0</td>\n      <td>1.0</td>\n      <td>1.0</td>\n      <td>1.0</td>\n      <td>1.0</td>\n      <td>no</td>\n    </tr>\n    <tr>\n      <th>...</th>\n      <td>...</td>\n      <td>...</td>\n      <td>...</td>\n      <td>...</td>\n      <td>...</td>\n      <td>...</td>\n      <td>...</td>\n      <td>...</td>\n      <td>...</td>\n      <td>...</td>\n      <td>...</td>\n      <td>...</td>\n      <td>...</td>\n      <td>...</td>\n      <td>...</td>\n      <td>...</td>\n      <td>...</td>\n      <td>...</td>\n      <td>...</td>\n      <td>...</td>\n    </tr>\n    <tr>\n      <th>23166</th>\n      <td>23166</td>\n      <td>ZIPAIR</td>\n      <td>1</td>\n      <td>\"customer service is terrible\"</td>\n      <td>5th July 2022</td>\n      <td>False</td>\n      <td>Bangkok to Tokyo. I’ve flown many low cost ai...</td>\n      <td>NaN</td>\n      <td>Couple Leisure</td>\n      <td>Economy Class</td>\n      <td>Bangkok to Tokyo</td>\n      <td>June 2022</td>\n      <td>2.0</td>\n      <td>1.0</td>\n      <td>NaN</td>\n      <td>1.0</td>\n      <td>1.0</td>\n      <td>1.0</td>\n      <td>1.0</td>\n      <td>no</td>\n    </tr>\n    <tr>\n      <th>23167</th>\n      <td>23167</td>\n      <td>ZIPAIR</td>\n      <td>1</td>\n      <td>\"Avoid at all costs\"</td>\n      <td>1st June 2022</td>\n      <td>True</td>\n      <td>Avoid at all costs. I booked flights to go f...</td>\n      <td>NaN</td>\n      <td>Solo Leisure</td>\n      <td>Economy Class</td>\n      <td>Singapore to Tokyo</td>\n      <td>June 2022</td>\n      <td>NaN</td>\n      <td>NaN</td>\n      <td>NaN</td>\n      <td>NaN</td>\n      <td>NaN</td>\n      <td>NaN</td>\n      <td>1.0</td>\n      <td>no</td>\n    </tr>\n    <tr>\n      <th>23168</th>\n      <td>23168</td>\n      <td>ZIPAIR</td>\n      <td>3</td>\n      <td>\"Will not recommend to anyone\"</td>\n      <td>31st May 2022</td>\n      <td>True</td>\n      <td>Flight was leaving at 23.15 and after an hou...</td>\n      <td>NaN</td>\n      <td>Business</td>\n      <td>Economy Class</td>\n      <td>Bangkok to Tokyo</td>\n      <td>May 2022</td>\n      <td>2.0</td>\n      <td>4.0</td>\n      <td>2.0</td>\n      <td>1.0</td>\n      <td>NaN</td>\n      <td>NaN</td>\n      <td>2.0</td>\n      <td>no</td>\n    </tr>\n    <tr>\n      <th>23169</th>\n      <td>23169</td>\n      <td>ZIPAIR</td>\n      <td>6</td>\n      <td>\"It was immaculately clean\"</td>\n      <td>23rd May 2022</td>\n      <td>True</td>\n      <td>Zipair is JAL’s budget airline. They don’t ha...</td>\n      <td>Dreamliner</td>\n      <td>Business</td>\n      <td>Business Class</td>\n      <td>Tokyo to Los Angeles</td>\n      <td>May 2022</td>\n      <td>3.0</td>\n      <td>4.0</td>\n      <td>3.0</td>\n      <td>1.0</td>\n      <td>2.0</td>\n      <td>5.0</td>\n      <td>5.0</td>\n      <td>yes</td>\n    </tr>\n    <tr>\n      <th>23170</th>\n      <td>23170</td>\n      <td>ZIPAIR</td>\n      <td>1</td>\n      <td>\"lost all of our money with no refund\"</td>\n      <td>20th May 2022</td>\n      <td>True</td>\n      <td>They lied about connection in Narita and we ...</td>\n      <td>NaN</td>\n      <td>Solo Leisure</td>\n      <td>Economy Class</td>\n      <td>Singapore to Tokyo</td>\n      <td>May 2022</td>\n      <td>NaN</td>\n      <td>NaN</td>\n      <td>NaN</td>\n      <td>1.0</td>\n      <td>NaN</td>\n      <td>NaN</td>\n      <td>1.0</td>\n      <td>no</td>\n    </tr>\n  </tbody>\n</table>\n<p>23171 rows × 20 columns</p>\n</div>"
     },
     "execution_count": 2,
     "metadata": {},
     "output_type": "execute_result"
    }
   ],
   "source": [
    "df = pd.read_csv('Airline_review.csv')\n",
    "df"
   ],
   "metadata": {
    "collapsed": false,
    "ExecuteTime": {
     "end_time": "2023-09-05T10:24:08.896502300Z",
     "start_time": "2023-09-05T10:24:08.628108700Z"
    }
   },
   "id": "41fbe192a1f58e54"
  },
  {
   "cell_type": "code",
   "execution_count": 3,
   "outputs": [
    {
     "data": {
      "text/plain": "(23171, 20)"
     },
     "execution_count": 3,
     "metadata": {},
     "output_type": "execute_result"
    }
   ],
   "source": [
    "df.shape"
   ],
   "metadata": {
    "collapsed": false,
    "ExecuteTime": {
     "end_time": "2023-09-05T10:59:47.214903900Z",
     "start_time": "2023-09-05T10:59:47.167444500Z"
    }
   },
   "id": "e44b8caeaf674100"
  },
  {
   "cell_type": "code",
   "execution_count": 8,
   "outputs": [
    {
     "data": {
      "text/plain": "       Unnamed: 0   Airline Name Overall_Rating  \\\n0               0    AB Aviation              9   \n1               1    AB Aviation              1   \n2               2    AB Aviation              1   \n3               3  Adria Airways              1   \n4               4  Adria Airways              1   \n...           ...            ...            ...   \n23166       23166         ZIPAIR              1   \n23167       23167         ZIPAIR              1   \n23168       23168         ZIPAIR              3   \n23169       23169         ZIPAIR              6   \n23170       23170         ZIPAIR              1   \n\n                                 Review_Title          Review Date  Verified  \\\n0                     \"pretty decent airline\"   11th November 2019      True   \n1                        \"Not a good airline\"       25th June 2019      True   \n2              \"flight was fortunately short\"       25th June 2019      True   \n3         \"I will never fly again with Adria\"  28th September 2019     False   \n4       \"it ruined our last days of holidays\"  24th September 2019      True   \n...                                       ...                  ...       ...   \n23166          \"customer service is terrible\"        5th July 2022     False   \n23167                    \"Avoid at all costs\"        1st June 2022      True   \n23168          \"Will not recommend to anyone\"        31st May 2022      True   \n23169             \"It was immaculately clean\"        23rd May 2022      True   \n23170  \"lost all of our money with no refund\"        20th May 2022      True   \n\n                                                  Review       Aircraft  \\\n0        Moroni to Moheli. Turned out to be a pretty ...            NaN   \n1       Moroni to Anjouan. It is a very small airline...           E120   \n2        Anjouan to Dzaoudzi. A very small airline an...  Embraer E120    \n3        Please do a favor yourself and do not fly wi...            NaN   \n4       Do not book a flight with this airline! My fr...            NaN   \n...                                                  ...            ...   \n23166   Bangkok to Tokyo. I’ve flown many low cost ai...            NaN   \n23167    Avoid at all costs. I booked flights to go f...            NaN   \n23168    Flight was leaving at 23.15 and after an hou...            NaN   \n23169   Zipair is JAL’s budget airline. They don’t ha...     Dreamliner   \n23170    They lied about connection in Narita and we ...            NaN   \n\n      Type Of Traveller       Seat Type  ...      Date Flown Seat Comfort  \\\n0          Solo Leisure   Economy Class  ...   November 2019          4.0   \n1          Solo Leisure   Economy Class  ...       June 2019          2.0   \n2          Solo Leisure   Economy Class  ...       June 2019          2.0   \n3          Solo Leisure   Economy Class  ...  September 2019          1.0   \n4        Couple Leisure   Economy Class  ...  September 2019          1.0   \n...                 ...             ...  ...             ...          ...   \n23166    Couple Leisure   Economy Class  ...       June 2022          2.0   \n23167      Solo Leisure   Economy Class  ...       June 2022          NaN   \n23168          Business   Economy Class  ...        May 2022          2.0   \n23169          Business  Business Class  ...        May 2022          3.0   \n23170      Solo Leisure   Economy Class  ...        May 2022          NaN   \n\n       Cabin Staff Service  Food & Beverages  Ground Service  \\\n0                      5.0               4.0             4.0   \n1                      2.0               1.0             1.0   \n2                      1.0               1.0             1.0   \n3                      1.0               NaN             1.0   \n4                      1.0               1.0             1.0   \n...                    ...               ...             ...   \n23166                  1.0               NaN             1.0   \n23167                  NaN               NaN             NaN   \n23168                  4.0               2.0             1.0   \n23169                  4.0               3.0             1.0   \n23170                  NaN               NaN             1.0   \n\n       Inflight Entertainment  Wifi & Connectivity  Value For Money  \\\n0                         NaN                  NaN              3.0   \n1                         NaN                  NaN              2.0   \n2                         NaN                  NaN              2.0   \n3                         NaN                  NaN              1.0   \n4                         1.0                  1.0              1.0   \n...                       ...                  ...              ...   \n23166                     1.0                  1.0              1.0   \n23167                     NaN                  NaN              1.0   \n23168                     NaN                  NaN              2.0   \n23169                     2.0                  5.0              5.0   \n23170                     NaN                  NaN              1.0   \n\n       Recommended  Username  \n0              yes  GMWPHXQN  \n1               no  WH7YMLOR  \n2               no  F5B4DGPF  \n3               no  CAXU6352  \n4               no  FY29R839  \n...            ...       ...  \n23166           no  KUCPE5YD  \n23167           no  G4WQP5S9  \n23168           no  DAOPTLBP  \n23169          yes  H6RLO7JX  \n23170           no  CSA6RBK3  \n\n[23171 rows x 21 columns]",
      "text/html": "<div>\n<style scoped>\n    .dataframe tbody tr th:only-of-type {\n        vertical-align: middle;\n    }\n\n    .dataframe tbody tr th {\n        vertical-align: top;\n    }\n\n    .dataframe thead th {\n        text-align: right;\n    }\n</style>\n<table border=\"1\" class=\"dataframe\">\n  <thead>\n    <tr style=\"text-align: right;\">\n      <th></th>\n      <th>Unnamed: 0</th>\n      <th>Airline Name</th>\n      <th>Overall_Rating</th>\n      <th>Review_Title</th>\n      <th>Review Date</th>\n      <th>Verified</th>\n      <th>Review</th>\n      <th>Aircraft</th>\n      <th>Type Of Traveller</th>\n      <th>Seat Type</th>\n      <th>...</th>\n      <th>Date Flown</th>\n      <th>Seat Comfort</th>\n      <th>Cabin Staff Service</th>\n      <th>Food &amp; Beverages</th>\n      <th>Ground Service</th>\n      <th>Inflight Entertainment</th>\n      <th>Wifi &amp; Connectivity</th>\n      <th>Value For Money</th>\n      <th>Recommended</th>\n      <th>Username</th>\n    </tr>\n  </thead>\n  <tbody>\n    <tr>\n      <th>0</th>\n      <td>0</td>\n      <td>AB Aviation</td>\n      <td>9</td>\n      <td>\"pretty decent airline\"</td>\n      <td>11th November 2019</td>\n      <td>True</td>\n      <td>Moroni to Moheli. Turned out to be a pretty ...</td>\n      <td>NaN</td>\n      <td>Solo Leisure</td>\n      <td>Economy Class</td>\n      <td>...</td>\n      <td>November 2019</td>\n      <td>4.0</td>\n      <td>5.0</td>\n      <td>4.0</td>\n      <td>4.0</td>\n      <td>NaN</td>\n      <td>NaN</td>\n      <td>3.0</td>\n      <td>yes</td>\n      <td>GMWPHXQN</td>\n    </tr>\n    <tr>\n      <th>1</th>\n      <td>1</td>\n      <td>AB Aviation</td>\n      <td>1</td>\n      <td>\"Not a good airline\"</td>\n      <td>25th June 2019</td>\n      <td>True</td>\n      <td>Moroni to Anjouan. It is a very small airline...</td>\n      <td>E120</td>\n      <td>Solo Leisure</td>\n      <td>Economy Class</td>\n      <td>...</td>\n      <td>June 2019</td>\n      <td>2.0</td>\n      <td>2.0</td>\n      <td>1.0</td>\n      <td>1.0</td>\n      <td>NaN</td>\n      <td>NaN</td>\n      <td>2.0</td>\n      <td>no</td>\n      <td>WH7YMLOR</td>\n    </tr>\n    <tr>\n      <th>2</th>\n      <td>2</td>\n      <td>AB Aviation</td>\n      <td>1</td>\n      <td>\"flight was fortunately short\"</td>\n      <td>25th June 2019</td>\n      <td>True</td>\n      <td>Anjouan to Dzaoudzi. A very small airline an...</td>\n      <td>Embraer E120</td>\n      <td>Solo Leisure</td>\n      <td>Economy Class</td>\n      <td>...</td>\n      <td>June 2019</td>\n      <td>2.0</td>\n      <td>1.0</td>\n      <td>1.0</td>\n      <td>1.0</td>\n      <td>NaN</td>\n      <td>NaN</td>\n      <td>2.0</td>\n      <td>no</td>\n      <td>F5B4DGPF</td>\n    </tr>\n    <tr>\n      <th>3</th>\n      <td>3</td>\n      <td>Adria Airways</td>\n      <td>1</td>\n      <td>\"I will never fly again with Adria\"</td>\n      <td>28th September 2019</td>\n      <td>False</td>\n      <td>Please do a favor yourself and do not fly wi...</td>\n      <td>NaN</td>\n      <td>Solo Leisure</td>\n      <td>Economy Class</td>\n      <td>...</td>\n      <td>September 2019</td>\n      <td>1.0</td>\n      <td>1.0</td>\n      <td>NaN</td>\n      <td>1.0</td>\n      <td>NaN</td>\n      <td>NaN</td>\n      <td>1.0</td>\n      <td>no</td>\n      <td>CAXU6352</td>\n    </tr>\n    <tr>\n      <th>4</th>\n      <td>4</td>\n      <td>Adria Airways</td>\n      <td>1</td>\n      <td>\"it ruined our last days of holidays\"</td>\n      <td>24th September 2019</td>\n      <td>True</td>\n      <td>Do not book a flight with this airline! My fr...</td>\n      <td>NaN</td>\n      <td>Couple Leisure</td>\n      <td>Economy Class</td>\n      <td>...</td>\n      <td>September 2019</td>\n      <td>1.0</td>\n      <td>1.0</td>\n      <td>1.0</td>\n      <td>1.0</td>\n      <td>1.0</td>\n      <td>1.0</td>\n      <td>1.0</td>\n      <td>no</td>\n      <td>FY29R839</td>\n    </tr>\n    <tr>\n      <th>...</th>\n      <td>...</td>\n      <td>...</td>\n      <td>...</td>\n      <td>...</td>\n      <td>...</td>\n      <td>...</td>\n      <td>...</td>\n      <td>...</td>\n      <td>...</td>\n      <td>...</td>\n      <td>...</td>\n      <td>...</td>\n      <td>...</td>\n      <td>...</td>\n      <td>...</td>\n      <td>...</td>\n      <td>...</td>\n      <td>...</td>\n      <td>...</td>\n      <td>...</td>\n      <td>...</td>\n    </tr>\n    <tr>\n      <th>23166</th>\n      <td>23166</td>\n      <td>ZIPAIR</td>\n      <td>1</td>\n      <td>\"customer service is terrible\"</td>\n      <td>5th July 2022</td>\n      <td>False</td>\n      <td>Bangkok to Tokyo. I’ve flown many low cost ai...</td>\n      <td>NaN</td>\n      <td>Couple Leisure</td>\n      <td>Economy Class</td>\n      <td>...</td>\n      <td>June 2022</td>\n      <td>2.0</td>\n      <td>1.0</td>\n      <td>NaN</td>\n      <td>1.0</td>\n      <td>1.0</td>\n      <td>1.0</td>\n      <td>1.0</td>\n      <td>no</td>\n      <td>KUCPE5YD</td>\n    </tr>\n    <tr>\n      <th>23167</th>\n      <td>23167</td>\n      <td>ZIPAIR</td>\n      <td>1</td>\n      <td>\"Avoid at all costs\"</td>\n      <td>1st June 2022</td>\n      <td>True</td>\n      <td>Avoid at all costs. I booked flights to go f...</td>\n      <td>NaN</td>\n      <td>Solo Leisure</td>\n      <td>Economy Class</td>\n      <td>...</td>\n      <td>June 2022</td>\n      <td>NaN</td>\n      <td>NaN</td>\n      <td>NaN</td>\n      <td>NaN</td>\n      <td>NaN</td>\n      <td>NaN</td>\n      <td>1.0</td>\n      <td>no</td>\n      <td>G4WQP5S9</td>\n    </tr>\n    <tr>\n      <th>23168</th>\n      <td>23168</td>\n      <td>ZIPAIR</td>\n      <td>3</td>\n      <td>\"Will not recommend to anyone\"</td>\n      <td>31st May 2022</td>\n      <td>True</td>\n      <td>Flight was leaving at 23.15 and after an hou...</td>\n      <td>NaN</td>\n      <td>Business</td>\n      <td>Economy Class</td>\n      <td>...</td>\n      <td>May 2022</td>\n      <td>2.0</td>\n      <td>4.0</td>\n      <td>2.0</td>\n      <td>1.0</td>\n      <td>NaN</td>\n      <td>NaN</td>\n      <td>2.0</td>\n      <td>no</td>\n      <td>DAOPTLBP</td>\n    </tr>\n    <tr>\n      <th>23169</th>\n      <td>23169</td>\n      <td>ZIPAIR</td>\n      <td>6</td>\n      <td>\"It was immaculately clean\"</td>\n      <td>23rd May 2022</td>\n      <td>True</td>\n      <td>Zipair is JAL’s budget airline. They don’t ha...</td>\n      <td>Dreamliner</td>\n      <td>Business</td>\n      <td>Business Class</td>\n      <td>...</td>\n      <td>May 2022</td>\n      <td>3.0</td>\n      <td>4.0</td>\n      <td>3.0</td>\n      <td>1.0</td>\n      <td>2.0</td>\n      <td>5.0</td>\n      <td>5.0</td>\n      <td>yes</td>\n      <td>H6RLO7JX</td>\n    </tr>\n    <tr>\n      <th>23170</th>\n      <td>23170</td>\n      <td>ZIPAIR</td>\n      <td>1</td>\n      <td>\"lost all of our money with no refund\"</td>\n      <td>20th May 2022</td>\n      <td>True</td>\n      <td>They lied about connection in Narita and we ...</td>\n      <td>NaN</td>\n      <td>Solo Leisure</td>\n      <td>Economy Class</td>\n      <td>...</td>\n      <td>May 2022</td>\n      <td>NaN</td>\n      <td>NaN</td>\n      <td>NaN</td>\n      <td>1.0</td>\n      <td>NaN</td>\n      <td>NaN</td>\n      <td>1.0</td>\n      <td>no</td>\n      <td>CSA6RBK3</td>\n    </tr>\n  </tbody>\n</table>\n<p>23171 rows × 21 columns</p>\n</div>"
     },
     "execution_count": 8,
     "metadata": {},
     "output_type": "execute_result"
    }
   ],
   "source": [
    "# 生成随机用户名的函数\n",
    "import random\n",
    "import string\n",
    "\n",
    "\n",
    "def generate_username():\n",
    "    while True:\n",
    "        # 生成一个随机用户名，可以根据需要自定义生成规则\n",
    "        username = random.choice(string.ascii_uppercase)\n",
    "        username += ''.join(random.choice(string.ascii_uppercase + '23456789') for _ in range(7))\n",
    "\n",
    "        # 检查用户名是否已经存在\n",
    "        if username not in used_usernames:\n",
    "            used_usernames.add(username)\n",
    "            return username\n",
    "\n",
    "\n",
    "used_usernames = set()\n",
    "\n",
    "# 为每一行添加用户名列\n",
    "df['Username'] = [generate_username() for _ in range(len(df))]\n",
    "df"
   ],
   "metadata": {
    "collapsed": false,
    "ExecuteTime": {
     "end_time": "2023-09-05T11:11:59.299416900Z",
     "start_time": "2023-09-05T11:11:59.171835400Z"
    }
   },
   "id": "93c9980e2d98cda8"
  },
  {
   "cell_type": "code",
   "execution_count": 17,
   "outputs": [
    {
     "name": "stdout",
     "output_type": "stream",
     "text": [
      "<class 'pandas.core.frame.DataFrame'>\n",
      "RangeIndex: 23171 entries, 0 to 23170\n",
      "Data columns (total 21 columns):\n",
      " #   Column                  Non-Null Count  Dtype  \n",
      "---  ------                  --------------  -----  \n",
      " 0   Unnamed: 0              23171 non-null  int64  \n",
      " 1   Airline Name            23171 non-null  object \n",
      " 2   Overall_Rating          23171 non-null  object \n",
      " 3   Review_Title            23171 non-null  object \n",
      " 4   Review Date             23171 non-null  object \n",
      " 5   Verified                23171 non-null  bool   \n",
      " 6   Review                  23171 non-null  object \n",
      " 7   Aircraft                7129 non-null   object \n",
      " 8   Type Of Traveller       19433 non-null  object \n",
      " 9   Seat Type               22075 non-null  object \n",
      " 10  Route                   19343 non-null  object \n",
      " 11  Date Flown              19417 non-null  object \n",
      " 12  Seat Comfort            19016 non-null  float64\n",
      " 13  Cabin Staff Service     18911 non-null  float64\n",
      " 14  Food & Beverages        14500 non-null  float64\n",
      " 15  Ground Service          18378 non-null  float64\n",
      " 16  Inflight Entertainment  10829 non-null  float64\n",
      " 17  Wifi & Connectivity     5920 non-null   float64\n",
      " 18  Value For Money         22105 non-null  float64\n",
      " 19  Recommended             23171 non-null  object \n",
      " 20  Username                23171 non-null  object \n",
      "dtypes: bool(1), float64(7), int64(1), object(12)\n",
      "memory usage: 3.6+ MB\n"
     ]
    }
   ],
   "source": [
    "df.info()"
   ],
   "metadata": {
    "collapsed": false,
    "ExecuteTime": {
     "end_time": "2023-09-05T11:28:20.700221100Z",
     "start_time": "2023-09-05T11:28:20.653336700Z"
    }
   },
   "id": "74e724874e9298f4"
  },
  {
   "cell_type": "code",
   "execution_count": 12,
   "outputs": [],
   "source": [
    "new_df = df.dropna(subset = ['Username', 'Route', 'Date Flown', 'Airline Name'], inplace = False)"
   ],
   "metadata": {
    "collapsed": false,
    "ExecuteTime": {
     "end_time": "2023-09-05T11:27:32.672984400Z",
     "start_time": "2023-09-05T11:27:32.649839600Z"
    }
   },
   "id": "5e0dd55468bbdce"
  },
  {
   "cell_type": "code",
   "execution_count": 18,
   "outputs": [
    {
     "name": "stdout",
     "output_type": "stream",
     "text": [
      "<class 'pandas.core.frame.DataFrame'>\n",
      "Index: 19331 entries, 0 to 23170\n",
      "Data columns (total 21 columns):\n",
      " #   Column                  Non-Null Count  Dtype  \n",
      "---  ------                  --------------  -----  \n",
      " 0   Unnamed: 0              19331 non-null  int64  \n",
      " 1   Airline Name            19331 non-null  object \n",
      " 2   Overall_Rating          19331 non-null  object \n",
      " 3   Review_Title            19331 non-null  object \n",
      " 4   Review Date             19331 non-null  object \n",
      " 5   Verified                19331 non-null  bool   \n",
      " 6   Review                  19331 non-null  object \n",
      " 7   Aircraft                7116 non-null   object \n",
      " 8   Type Of Traveller       19330 non-null  object \n",
      " 9   Seat Type               19328 non-null  object \n",
      " 10  Route                   19331 non-null  object \n",
      " 11  Date Flown              19331 non-null  object \n",
      " 12  Seat Comfort            17562 non-null  float64\n",
      " 13  Cabin Staff Service     17457 non-null  float64\n",
      " 14  Food & Beverages        13067 non-null  float64\n",
      " 15  Ground Service          18308 non-null  float64\n",
      " 16  Inflight Entertainment  9436 non-null   float64\n",
      " 17  Wifi & Connectivity     5892 non-null   float64\n",
      " 18  Value For Money         19330 non-null  float64\n",
      " 19  Recommended             19331 non-null  object \n",
      " 20  Username                19331 non-null  object \n",
      "dtypes: bool(1), float64(7), int64(1), object(12)\n",
      "memory usage: 3.1+ MB\n"
     ]
    }
   ],
   "source": [
    "new_df.info()"
   ],
   "metadata": {
    "collapsed": false,
    "ExecuteTime": {
     "end_time": "2023-09-05T11:28:23.928575800Z",
     "start_time": "2023-09-05T11:28:23.897327800Z"
    }
   },
   "id": "d57647df6f37a502"
  },
  {
   "cell_type": "code",
   "execution_count": 19,
   "outputs": [
    {
     "data": {
      "text/plain": "pandas.core.frame.DataFrame"
     },
     "execution_count": 19,
     "metadata": {},
     "output_type": "execute_result"
    }
   ],
   "source": [
    "type(new_df)"
   ],
   "metadata": {
    "collapsed": false,
    "ExecuteTime": {
     "end_time": "2023-09-05T11:37:16.759962Z",
     "start_time": "2023-09-05T11:37:16.705446600Z"
    }
   },
   "id": "92a193bfdf7cd3c3"
  },
  {
   "cell_type": "code",
   "execution_count": 22,
   "outputs": [
    {
     "data": {
      "text/plain": "False"
     },
     "execution_count": 22,
     "metadata": {},
     "output_type": "execute_result"
    }
   ],
   "source": [
    "new_df['Verified'][100]"
   ],
   "metadata": {
    "collapsed": false,
    "ExecuteTime": {
     "end_time": "2023-09-05T11:38:26.973317Z",
     "start_time": "2023-09-05T11:38:26.956947900Z"
    }
   },
   "id": "39e1786f81b39881"
  },
  {
   "cell_type": "code",
   "execution_count": 23,
   "outputs": [],
   "source": [
    "import redis"
   ],
   "metadata": {
    "collapsed": false,
    "ExecuteTime": {
     "end_time": "2023-09-05T11:45:55.088241900Z",
     "start_time": "2023-09-05T11:45:54.989930600Z"
    }
   },
   "id": "e9da30c4591634c6"
  },
  {
   "cell_type": "code",
   "execution_count": 38,
   "outputs": [],
   "source": [
    "# 创建一个Redis连接池\n",
    "pool = redis.ConnectionPool(\n",
    "    host = '10.25.168.127',  # Redis服务器地址\n",
    "    port = 6379,  # Redis端口号\n",
    "    db = 15,  # Redis数据库编号\n",
    "    password = None,  # 如果需要密码，设置密码\n",
    "    max_connections = 10  # 连接池中的最大连接数\n",
    ")\n",
    "\n",
    "# 使用连接池创建Redis连接\n",
    "redis_client = redis.StrictRedis(connection_pool = pool)"
   ],
   "metadata": {
    "collapsed": false,
    "ExecuteTime": {
     "end_time": "2023-09-05T12:44:34.128054900Z",
     "start_time": "2023-09-05T12:44:34.110344900Z"
    }
   },
   "id": "7d177a735b66d85a"
  },
  {
   "cell_type": "code",
   "execution_count": 39,
   "outputs": [
    {
     "data": {
      "text/plain": "{'redis_version': '3.2.12',\n 'redis_git_sha1': 0,\n 'redis_git_dirty': 0,\n 'redis_build_id': '7897e7d0e13773f',\n 'redis_mode': 'standalone',\n 'os': 'Linux 3.10.0-1160.71.1.el7.x86_64 x86_64',\n 'arch_bits': 64,\n 'multiplexing_api': 'epoll',\n 'gcc_version': '4.8.5',\n 'process_id': 7382,\n 'run_id': 'e6503af2754b2a9de0d3dc34cf09f1b3aebc3e42',\n 'tcp_port': 6379,\n 'uptime_in_seconds': 10836,\n 'uptime_in_days': 0,\n 'hz': 10,\n 'lru_clock': 16196275,\n 'executable': '/usr/bin/redis-server',\n 'config_file': '/etc/redis.conf',\n 'connected_clients': 3,\n 'client_longest_output_list': 0,\n 'client_biggest_input_buf': 0,\n 'blocked_clients': 0,\n 'used_memory': 854384,\n 'used_memory_human': '834.36K',\n 'used_memory_rss': 6057984,\n 'used_memory_rss_human': '5.78M',\n 'used_memory_peak': 931968,\n 'used_memory_peak_human': '910.12K',\n 'total_system_memory': 8131878912,\n 'total_system_memory_human': '7.57G',\n 'used_memory_lua': 37888,\n 'used_memory_lua_human': '37.00K',\n 'maxmemory': 0,\n 'maxmemory_human': '0B',\n 'maxmemory_policy': 'noeviction',\n 'mem_fragmentation_ratio': 7.09,\n 'mem_allocator': 'jemalloc-3.6.0',\n 'loading': 0,\n 'rdb_changes_since_last_save': 0,\n 'rdb_bgsave_in_progress': 0,\n 'rdb_last_save_time': 1693917855,\n 'rdb_last_bgsave_status': 'ok',\n 'rdb_last_bgsave_time_sec': 0,\n 'rdb_current_bgsave_time_sec': -1,\n 'aof_enabled': 0,\n 'aof_rewrite_in_progress': 0,\n 'aof_rewrite_scheduled': 0,\n 'aof_last_rewrite_time_sec': -1,\n 'aof_current_rewrite_time_sec': -1,\n 'aof_last_bgrewrite_status': 'ok',\n 'aof_last_write_status': 'ok',\n 'total_connections_received': 52,\n 'total_commands_processed': 1192,\n 'instantaneous_ops_per_sec': 0,\n 'total_net_input_bytes': 35970,\n 'total_net_output_bytes': 117647,\n 'instantaneous_input_kbps': 0.0,\n 'instantaneous_output_kbps': 0.0,\n 'rejected_connections': 0,\n 'sync_full': 0,\n 'sync_partial_ok': 0,\n 'sync_partial_err': 0,\n 'expired_keys': 0,\n 'evicted_keys': 0,\n 'keyspace_hits': 18,\n 'keyspace_misses': 0,\n 'pubsub_channels': 0,\n 'pubsub_patterns': 0,\n 'latest_fork_usec': 1148,\n 'migrate_cached_sockets': 0,\n 'role': 'master',\n 'connected_slaves': 0,\n 'master_repl_offset': 0,\n 'repl_backlog_active': 0,\n 'repl_backlog_size': 1048576,\n 'repl_backlog_first_byte_offset': 0,\n 'repl_backlog_histlen': 0,\n 'used_cpu_sys': 6.42,\n 'used_cpu_user': 2.86,\n 'used_cpu_sys_children': 0.03,\n 'used_cpu_user_children': 0.0,\n 'cluster_enabled': 0}"
     },
     "execution_count": 39,
     "metadata": {},
     "output_type": "execute_result"
    }
   ],
   "source": [
    "redis_client.info()"
   ],
   "metadata": {
    "collapsed": false,
    "ExecuteTime": {
     "end_time": "2023-09-05T12:44:37.295994300Z",
     "start_time": "2023-09-05T12:44:37.199124200Z"
    }
   },
   "id": "5d4085324ea7573c"
  },
  {
   "cell_type": "code",
   "execution_count": 40,
   "outputs": [
    {
     "data": {
      "text/plain": "[]"
     },
     "execution_count": 40,
     "metadata": {},
     "output_type": "execute_result"
    }
   ],
   "source": [
    "redis_client.keys()"
   ],
   "metadata": {
    "collapsed": false,
    "ExecuteTime": {
     "end_time": "2023-09-05T12:44:38.839350700Z",
     "start_time": "2023-09-05T12:44:38.806011900Z"
    }
   },
   "id": "ec48ccfb31ed8736"
  },
  {
   "cell_type": "code",
   "execution_count": 27,
   "outputs": [
    {
     "data": {
      "text/plain": "pandas.core.series.Series"
     },
     "execution_count": 27,
     "metadata": {},
     "output_type": "execute_result"
    }
   ],
   "source": [
    "type(new_df['Airline Name'])"
   ],
   "metadata": {
    "collapsed": false,
    "ExecuteTime": {
     "end_time": "2023-09-05T12:02:35.372560100Z",
     "start_time": "2023-09-05T12:02:35.294570300Z"
    }
   },
   "id": "31cb52545f951541"
  },
  {
   "cell_type": "code",
   "execution_count": 31,
   "outputs": [
    {
     "data": {
      "text/plain": "      PASSENGER_ID  PASSENGER_VERIFIED PASSENGER_TRAVEL_TYPE  \\\n0         GMWPHXQN                True          Solo Leisure   \n1         WH7YMLOR                True          Solo Leisure   \n2         F5B4DGPF                True          Solo Leisure   \n3         CAXU6352               False          Solo Leisure   \n4         FY29R839                True        Couple Leisure   \n...            ...                 ...                   ...   \n23166     KUCPE5YD               False        Couple Leisure   \n23167     G4WQP5S9                True          Solo Leisure   \n23168     DAOPTLBP                True              Business   \n23169     H6RLO7JX                True              Business   \n23170     CSA6RBK3                True          Solo Leisure   \n\n      PASSENGER_SEAT_TYPE  \n0           Economy Class  \n1           Economy Class  \n2           Economy Class  \n3           Economy Class  \n4           Economy Class  \n...                   ...  \n23166       Economy Class  \n23167       Economy Class  \n23168       Economy Class  \n23169      Business Class  \n23170       Economy Class  \n\n[19331 rows x 4 columns]",
      "text/html": "<div>\n<style scoped>\n    .dataframe tbody tr th:only-of-type {\n        vertical-align: middle;\n    }\n\n    .dataframe tbody tr th {\n        vertical-align: top;\n    }\n\n    .dataframe thead th {\n        text-align: right;\n    }\n</style>\n<table border=\"1\" class=\"dataframe\">\n  <thead>\n    <tr style=\"text-align: right;\">\n      <th></th>\n      <th>PASSENGER_ID</th>\n      <th>PASSENGER_VERIFIED</th>\n      <th>PASSENGER_TRAVEL_TYPE</th>\n      <th>PASSENGER_SEAT_TYPE</th>\n    </tr>\n  </thead>\n  <tbody>\n    <tr>\n      <th>0</th>\n      <td>GMWPHXQN</td>\n      <td>True</td>\n      <td>Solo Leisure</td>\n      <td>Economy Class</td>\n    </tr>\n    <tr>\n      <th>1</th>\n      <td>WH7YMLOR</td>\n      <td>True</td>\n      <td>Solo Leisure</td>\n      <td>Economy Class</td>\n    </tr>\n    <tr>\n      <th>2</th>\n      <td>F5B4DGPF</td>\n      <td>True</td>\n      <td>Solo Leisure</td>\n      <td>Economy Class</td>\n    </tr>\n    <tr>\n      <th>3</th>\n      <td>CAXU6352</td>\n      <td>False</td>\n      <td>Solo Leisure</td>\n      <td>Economy Class</td>\n    </tr>\n    <tr>\n      <th>4</th>\n      <td>FY29R839</td>\n      <td>True</td>\n      <td>Couple Leisure</td>\n      <td>Economy Class</td>\n    </tr>\n    <tr>\n      <th>...</th>\n      <td>...</td>\n      <td>...</td>\n      <td>...</td>\n      <td>...</td>\n    </tr>\n    <tr>\n      <th>23166</th>\n      <td>KUCPE5YD</td>\n      <td>False</td>\n      <td>Couple Leisure</td>\n      <td>Economy Class</td>\n    </tr>\n    <tr>\n      <th>23167</th>\n      <td>G4WQP5S9</td>\n      <td>True</td>\n      <td>Solo Leisure</td>\n      <td>Economy Class</td>\n    </tr>\n    <tr>\n      <th>23168</th>\n      <td>DAOPTLBP</td>\n      <td>True</td>\n      <td>Business</td>\n      <td>Economy Class</td>\n    </tr>\n    <tr>\n      <th>23169</th>\n      <td>H6RLO7JX</td>\n      <td>True</td>\n      <td>Business</td>\n      <td>Business Class</td>\n    </tr>\n    <tr>\n      <th>23170</th>\n      <td>CSA6RBK3</td>\n      <td>True</td>\n      <td>Solo Leisure</td>\n      <td>Economy Class</td>\n    </tr>\n  </tbody>\n</table>\n<p>19331 rows × 4 columns</p>\n</div>"
     },
     "execution_count": 31,
     "metadata": {},
     "output_type": "execute_result"
    }
   ],
   "source": [
    "# passenger = pd.concat([new_df['Username'], new_df['Verified'], new_df['Type Of Traveller'], new_df['Seat Type']])\n",
    "passenger = pd.DataFrame()\n",
    "passenger['PASSENGER_ID'] = new_df['Username']\n",
    "passenger['PASSENGER_VERIFIED'] = new_df['Verified']\n",
    "passenger['PASSENGER_TRAVEL_TYPE'] = new_df['Type Of Traveller']\n",
    "passenger['PASSENGER_SEAT_TYPE'] = new_df['Seat Type']\n",
    "passenger"
   ],
   "metadata": {
    "collapsed": false,
    "ExecuteTime": {
     "end_time": "2023-09-05T12:24:52.070559400Z",
     "start_time": "2023-09-05T12:24:52.039310700Z"
    }
   },
   "id": "92ef28a37f8bf9c1"
  },
  {
   "cell_type": "code",
   "execution_count": 32,
   "outputs": [
    {
     "name": "stdout",
     "output_type": "stream",
     "text": [
      "<class 'pandas.core.frame.DataFrame'>\n",
      "Index: 19331 entries, 0 to 23170\n",
      "Data columns (total 4 columns):\n",
      " #   Column                 Non-Null Count  Dtype \n",
      "---  ------                 --------------  ----- \n",
      " 0   PASSENGER_ID           19331 non-null  object\n",
      " 1   PASSENGER_VERIFIED     19331 non-null  bool  \n",
      " 2   PASSENGER_TRAVEL_TYPE  19330 non-null  object\n",
      " 3   PASSENGER_SEAT_TYPE    19328 non-null  object\n",
      "dtypes: bool(1), object(3)\n",
      "memory usage: 1.1+ MB\n"
     ]
    }
   ],
   "source": [
    "passenger.info()"
   ],
   "metadata": {
    "collapsed": false,
    "ExecuteTime": {
     "end_time": "2023-09-05T12:25:06.382296300Z",
     "start_time": "2023-09-05T12:25:06.335442300Z"
    }
   },
   "id": "fe43e331d42361e3"
  },
  {
   "cell_type": "code",
   "execution_count": 41,
   "outputs": [],
   "source": [
    "import pickle"
   ],
   "metadata": {
    "collapsed": false,
    "ExecuteTime": {
     "end_time": "2023-09-05T12:44:44.893488300Z",
     "start_time": "2023-09-05T12:44:44.880256900Z"
    }
   },
   "id": "eae31281e14a7aa9"
  },
  {
   "cell_type": "code",
   "execution_count": 42,
   "outputs": [
    {
     "data": {
      "text/plain": "True"
     },
     "execution_count": 42,
     "metadata": {},
     "output_type": "execute_result"
    }
   ],
   "source": [
    "redis_client.set(name = 'PASSENGER', value = pickle.dumps(passenger))"
   ],
   "metadata": {
    "collapsed": false,
    "ExecuteTime": {
     "end_time": "2023-09-05T12:44:46.350181500Z",
     "start_time": "2023-09-05T12:44:46.270997Z"
    }
   },
   "id": "a4cd54052eb7c620"
  },
  {
   "cell_type": "code",
   "execution_count": 43,
   "outputs": [],
   "source": [
    "passenger_value = pickle.loads(redis_client.get(name = 'PASSENGER'))"
   ],
   "metadata": {
    "collapsed": false,
    "ExecuteTime": {
     "end_time": "2023-09-05T12:48:34.787964900Z",
     "start_time": "2023-09-05T12:48:34.638979Z"
    }
   },
   "id": "8c8a3d8a6c45afbe"
  },
  {
   "cell_type": "code",
   "execution_count": 44,
   "outputs": [
    {
     "data": {
      "text/plain": "      PASSENGER_ID  PASSENGER_VERIFIED PASSENGER_TRAVEL_TYPE  \\\n0         GMWPHXQN                True          Solo Leisure   \n1         WH7YMLOR                True          Solo Leisure   \n2         F5B4DGPF                True          Solo Leisure   \n3         CAXU6352               False          Solo Leisure   \n4         FY29R839                True        Couple Leisure   \n...            ...                 ...                   ...   \n23166     KUCPE5YD               False        Couple Leisure   \n23167     G4WQP5S9                True          Solo Leisure   \n23168     DAOPTLBP                True              Business   \n23169     H6RLO7JX                True              Business   \n23170     CSA6RBK3                True          Solo Leisure   \n\n      PASSENGER_SEAT_TYPE  \n0           Economy Class  \n1           Economy Class  \n2           Economy Class  \n3           Economy Class  \n4           Economy Class  \n...                   ...  \n23166       Economy Class  \n23167       Economy Class  \n23168       Economy Class  \n23169      Business Class  \n23170       Economy Class  \n\n[19331 rows x 4 columns]",
      "text/html": "<div>\n<style scoped>\n    .dataframe tbody tr th:only-of-type {\n        vertical-align: middle;\n    }\n\n    .dataframe tbody tr th {\n        vertical-align: top;\n    }\n\n    .dataframe thead th {\n        text-align: right;\n    }\n</style>\n<table border=\"1\" class=\"dataframe\">\n  <thead>\n    <tr style=\"text-align: right;\">\n      <th></th>\n      <th>PASSENGER_ID</th>\n      <th>PASSENGER_VERIFIED</th>\n      <th>PASSENGER_TRAVEL_TYPE</th>\n      <th>PASSENGER_SEAT_TYPE</th>\n    </tr>\n  </thead>\n  <tbody>\n    <tr>\n      <th>0</th>\n      <td>GMWPHXQN</td>\n      <td>True</td>\n      <td>Solo Leisure</td>\n      <td>Economy Class</td>\n    </tr>\n    <tr>\n      <th>1</th>\n      <td>WH7YMLOR</td>\n      <td>True</td>\n      <td>Solo Leisure</td>\n      <td>Economy Class</td>\n    </tr>\n    <tr>\n      <th>2</th>\n      <td>F5B4DGPF</td>\n      <td>True</td>\n      <td>Solo Leisure</td>\n      <td>Economy Class</td>\n    </tr>\n    <tr>\n      <th>3</th>\n      <td>CAXU6352</td>\n      <td>False</td>\n      <td>Solo Leisure</td>\n      <td>Economy Class</td>\n    </tr>\n    <tr>\n      <th>4</th>\n      <td>FY29R839</td>\n      <td>True</td>\n      <td>Couple Leisure</td>\n      <td>Economy Class</td>\n    </tr>\n    <tr>\n      <th>...</th>\n      <td>...</td>\n      <td>...</td>\n      <td>...</td>\n      <td>...</td>\n    </tr>\n    <tr>\n      <th>23166</th>\n      <td>KUCPE5YD</td>\n      <td>False</td>\n      <td>Couple Leisure</td>\n      <td>Economy Class</td>\n    </tr>\n    <tr>\n      <th>23167</th>\n      <td>G4WQP5S9</td>\n      <td>True</td>\n      <td>Solo Leisure</td>\n      <td>Economy Class</td>\n    </tr>\n    <tr>\n      <th>23168</th>\n      <td>DAOPTLBP</td>\n      <td>True</td>\n      <td>Business</td>\n      <td>Economy Class</td>\n    </tr>\n    <tr>\n      <th>23169</th>\n      <td>H6RLO7JX</td>\n      <td>True</td>\n      <td>Business</td>\n      <td>Business Class</td>\n    </tr>\n    <tr>\n      <th>23170</th>\n      <td>CSA6RBK3</td>\n      <td>True</td>\n      <td>Solo Leisure</td>\n      <td>Economy Class</td>\n    </tr>\n  </tbody>\n</table>\n<p>19331 rows × 4 columns</p>\n</div>"
     },
     "execution_count": 44,
     "metadata": {},
     "output_type": "execute_result"
    }
   ],
   "source": [
    "passenger_value"
   ],
   "metadata": {
    "collapsed": false,
    "ExecuteTime": {
     "end_time": "2023-09-05T12:48:38.668703300Z",
     "start_time": "2023-09-05T12:48:38.606218600Z"
    }
   },
   "id": "82bbc6344a8e1a1c"
  },
  {
   "cell_type": "code",
   "execution_count": 46,
   "outputs": [
    {
     "data": {
      "text/plain": "bytes"
     },
     "execution_count": 46,
     "metadata": {},
     "output_type": "execute_result"
    }
   ],
   "source": [
    "type(pickle.dumps(passenger))"
   ],
   "metadata": {
    "collapsed": false,
    "ExecuteTime": {
     "end_time": "2023-09-05T12:53:29.757024300Z",
     "start_time": "2023-09-05T12:53:29.725762700Z"
    }
   },
   "id": "20f2dccc8134e343"
  }
 ],
 "metadata": {
  "kernelspec": {
   "display_name": "Python 3",
   "language": "python",
   "name": "python3"
  },
  "language_info": {
   "codemirror_mode": {
    "name": "ipython",
    "version": 2
   },
   "file_extension": ".py",
   "mimetype": "text/x-python",
   "name": "python",
   "nbconvert_exporter": "python",
   "pygments_lexer": "ipython2",
   "version": "2.7.6"
  }
 },
 "nbformat": 4,
 "nbformat_minor": 5
}
