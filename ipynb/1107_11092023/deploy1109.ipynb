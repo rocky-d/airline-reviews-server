{
 "cells": [
  {
   "cell_type": "code",
   "execution_count": 1,
   "outputs": [],
   "source": [
    "import math, redis, csv, json, random, string, pickle\n",
    "\n",
    "import numpy as np\n",
    "import pandas as pd\n",
    "\n",
    "import matplotlib.pyplot as plt\n",
    "import seaborn as sns"
   ],
   "metadata": {
    "collapsed": false,
    "ExecuteTime": {
     "end_time": "2023-09-11T02:13:52.645462100Z",
     "start_time": "2023-09-11T02:13:52.592063700Z"
    }
   },
   "id": "b7a63ebff18a773f"
  },
  {
   "cell_type": "code",
   "execution_count": 2,
   "outputs": [],
   "source": [
    "origin_df = pd.read_csv(r'..\\new_df1009.csv')"
   ],
   "metadata": {
    "collapsed": false,
    "ExecuteTime": {
     "end_time": "2023-09-11T02:13:57.818162700Z",
     "start_time": "2023-09-11T02:13:57.632912600Z"
    }
   },
   "id": "initial_id"
  },
  {
   "cell_type": "code",
   "execution_count": 3,
   "outputs": [
    {
     "name": "stdout",
     "output_type": "stream",
     "text": [
      "<class 'pandas.core.frame.DataFrame'>\n",
      "RangeIndex: 19329 entries, 0 to 19328\n",
      "Data columns (total 23 columns):\n",
      " #   Column           Non-Null Count  Dtype \n",
      "---  ------           --------------  ----- \n",
      " 0   REV_ID           19329 non-null  object\n",
      " 1   ARL_NAME         19329 non-null  object\n",
      " 2   REV_RT_O         19329 non-null  int64 \n",
      " 3   REV_TITLE        19329 non-null  object\n",
      " 4   REV_DATE         19329 non-null  object\n",
      " 5   PSG_VERIFIED     19329 non-null  bool  \n",
      " 6   REV_CONTENT      19329 non-null  object\n",
      " 7   FLT_AIRCRAFT     19329 non-null  object\n",
      " 8   PSG_TYPE         19329 non-null  object\n",
      " 9   PSG_SEAT_TYPE    19329 non-null  object\n",
      " 10  FLT_ROUTE        19329 non-null  object\n",
      " 11  FLT_DATE         19329 non-null  object\n",
      " 12  REV_RT_SC        19329 non-null  int64 \n",
      " 13  REV_RT_CSS       19329 non-null  int64 \n",
      " 14  REV_RT_FB        19329 non-null  int64 \n",
      " 15  REV_RT_GS        19329 non-null  int64 \n",
      " 16  REV_RT_IE        19329 non-null  int64 \n",
      " 17  REV_RT_WC        19329 non-null  int64 \n",
      " 18  REV_RT_VFM       19329 non-null  int64 \n",
      " 19  REV_RECOMMENDED  19329 non-null  bool  \n",
      " 20  PSG_ID           19329 non-null  object\n",
      " 21  PSG_GENDER       19329 non-null  object\n",
      " 22  PSG_AGE          19329 non-null  int64 \n",
      "dtypes: bool(2), int64(9), object(12)\n",
      "memory usage: 3.1+ MB\n"
     ]
    }
   ],
   "source": [
    "origin_df.info()"
   ],
   "metadata": {
    "collapsed": false,
    "ExecuteTime": {
     "end_time": "2023-09-11T02:13:58.751895300Z",
     "start_time": "2023-09-11T02:13:58.718635500Z"
    }
   },
   "id": "41dfb19bbe1a9b9b"
  },
  {
   "cell_type": "code",
   "execution_count": 9,
   "outputs": [],
   "source": [
    "flt_dict = {row: [] for row in set(origin_df['ARL_NAME'])}"
   ],
   "metadata": {
    "collapsed": false,
    "ExecuteTime": {
     "end_time": "2023-09-11T02:20:02.450009400Z",
     "start_time": "2023-09-11T02:20:02.418743700Z"
    }
   },
   "id": "4f593d529ff2a39b"
  },
  {
   "cell_type": "code",
   "execution_count": 10,
   "outputs": [
    {
     "data": {
      "text/plain": "{'Iran Air': ['WP'],\n 'Nordica': ['DB'],\n 'ATA Airlines': ['BD'],\n 'Estonian Air': ['VT'],\n 'Jetblue Airways': ['TH'],\n 'Kuwait Airways': ['WD'],\n 'Rex Airlines': ['VD'],\n 'Air Italy': ['LC'],\n 'Avior Airlines': ['CP'],\n 'Air Transat': ['PV'],\n 'Myanmar Airways': ['SY'],\n 'China Eastern Airlines': ['KP'],\n 'Sansa Airlines': ['OB'],\n 'Shandong Airlines': ['ZK'],\n 'Super Air Jet': ['ZW'],\n 'WOW air': ['DC'],\n 'Bahamasair': ['UX'],\n 'VivaAerobús': ['ND'],\n 'Air Macau': ['PQ'],\n 'Jet Airways': ['KJ'],\n 'Cebu Pacific': ['UP'],\n 'Corendon Airlines': ['TJ'],\n 'Motor Sich Airlines': ['IO'],\n 'ZIPAIR': ['SA'],\n 'China Airlines': ['YU'],\n 'Xiamen Airlines': ['VJ'],\n 'South African Airways': ['EO'],\n 'Canaryfly': ['FW'],\n 'China United Airlines': ['IZ'],\n 'Trigana Air': ['NY'],\n 'Mahan Air': ['QZ'],\n 'Germanwings': ['UA'],\n 'Alitalia': ['ZQ'],\n 'Red Wings Airlines': ['KS'],\n 'NAM Air': ['PB'],\n 'NordStar': ['GA'],\n 'Flair Airlines': ['WC'],\n 'Comair': ['BV'],\n 'Asiana Airlines': ['WL'],\n 'Flynas': ['GN'],\n 'Amaszonas': ['MT'],\n 'VLM Airlines': ['AY'],\n 'LOT Polish Airlines': ['AJ'],\n 'Corsair': ['LT'],\n 'UP by El Al': ['QB'],\n 'Vistara': ['VI'],\n 'Madagasikara Airways': ['KR'],\n 'Zambia Airways': ['BO'],\n 'Ellinair': ['PE'],\n 'Iberojet': ['FP'],\n 'Jet2.com': ['IA'],\n 'LC Perú': ['AT'],\n 'Sun-Air': ['DX'],\n 'StarFlyer': ['BM'],\n 'GoAir': ['OL'],\n 'Novoair': ['HP'],\n 'Thai Smile Airways': ['US'],\n 'EVA Air': ['BE'],\n 'Yeti Airlines': ['KX'],\n 'FlySafair': ['LE'],\n 'Air Panama': ['BG'],\n 'FMI Air': ['HS'],\n 'Sichuan Airlines': ['RA'],\n 'HiSky': ['UT'],\n 'Israir Airlines': ['DW'],\n 'SCAT Airlines': ['NN'],\n 'Yakutia Airlines': ['BY'],\n 'euroAtlantic Airways': ['QN'],\n 'Mandarin Airlines': ['NW'],\n 'Qantas Airways': ['HF'],\n 'Wizz Air': ['GB'],\n 'American Airlines': ['ZC'],\n 'SkyUp Airlines': ['GV'],\n 'Air Corsica': ['BF'],\n 'Air Pegasus': ['ED'],\n 'ANA All Nippon Airways': ['CI'],\n 'Air Namibia': ['NS'],\n 'Laudamotion': ['LA'],\n 'Blue1': ['WY'],\n 'Norse Atlantic Airways': ['KM'],\n 'Air Algerie': ['XR'],\n 'Sky Airline': ['TY'],\n 'Ural Airlines': ['NF'],\n 'KLM Royal Dutch Airlines': ['TB'],\n 'Air Seychelles': ['YS'],\n 'Finnair': ['RO'],\n 'China Southern Airlines': ['YY'],\n 'Somon Air': ['WF'],\n 'Air Canada': ['ZF'],\n 'AeroItalia': ['PM'],\n 'Loganair': ['KG'],\n 'Mann Yadanarpon Airlines': ['IC'],\n 'SmartWings': ['TA'],\n 'Breeze Airways': ['BL'],\n 'TUIfly Nordic': ['TQ'],\n 'PAL Express': ['KO'],\n 'Horizon Air': ['BZ'],\n 'Aircalin': ['OS'],\n 'French Bee': ['UF'],\n 'Tigerair Taiwan': ['XC'],\n 'TAM Airlines': ['IP'],\n 'Level': ['QF'],\n 'Canadian North': ['EL'],\n 'Aeroflot Russian Airlines': ['KB'],\n 'El Al Israel Airlines': ['MQ'],\n 'Mauritania Airlines': ['TP'],\n 'Vueling Airlines': ['GI'],\n 'Air China': ['SQ'],\n 'Binter Canarias': ['DY'],\n 'Iberia': ['KK'],\n 'Cobalt': ['AS'],\n 'V Air': ['RX'],\n 'Alaska Airlines': ['IU'],\n 'Firefly': ['WW'],\n 'Easyfly': ['SZ'],\n 'Wings Air': ['ZD'],\n 'US Airways': ['SI'],\n 'Air Madagascar': ['XH'],\n 'Cathay Dragon': ['JY'],\n 'Philippine Airlines': ['MF'],\n 'EWA Air': ['TR'],\n 'Kenya Airways': ['VQ'],\n 'Dynamic International Airways': ['RC'],\n 'Golden Myanmar Airlines': ['JB'],\n 'Petroleum Air Services': ['EX'],\n 'TAR Aerolineas': ['AQ'],\n 'Air Iceland Connect': ['PJ'],\n 'Kan Air': ['JN'],\n 'LAN Airlines': ['AZ'],\n 'Eswatini Air': ['YB'],\n 'TAME': ['RV'],\n 'Kam Air': ['FQ'],\n 'Singapore Airlines': ['BQ'],\n 'Delta Air Lines': ['MO'],\n 'Thomson Airways': ['XE'],\n 'British Airways': ['PW'],\n 'Wideroe': ['TW'],\n 'AirAsia India': ['ER'],\n 'Jordan Aviation': ['DV'],\n 'Wamos Air': ['CX'],\n 'Allegiant Air': ['PY'],\n 'Utair Aviation': ['FS'],\n 'Air Tanzania': ['TV'],\n 'Air India Express': ['FD'],\n 'Tigerair Australia': ['VP'],\n 'Brussels Airlines': ['XI'],\n 'Armenia Air Company': ['DU'],\n 'Shaheen Air': ['LO'],\n 'Malawian Airlines': ['DR'],\n 'Scoot': ['MP'],\n 'Regional Express': ['HN'],\n 'Skytrans Airlines': ['KC'],\n 'TAP Portugal': ['QG'],\n 'Safi Airways': ['WX'],\n 'Lucky Air': ['AC'],\n 'Blue Air': ['ZE'],\n 'Insel Air': ['WH'],\n 'Croatia Airlines': ['WI'],\n 'easyJet': ['FT'],\n 'QantasLink': ['FN'],\n 'Air Koryo': ['WV'],\n 'Ravn Alaska': ['SM'],\n 'Air France': ['UI'],\n 'Hunnu Air': ['KI'],\n 'fastjet': ['BW'],\n 'Peach Aviation': ['GK'],\n 'Skymark Airlines': ['ZU'],\n 'Jetairfly': ['QQ'],\n 'Privilege Style': ['IJ'],\n 'Viva Air': ['HQ'],\n 'Central Mountain Air': ['YI'],\n 'Virgin America': ['WT'],\n 'Interjet': ['IG'],\n 'Alliance Airlines': ['EG'],\n 'Air Rarotonga': ['AV'],\n 'Coastal Aviation': ['PX'],\n 'Arkefly': ['PO'],\n 'Tibet Airlines': ['BN'],\n 'Royal Jordanian Airlines': ['GC'],\n 'Air Dolomiti': ['TC'],\n 'Beijing Capital Airlines': ['GZ'],\n 'Copa Airlines': ['LY'],\n 'Aerolineas Argentinas': ['LW'],\n 'Go First': ['IF'],\n 'PenAir': ['MW'],\n 'MEGA Maldives Airlines': ['VO'],\n 'Sriwijaya Air': ['GW'],\n 'Tianjin Airlines': ['WS'],\n 'Africa World Airlines': ['RS'],\n 'Japan Airlines': ['YQ'],\n 'Pacific Airlines': ['LM'],\n 'Eurowings': ['XQ'],\n 'Air Mauritius': ['XJ'],\n 'Ernest Airlines': ['NB'],\n 'Seaborne Airlines': ['CC'],\n 'Atlantic Airways': ['PC'],\n 'Meridiana': ['BH'],\n 'Air KBZ': ['SK'],\n 'Condor Airlines': ['MI'],\n 'NIKI': ['IN'],\n 'Thomas Cook Airlines': ['SF'],\n 'Thomas Cook Airlines Scandinavia': ['ZZ'],\n 'Cyprus Airways': ['QL'],\n 'Gulf Air': ['VW'],\n 'Lynx Air': ['UM'],\n 'Mokulele Airlines': ['CJ'],\n 'AirSWIFT': ['VZ'],\n 'Aegean Airlines': ['HY'],\n 'Aigle Azur': ['HW'],\n 'Southwest Airlines': ['AF'],\n 'Regent Airways': ['BP'],\n 'Oman Air': ['YG'],\n 'SilkAir': ['VR'],\n 'Adria Airways': ['JU'],\n 'Bangkok Airways': ['JF'],\n 'flydubai': ['HT'],\n 'Transavia': ['AI'],\n 'Air India': ['MN'],\n 'Grand Cru Airlines': ['NI'],\n 'Garuda Indonesia': ['DF'],\n 'Airnorth': ['XZ'],\n 'Air Niugini': ['AD'],\n 'Avelo Airlines': ['NM'],\n 'Ariana Afghan Airlines': ['ZS'],\n 'JC International Airlines': ['ZI'],\n \"Air Cote d'Ivoire\": ['BX'],\n 'Eastern Airlines': ['OW'],\n 'Air Nostrum': ['KN'],\n 'Shanghai Airlines': ['LU'],\n 'Volotea': ['QY'],\n 'SVG Air': ['PZ'],\n 'AB Aviation': ['SU'],\n 'Olympic Air': ['ZO'],\n 'Sky Express Airlines': ['SG'],\n 'Transaero Airlines': ['LL'],\n 'Jazeera Airways': ['ME'],\n 'Jin Air': ['OX'],\n 'LAN Colombia': ['UO'],\n 'Thai AirAsia': ['EB'],\n 'Openskies': ['CR'],\n 'Buddha Air': ['AL'],\n 'Nauru Airlines': ['UZ'],\n 'Azur Air Germany': ['BI'],\n 'Fiji Airways': ['UG'],\n \"Air North Yukon's Airline\": ['MK'],\n 'XL Airways France': ['KD'],\n 'TUIfly': ['HD'],\n 'Onur Air': ['VV'],\n 'Cape Air': ['TT'],\n 'Jetstar Asia': ['ZM'],\n 'Cathay Pacific Airways': ['OJ'],\n 'Swoop': ['LJ'],\n 'Passion Air': ['TI'],\n 'Caribbean Airlines': ['CE'],\n 'bmi Regional': ['OH'],\n 'SATA Air Azores': ['OI'],\n 'Georgian Airways': ['KU'],\n 'Buta Airways': ['BT'],\n 'Silver Airways': ['ZB'],\n 'Uzbekistan Airways': ['SC'],\n 'Iraqi Airways': ['MZ'],\n 'Badr Airlines': ['RY'],\n 'Turkish Airlines': ['DA'],\n 'SkyWork Airlines': ['LS'],\n 'JetsuiteX': ['NE'],\n 'Voyage Air': ['FJ'],\n 'Vanilla Air': ['NO'],\n 'Mack Air': ['JQ'],\n 'Qatar Airways': ['YD'],\n 'Himalaya Airlines': ['XL'],\n 'MAYAir': ['AR'],\n 'Smartavia': ['WJ'],\n 'Thai Lion Air': ['DS'],\n 'VivaColombia': ['KA'],\n 'PAWA Dominicana': ['KH'],\n 'Jetstar Airways': ['VN'],\n 'Nile Air': ['RK'],\n 'AnadoluJet': ['AP'],\n 'Peruvian Airlines': ['VB'],\n 'JetSmart': ['ZJ'],\n 'Surinam Airways': ['QI'],\n 'Porter Airlines': ['PR'],\n 'Jeju Air': ['OR'],\n 'Nordwind Airlines': ['QH'],\n 'Air Burkina': ['SX'],\n 'Bulgaria Air': ['AH'],\n 'American Eagle': ['RB'],\n 'SmartLynx Airlines': ['EP'],\n 'Joon': ['NR'],\n 'Ultra Air': ['FR'],\n 'TUS Airways': ['FL'],\n 'SriLankan Airlines': ['ID'],\n 'Maldivian': ['RF'],\n 'Rhein-Neckar Air': ['TF'],\n 'Air Caraibes': ['EK'],\n 'Arik Air': ['ZV'],\n 'Yangon Airways': ['DO'],\n 'Azerbaijan Airlines': ['CG'],\n 'Hainan Airlines': ['OO'],\n 'SATENA': ['VM'],\n 'AirAsia Philippines': ['UW'],\n 'US-Bangla Airlines': ['OY'],\n 'Air Canada rouge': ['RP'],\n 'FlyArystan': ['CM'],\n 'Solomon Airlines': ['MR'],\n 'Etihad Airways': ['AM'],\n 'Lao Airlines': ['YF'],\n 'airBaltic': ['FB'],\n 'Korean Air': ['RM'],\n 'Nordic Regional Airlines': ['MY'],\n 'Bamboo Airways': ['JP'],\n 'Air Zimbabwe': ['IR'],\n 'Austrian Airlines': ['LG'],\n 'Hong Kong Airlines': ['RN'],\n 'Air Moldova': ['QP'],\n 'Fly540.com': ['PG'],\n 'Bassaka Air': ['EV'],\n 'Skybus': ['JI'],\n 'Norwegian': ['FA'],\n 'Airlink': ['KE'],\n 'Evelop Airlines': ['XW'],\n 'Air Austral': ['RZ'],\n 'Batik Air': ['VU'],\n 'Air Antilles': ['QX'],\n 'Cubana Airlines': ['DL'],\n 'Auric Air': ['QK'],\n 'Pan Pacific Airlines': ['EW'],\n 'CityJet': ['YT'],\n 'TAAG Angola Airlines': ['KY'],\n 'ITA Airways': ['TX'],\n 'Cambodia Airways': ['EH'],\n 'Druk Air': ['GQ'],\n 'Myanmar National Airlines': ['SV'],\n 'Royal Brunei Airlines': ['VE'],\n 'Air Europa': ['KQ'],\n 'PLAY': ['WQ'],\n 'Bhutan Airlines': ['MM'],\n 'La Compagnie': ['TZ'],\n 'Pegasus Airlines': ['FV'],\n 'Rwandair': ['DT'],\n 'Suparna Airlines': ['TE'],\n 'BA CityFlyer': ['HG'],\n 'Dimonim Air': ['GG'],\n 'Air Costa': ['UC'],\n 'Intercaribbean Airways': ['HR'],\n 'Tunisair': ['FY'],\n 'Iberia Express': ['UJ'],\n 'Blue Islands': ['CF'],\n 'Kulula': ['DG'],\n 'Libyan Airlines': ['QE'],\n 'Royal Air Maroc': ['SE'],\n 'Monarch Airlines': ['AN'],\n 'Andes Líneas Aéreas': ['ZN'],\n 'Malindo Air': ['UU'],\n 'Aurigny Air': ['JT'],\n 'Virgin Australia': ['QT'],\n 'SpiceJet': ['CU'],\n 'Air Cairo': ['DH'],\n 'Blue Panorama Airlines': ['VL'],\n 'Volaris': ['XY'],\n 'Vietnam Airlines': ['GL'],\n 'Air Astana': ['OU'],\n 'Frontier Airlines': ['LX'],\n 'Tropic Air Belize': ['UB'],\n 'ViaAir': ['JG'],\n 'Nordavia': ['HA'],\n 'Greater Bay Airlines': ['HX'],\n 'Luxair': ['HV'],\n 'SkyWest Airlines': ['MU'],\n 'Ryanair': ['XG'],\n 'Boutique Air': ['AE'],\n 'Germania Airline': ['BS'],\n 'Air Botswana': ['HZ'],\n 'Egyptair': ['SP'],\n 'Nepal Airlines': ['YX'],\n 'Tigerair': ['JH'],\n 'LIAT': ['IM'],\n 'Safarilink': ['CQ'],\n 'TUI Airways': ['LB'],\n 'Primera Air': ['ZH'],\n 'Nature Air': ['IL'],\n 'Lubeck Air': ['DI'],\n 'Sunwing Airlines': ['EE'],\n 'Ethiopian Airlines': ['JZ'],\n 'Air Malta': ['GX'],\n 'Camair-Co': ['LQ'],\n 'SereneAir': ['UE'],\n 'SA Express': ['DD'],\n 'Avianca': ['XX'],\n 'Felix Airways': ['EN'],\n 'Winair': ['YM'],\n 'HOP!': ['BK'],\n 'Aero VIP': ['WN'],\n 'Bluebird Airways': ['QS'],\n 'TAG Airlines': ['FC'],\n 'BoraJet': ['PS'],\n 'CemAir': ['JW'],\n 'Air Greenland': ['WU'],\n 'United Airlines': ['ZX'],\n 'NokScoot': ['YZ'],\n 'Thai Airways': ['JJ'],\n 'Rossiya Airlines': ['IH'],\n 'Pobeda Airlines': ['JV'],\n 'Dragonair': ['OG'],\n 'flybe': ['UD'],\n 'Cayman Airways': ['CD'],\n 'Jazz': ['KF'],\n 'Manta Air': ['XK'],\n 'Cambodia Bayon Airlines': ['CN'],\n 'Air Tahiti Nui': ['TN'],\n 'Jetstar Japan': ['XV'],\n 'Nok Air': ['RE'],\n 'flyadeal': ['DN'],\n 'Maya Island Air': ['BB'],\n 'Akasa Air': ['MB'],\n 'Air Serbia': ['DK'],\n 'Spirit Airlines': ['RI'],\n 'AirAsia Zest': ['PP'],\n 'Air Juan': ['XM'],\n 'Air New Zealand': ['IW'],\n 'Nouvelair': ['ZR'],\n 'Tame Línea Aérea Del Ecuador': ['DE'],\n 'Malaysia Airlines': ['VG'],\n 'Montenegro Airlines': ['GH'],\n 'Aeromar': ['DZ'],\n 'AirAsia': ['GR'],\n 'Aeromexico': ['NX'],\n 'Emirates': ['BJ'],\n 'Hi Fly': ['II'],\n 'LAN Peru': ['EC'],\n 'Icelandair': ['OF'],\n 'Saudi Arabian Airlines': ['XS'],\n 'FLYONE': ['ZL'],\n 'Turkmenistan Airlines': ['AW'],\n 'Citilink': ['KL'],\n 'Qazaq Air': ['XA'],\n 'Lion Air': ['HL'],\n 'Air Djibouti': ['JE'],\n 'Uganda Airlines': ['LN'],\n 'Jetstar Pacific': ['SD'],\n 'Mihin Lanka': ['AU'],\n 'CSA Czech Airlines': ['IY'],\n 'Shenzhen Airlines': ['GU'],\n 'KD Air': ['IQ'],\n 'World2Fly': ['YA'],\n 'LATAM Airlines': ['BC'],\n 'TransNusa': ['IK'],\n 'Tailwind Airlines': ['QU'],\n 'Air Berlin': ['RD'],\n 'Omni Air International': ['QR'],\n 'Salam Air': ['PI'],\n 'S7 Siberia Airlines': ['XD'],\n 'Lufthansa': ['EI'],\n 'Eastern Airways': ['WR'],\n 'ASKY Airlines': ['LZ'],\n 'Belavia': ['BR'],\n 'Sun Country Airlines': ['ZA'],\n 'Wingo': ['PT'],\n 'Edelweiss Air': ['CB'],\n 'Alliance Air': ['HE'],\n 'Titan Airways': ['HJ'],\n 'Aer Lingus': ['NH'],\n 'Air Busan': ['SS'],\n 'AirAsia X': ['HC'],\n 'Hawaiian Airlines': ['GJ'],\n 'Air Arabia': ['CL'],\n \"T'Way Air\": ['TD']}"
     },
     "execution_count": 10,
     "metadata": {},
     "output_type": "execute_result"
    }
   ],
   "source": [
    "def generate_iata():\n",
    "    while True:\n",
    "        one_iata = random.choice(string.ascii_uppercase) + random.choice(string.ascii_uppercase)\n",
    "        if one_iata not in used_iata:\n",
    "            used_iata.add(one_iata)\n",
    "            return one_iata\n",
    "\n",
    "\n",
    "used_iata = set()\n",
    "for key in flt_dict.keys():\n",
    "    flt_dict[key].append(generate_iata())\n",
    "\n",
    "flt_dict"
   ],
   "metadata": {
    "collapsed": false,
    "ExecuteTime": {
     "end_time": "2023-09-11T02:20:03.701182400Z",
     "start_time": "2023-09-11T02:20:03.685486300Z"
    }
   },
   "id": "33e75ae244e46c3a"
  },
  {
   "cell_type": "code",
   "execution_count": 11,
   "outputs": [
    {
     "data": {
      "text/plain": "{'Iran Air': ['WP', 'RWB'],\n 'Nordica': ['DB', 'LFN'],\n 'ATA Airlines': ['BD', 'ZWK'],\n 'Estonian Air': ['VT', 'QBE'],\n 'Jetblue Airways': ['TH', 'EYH'],\n 'Kuwait Airways': ['WD', 'TPN'],\n 'Rex Airlines': ['VD', 'CYU'],\n 'Air Italy': ['LC', 'PTJ'],\n 'Avior Airlines': ['CP', 'BNN'],\n 'Air Transat': ['PV', 'GSA'],\n 'Myanmar Airways': ['SY', 'CRF'],\n 'China Eastern Airlines': ['KP', 'TIL'],\n 'Sansa Airlines': ['OB', 'CGH'],\n 'Shandong Airlines': ['ZK', 'WGO'],\n 'Super Air Jet': ['ZW', 'MDI'],\n 'WOW air': ['DC', 'POC'],\n 'Bahamasair': ['UX', 'KPM'],\n 'VivaAerobús': ['ND', 'EZU'],\n 'Air Macau': ['PQ', 'SEU'],\n 'Jet Airways': ['KJ', 'LLM'],\n 'Cebu Pacific': ['UP', 'WSC'],\n 'Corendon Airlines': ['TJ', 'TDW'],\n 'Motor Sich Airlines': ['IO', 'IMM'],\n 'ZIPAIR': ['SA', 'NNP'],\n 'China Airlines': ['YU', 'PJM'],\n 'Xiamen Airlines': ['VJ', 'IKC'],\n 'South African Airways': ['EO', 'PRN'],\n 'Canaryfly': ['FW', 'FDW'],\n 'China United Airlines': ['IZ', 'EFU'],\n 'Trigana Air': ['NY', 'TYT'],\n 'Mahan Air': ['QZ', 'QDE'],\n 'Germanwings': ['UA', 'HKK'],\n 'Alitalia': ['ZQ', 'UIT'],\n 'Red Wings Airlines': ['KS', 'KQI'],\n 'NAM Air': ['PB', 'MZG'],\n 'NordStar': ['GA', 'PCX'],\n 'Flair Airlines': ['WC', 'MPO'],\n 'Comair': ['BV', 'LSB'],\n 'Asiana Airlines': ['WL', 'AYX'],\n 'Flynas': ['GN', 'HWM'],\n 'Amaszonas': ['MT', 'GUO'],\n 'VLM Airlines': ['AY', 'VXU'],\n 'LOT Polish Airlines': ['AJ', 'EQB'],\n 'Corsair': ['LT', 'TEU'],\n 'UP by El Al': ['QB', 'OYX'],\n 'Vistara': ['VI', 'PRK'],\n 'Madagasikara Airways': ['KR', 'TEJ'],\n 'Zambia Airways': ['BO', 'XJX'],\n 'Ellinair': ['PE', 'GQQ'],\n 'Iberojet': ['FP', 'FIT'],\n 'Jet2.com': ['IA', 'EAG'],\n 'LC Perú': ['AT', 'PNV'],\n 'Sun-Air': ['DX', 'RZF'],\n 'StarFlyer': ['BM', 'AZI'],\n 'GoAir': ['OL', 'BSI'],\n 'Novoair': ['HP', 'APR'],\n 'Thai Smile Airways': ['US', 'VHA'],\n 'EVA Air': ['BE', 'SWI'],\n 'Yeti Airlines': ['KX', 'FGT'],\n 'FlySafair': ['LE', 'YMW'],\n 'Air Panama': ['BG', 'GML'],\n 'FMI Air': ['HS', 'WJS'],\n 'Sichuan Airlines': ['RA', 'QVA'],\n 'HiSky': ['UT', 'SHF'],\n 'Israir Airlines': ['DW', 'XSG'],\n 'SCAT Airlines': ['NN', 'MNP'],\n 'Yakutia Airlines': ['BY', 'IOL'],\n 'euroAtlantic Airways': ['QN', 'VEK'],\n 'Mandarin Airlines': ['NW', 'ARC'],\n 'Qantas Airways': ['HF', 'XTR'],\n 'Wizz Air': ['GB', 'TVN'],\n 'American Airlines': ['ZC', 'TQZ'],\n 'SkyUp Airlines': ['GV', 'BFP'],\n 'Air Corsica': ['BF', 'BAT'],\n 'Air Pegasus': ['ED', 'VVK'],\n 'ANA All Nippon Airways': ['CI', 'HNE'],\n 'Air Namibia': ['NS', 'MMN'],\n 'Laudamotion': ['LA', 'YBT'],\n 'Blue1': ['WY', 'NMA'],\n 'Norse Atlantic Airways': ['KM', 'NGK'],\n 'Air Algerie': ['XR', 'HZA'],\n 'Sky Airline': ['TY', 'UDZ'],\n 'Ural Airlines': ['NF', 'FTA'],\n 'KLM Royal Dutch Airlines': ['TB', 'RVM'],\n 'Air Seychelles': ['YS', 'EVW'],\n 'Finnair': ['RO', 'GAS'],\n 'China Southern Airlines': ['YY', 'ATF'],\n 'Somon Air': ['WF', 'ACY'],\n 'Air Canada': ['ZF', 'FQG'],\n 'AeroItalia': ['PM', 'EPN'],\n 'Loganair': ['KG', 'ZEV'],\n 'Mann Yadanarpon Airlines': ['IC', 'NMV'],\n 'SmartWings': ['TA', 'EBK'],\n 'Breeze Airways': ['BL', 'TQW'],\n 'TUIfly Nordic': ['TQ', 'BZQ'],\n 'PAL Express': ['KO', 'SVF'],\n 'Horizon Air': ['BZ', 'DEG'],\n 'Aircalin': ['OS', 'BCL'],\n 'French Bee': ['UF', 'KZA'],\n 'Tigerair Taiwan': ['XC', 'RNJ'],\n 'TAM Airlines': ['IP', 'BHE'],\n 'Level': ['QF', 'FUJ'],\n 'Canadian North': ['EL', 'EGX'],\n 'Aeroflot Russian Airlines': ['KB', 'BPD'],\n 'El Al Israel Airlines': ['MQ', 'LYN'],\n 'Mauritania Airlines': ['TP', 'HZG'],\n 'Vueling Airlines': ['GI', 'GTR'],\n 'Air China': ['SQ', 'KUR'],\n 'Binter Canarias': ['DY', 'MWT'],\n 'Iberia': ['KK', 'DKJ'],\n 'Cobalt': ['AS', 'NSU'],\n 'V Air': ['RX', 'QAQ'],\n 'Alaska Airlines': ['IU', 'YAQ'],\n 'Firefly': ['WW', 'VKF'],\n 'Easyfly': ['SZ', 'FYP'],\n 'Wings Air': ['ZD', 'MBI'],\n 'US Airways': ['SI', 'MOZ'],\n 'Air Madagascar': ['XH', 'AND'],\n 'Cathay Dragon': ['JY', 'NIG'],\n 'Philippine Airlines': ['MF', 'SFY'],\n 'EWA Air': ['TR', 'CNC'],\n 'Kenya Airways': ['VQ', 'NAM'],\n 'Dynamic International Airways': ['RC', 'HEA'],\n 'Golden Myanmar Airlines': ['JB', 'AWS'],\n 'Petroleum Air Services': ['EX', 'WGP'],\n 'TAR Aerolineas': ['AQ', 'HOF'],\n 'Air Iceland Connect': ['PJ', 'OKY'],\n 'Kan Air': ['JN', 'SUM'],\n 'LAN Airlines': ['AZ', 'JXF'],\n 'Eswatini Air': ['YB', 'KUP'],\n 'TAME': ['RV', 'GAL'],\n 'Kam Air': ['FQ', 'GOO'],\n 'Singapore Airlines': ['BQ', 'DPV'],\n 'Delta Air Lines': ['MO', 'KMS'],\n 'Thomson Airways': ['XE', 'NZJ'],\n 'British Airways': ['PW', 'LHD'],\n 'Wideroe': ['TW', 'QAT'],\n 'AirAsia India': ['ER', 'AEI'],\n 'Jordan Aviation': ['DV', 'VYL'],\n 'Wamos Air': ['CX', 'OSW'],\n 'Allegiant Air': ['PY', 'MLV'],\n 'Utair Aviation': ['FS', 'HPR'],\n 'Air Tanzania': ['TV', 'GXG'],\n 'Air India Express': ['FD', 'MNF'],\n 'Tigerair Australia': ['VP', 'WGE'],\n 'Brussels Airlines': ['XI', 'MRH'],\n 'Armenia Air Company': ['DU', 'UMG'],\n 'Shaheen Air': ['LO', 'QZF'],\n 'Malawian Airlines': ['DR', 'JUR'],\n 'Scoot': ['MP', 'KGY'],\n 'Regional Express': ['HN', 'KPF'],\n 'Skytrans Airlines': ['KC', 'AYE'],\n 'TAP Portugal': ['QG', 'YYB'],\n 'Safi Airways': ['WX', 'RJD'],\n 'Lucky Air': ['AC', 'FMX'],\n 'Blue Air': ['ZE', 'VDX'],\n 'Insel Air': ['WH', 'LUA'],\n 'Croatia Airlines': ['WI', 'AAH'],\n 'easyJet': ['FT', 'IKH'],\n 'QantasLink': ['FN', 'RVJ'],\n 'Air Koryo': ['WV', 'UMJ'],\n 'Ravn Alaska': ['SM', 'DQM'],\n 'Air France': ['UI', 'IVJ'],\n 'Hunnu Air': ['KI', 'HPB'],\n 'fastjet': ['BW', 'MNO'],\n 'Peach Aviation': ['GK', 'VVH'],\n 'Skymark Airlines': ['ZU', 'DFI'],\n 'Jetairfly': ['QQ', 'PHJ'],\n 'Privilege Style': ['IJ', 'BKO'],\n 'Viva Air': ['HQ', 'YBY'],\n 'Central Mountain Air': ['YI', 'WNO'],\n 'Virgin America': ['WT', 'GKC'],\n 'Interjet': ['IG', 'ZCN'],\n 'Alliance Airlines': ['EG', 'WEA'],\n 'Air Rarotonga': ['AV', 'LDU'],\n 'Coastal Aviation': ['PX', 'RZQ'],\n 'Arkefly': ['PO', 'ASN'],\n 'Tibet Airlines': ['BN', 'KLA'],\n 'Royal Jordanian Airlines': ['GC', 'YBX'],\n 'Air Dolomiti': ['TC', 'YPA'],\n 'Beijing Capital Airlines': ['GZ', 'FSR'],\n 'Copa Airlines': ['LY', 'TGN'],\n 'Aerolineas Argentinas': ['LW', 'DOS'],\n 'Go First': ['IF', 'GEW'],\n 'PenAir': ['MW', 'USY'],\n 'MEGA Maldives Airlines': ['VO', 'YXF'],\n 'Sriwijaya Air': ['GW', 'QTX'],\n 'Tianjin Airlines': ['WS', 'XRW'],\n 'Africa World Airlines': ['RS', 'YXC'],\n 'Japan Airlines': ['YQ', 'OKW'],\n 'Pacific Airlines': ['LM', 'APJ'],\n 'Eurowings': ['XQ', 'PWL'],\n 'Air Mauritius': ['XJ', 'OFB'],\n 'Ernest Airlines': ['NB', 'RNQ'],\n 'Seaborne Airlines': ['CC', 'INH'],\n 'Atlantic Airways': ['PC', 'OJU'],\n 'Meridiana': ['BH', 'SSC'],\n 'Air KBZ': ['SK', 'YHL'],\n 'Condor Airlines': ['MI', 'RUY'],\n 'NIKI': ['IN', 'XMT'],\n 'Thomas Cook Airlines': ['SF', 'UEG'],\n 'Thomas Cook Airlines Scandinavia': ['ZZ', 'UOJ'],\n 'Cyprus Airways': ['QL', 'KCC'],\n 'Gulf Air': ['VW', 'UUN'],\n 'Lynx Air': ['UM', 'WQV'],\n 'Mokulele Airlines': ['CJ', 'HBX'],\n 'AirSWIFT': ['VZ', 'UTN'],\n 'Aegean Airlines': ['HY', 'DKL'],\n 'Aigle Azur': ['HW', 'MMF'],\n 'Southwest Airlines': ['AF', 'XPH'],\n 'Regent Airways': ['BP', 'YKY'],\n 'Oman Air': ['YG', 'WYK'],\n 'SilkAir': ['VR', 'HCC'],\n 'Adria Airways': ['JU', 'RZW'],\n 'Bangkok Airways': ['JF', 'BXF'],\n 'flydubai': ['HT', 'IOC'],\n 'Transavia': ['AI', 'XDU'],\n 'Air India': ['MN', 'NVS'],\n 'Grand Cru Airlines': ['NI', 'EWV'],\n 'Garuda Indonesia': ['DF', 'IQZ'],\n 'Airnorth': ['XZ', 'FFS'],\n 'Air Niugini': ['AD', 'CHT'],\n 'Avelo Airlines': ['NM', 'MOK'],\n 'Ariana Afghan Airlines': ['ZS', 'JEI'],\n 'JC International Airlines': ['ZI', 'WOO'],\n \"Air Cote d'Ivoire\": ['BX', 'TLA'],\n 'Eastern Airlines': ['OW', 'VVD'],\n 'Air Nostrum': ['KN', 'EAX'],\n 'Shanghai Airlines': ['LU', 'ZNK'],\n 'Volotea': ['QY', 'KXX'],\n 'SVG Air': ['PZ', 'XKM'],\n 'AB Aviation': ['SU', 'ULE'],\n 'Olympic Air': ['ZO', 'AHT'],\n 'Sky Express Airlines': ['SG', 'KRW'],\n 'Transaero Airlines': ['LL', 'LLS'],\n 'Jazeera Airways': ['ME', 'JIL'],\n 'Jin Air': ['OX', 'WZO'],\n 'LAN Colombia': ['UO', 'VOA'],\n 'Thai AirAsia': ['EB', 'PLR'],\n 'Openskies': ['CR', 'XEM'],\n 'Buddha Air': ['AL', 'RKV'],\n 'Nauru Airlines': ['UZ', 'ING'],\n 'Azur Air Germany': ['BI', 'CCF'],\n 'Fiji Airways': ['UG', 'NYD'],\n \"Air North Yukon's Airline\": ['MK', 'SWG'],\n 'XL Airways France': ['KD', 'MNM'],\n 'TUIfly': ['HD', 'GKU'],\n 'Onur Air': ['VV', 'WVO'],\n 'Cape Air': ['TT', 'CQV'],\n 'Jetstar Asia': ['ZM', 'KHX'],\n 'Cathay Pacific Airways': ['OJ', 'SQQ'],\n 'Swoop': ['LJ', 'ROA'],\n 'Passion Air': ['TI', 'YOZ'],\n 'Caribbean Airlines': ['CE', 'NED'],\n 'bmi Regional': ['OH', 'YRC'],\n 'SATA Air Azores': ['OI', 'JQE'],\n 'Georgian Airways': ['KU', 'KAG'],\n 'Buta Airways': ['BT', 'BMH'],\n 'Silver Airways': ['ZB', 'DMI'],\n 'Uzbekistan Airways': ['SC', 'TVG'],\n 'Iraqi Airways': ['MZ', 'WGL'],\n 'Badr Airlines': ['RY', 'XOJ'],\n 'Turkish Airlines': ['DA', 'PIM'],\n 'SkyWork Airlines': ['LS', 'VXB'],\n 'JetsuiteX': ['NE', 'VBU'],\n 'Voyage Air': ['FJ', 'IVM'],\n 'Vanilla Air': ['NO', 'CXX'],\n 'Mack Air': ['JQ', 'JPX'],\n 'Qatar Airways': ['YD', 'HMY'],\n 'Himalaya Airlines': ['XL', 'MMG'],\n 'MAYAir': ['AR', 'PIB'],\n 'Smartavia': ['WJ', 'LCW'],\n 'Thai Lion Air': ['DS', 'NIO'],\n 'VivaColombia': ['KA', 'AEE'],\n 'PAWA Dominicana': ['KH', 'SDV'],\n 'Jetstar Airways': ['VN', 'FOD'],\n 'Nile Air': ['RK', 'UFG'],\n 'AnadoluJet': ['AP', 'NDE'],\n 'Peruvian Airlines': ['VB', 'PKQ'],\n 'JetSmart': ['ZJ', 'EGZ'],\n 'Surinam Airways': ['QI', 'JHF'],\n 'Porter Airlines': ['PR', 'VSH'],\n 'Jeju Air': ['OR', 'ETG'],\n 'Nordwind Airlines': ['QH', 'UGY'],\n 'Air Burkina': ['SX', 'BEF'],\n 'Bulgaria Air': ['AH', 'WJG'],\n 'American Eagle': ['RB', 'AOR'],\n 'SmartLynx Airlines': ['EP', 'GHH'],\n 'Joon': ['NR', 'LGW'],\n 'Ultra Air': ['FR', 'GPX'],\n 'TUS Airways': ['FL', 'LWA'],\n 'SriLankan Airlines': ['ID', 'ZQS'],\n 'Maldivian': ['RF', 'FDK'],\n 'Rhein-Neckar Air': ['TF', 'JKA'],\n 'Air Caraibes': ['EK', 'VSI'],\n 'Arik Air': ['ZV', 'QJS'],\n 'Yangon Airways': ['DO', 'PDD'],\n 'Azerbaijan Airlines': ['CG', 'ZTN'],\n 'Hainan Airlines': ['OO', 'UOW'],\n 'SATENA': ['VM', 'QLM'],\n 'AirAsia Philippines': ['UW', 'DPA'],\n 'US-Bangla Airlines': ['OY', 'KRF'],\n 'Air Canada rouge': ['RP', 'BRQ'],\n 'FlyArystan': ['CM', 'CQG'],\n 'Solomon Airlines': ['MR', 'NFD'],\n 'Etihad Airways': ['AM', 'OXQ'],\n 'Lao Airlines': ['YF', 'KWR'],\n 'airBaltic': ['FB', 'QYH'],\n 'Korean Air': ['RM', 'QAW'],\n 'Nordic Regional Airlines': ['MY', 'IZO'],\n 'Bamboo Airways': ['JP', 'NYC'],\n 'Air Zimbabwe': ['IR', 'XWE'],\n 'Austrian Airlines': ['LG', 'BHD'],\n 'Hong Kong Airlines': ['RN', 'TZK'],\n 'Air Moldova': ['QP', 'DYA'],\n 'Fly540.com': ['PG', 'YHV'],\n 'Bassaka Air': ['EV', 'YIN'],\n 'Skybus': ['JI', 'FAT'],\n 'Norwegian': ['FA', 'WFV'],\n 'Airlink': ['KE', 'MBV'],\n 'Evelop Airlines': ['XW', 'UUK'],\n 'Air Austral': ['RZ', 'LYT'],\n 'Batik Air': ['VU', 'ATE'],\n 'Air Antilles': ['QX', 'PBA'],\n 'Cubana Airlines': ['DL', 'LLN'],\n 'Auric Air': ['QK', 'RIO'],\n 'Pan Pacific Airlines': ['EW', 'UZB'],\n 'CityJet': ['YT', 'SUE'],\n 'TAAG Angola Airlines': ['KY', 'HZN'],\n 'ITA Airways': ['TX', 'VCZ'],\n 'Cambodia Airways': ['EH', 'MOG'],\n 'Druk Air': ['GQ', 'HZO'],\n 'Myanmar National Airlines': ['SV', 'DBV'],\n 'Royal Brunei Airlines': ['VE', 'ZAP'],\n 'Air Europa': ['KQ', 'YDI'],\n 'PLAY': ['WQ', 'NTP'],\n 'Bhutan Airlines': ['MM', 'MEF'],\n 'La Compagnie': ['TZ', 'JQV'],\n 'Pegasus Airlines': ['FV', 'ITU'],\n 'Rwandair': ['DT', 'DUR'],\n 'Suparna Airlines': ['TE', 'AZZ'],\n 'BA CityFlyer': ['HG', 'FRV'],\n 'Dimonim Air': ['GG', 'YJA'],\n 'Air Costa': ['UC', 'GVG'],\n 'Intercaribbean Airways': ['HR', 'KMO'],\n 'Tunisair': ['FY', 'QWD'],\n 'Iberia Express': ['UJ', 'OIC'],\n 'Blue Islands': ['CF', 'FHK'],\n 'Kulula': ['DG', 'GHE'],\n 'Libyan Airlines': ['QE', 'QQT'],\n 'Royal Air Maroc': ['SE', 'YTF'],\n 'Monarch Airlines': ['AN', 'COA'],\n 'Andes Líneas Aéreas': ['ZN', 'HVI'],\n 'Malindo Air': ['UU', 'IWQ'],\n 'Aurigny Air': ['JT', 'HOX'],\n 'Virgin Australia': ['QT', 'NWN'],\n 'SpiceJet': ['CU', 'MZD'],\n 'Air Cairo': ['DH', 'FIF'],\n 'Blue Panorama Airlines': ['VL', 'VPM'],\n 'Volaris': ['XY', 'PXP'],\n 'Vietnam Airlines': ['GL', 'QYO'],\n 'Air Astana': ['OU', 'TOI'],\n 'Frontier Airlines': ['LX', 'UKW'],\n 'Tropic Air Belize': ['UB', 'POJ'],\n 'ViaAir': ['JG', 'KZS'],\n 'Nordavia': ['HA', 'WSV'],\n 'Greater Bay Airlines': ['HX', 'EPM'],\n 'Luxair': ['HV', 'ULG'],\n 'SkyWest Airlines': ['MU', 'DOP'],\n 'Ryanair': ['XG', 'JGC'],\n 'Boutique Air': ['AE', 'TKL'],\n 'Germania Airline': ['BS', 'BCD'],\n 'Air Botswana': ['HZ', 'XDG'],\n 'Egyptair': ['SP', 'HXI'],\n 'Nepal Airlines': ['YX', 'VCE'],\n 'Tigerair': ['JH', 'IVZ'],\n 'LIAT': ['IM', 'KEN'],\n 'Safarilink': ['CQ', 'OMH'],\n 'TUI Airways': ['LB', 'GQO'],\n 'Primera Air': ['ZH', 'OSR'],\n 'Nature Air': ['IL', 'LXX'],\n 'Lubeck Air': ['DI', 'OFX'],\n 'Sunwing Airlines': ['EE', 'QQX'],\n 'Ethiopian Airlines': ['JZ', 'SBR'],\n 'Air Malta': ['GX', 'VZO'],\n 'Camair-Co': ['LQ', 'KBL'],\n 'SereneAir': ['UE', 'PRP'],\n 'SA Express': ['DD', 'RAZ'],\n 'Avianca': ['XX', 'ZWM'],\n 'Felix Airways': ['EN', 'SMS'],\n 'Winair': ['YM', 'JPD'],\n 'HOP!': ['BK', 'BGD'],\n 'Aero VIP': ['WN', 'JVX'],\n 'Bluebird Airways': ['QS', 'NUQ'],\n 'TAG Airlines': ['FC', 'BKB'],\n 'BoraJet': ['PS', 'PTL'],\n 'CemAir': ['JW', 'CHY'],\n 'Air Greenland': ['WU', 'UGU'],\n 'United Airlines': ['ZX', 'IGE'],\n 'NokScoot': ['YZ', 'PEO'],\n 'Thai Airways': ['JJ', 'HPN'],\n 'Rossiya Airlines': ['IH', 'SSP'],\n 'Pobeda Airlines': ['JV', 'WWJ'],\n 'Dragonair': ['OG', 'RZE'],\n 'flybe': ['UD', 'XCB'],\n 'Cayman Airways': ['CD', 'FED'],\n 'Jazz': ['KF', 'TZM'],\n 'Manta Air': ['XK', 'MAO'],\n 'Cambodia Bayon Airlines': ['CN', 'DEN'],\n 'Air Tahiti Nui': ['TN', 'JIU'],\n 'Jetstar Japan': ['XV', 'OIJ'],\n 'Nok Air': ['RE', 'DUU'],\n 'flyadeal': ['DN', 'SGO'],\n 'Maya Island Air': ['BB', 'LYX'],\n 'Akasa Air': ['MB', 'DUC'],\n 'Air Serbia': ['DK', 'VXF'],\n 'Spirit Airlines': ['RI', 'TRP'],\n 'AirAsia Zest': ['PP', 'ORN'],\n 'Air Juan': ['XM', 'HOY'],\n 'Air New Zealand': ['IW', 'SXL'],\n 'Nouvelair': ['ZR', 'ABO'],\n 'Tame Línea Aérea Del Ecuador': ['DE', 'YPY'],\n 'Malaysia Airlines': ['VG', 'XLW'],\n 'Montenegro Airlines': ['GH', 'NTN'],\n 'Aeromar': ['DZ', 'VRQ'],\n 'AirAsia': ['GR', 'SXM'],\n 'Aeromexico': ['NX', 'YAL'],\n 'Emirates': ['BJ', 'HLA'],\n 'Hi Fly': ['II', 'VPH'],\n 'LAN Peru': ['EC', 'OPY'],\n 'Icelandair': ['OF', 'ZXF'],\n 'Saudi Arabian Airlines': ['XS', 'HHR'],\n 'FLYONE': ['ZL', 'DTJ'],\n 'Turkmenistan Airlines': ['AW', 'HMD'],\n 'Citilink': ['KL', 'MUS'],\n 'Qazaq Air': ['XA', 'NSS'],\n 'Lion Air': ['HL', 'UMR'],\n 'Air Djibouti': ['JE', 'FYV'],\n 'Uganda Airlines': ['LN', 'UAP'],\n 'Jetstar Pacific': ['SD', 'XFK'],\n 'Mihin Lanka': ['AU', 'AUE'],\n 'CSA Czech Airlines': ['IY', 'BEC'],\n 'Shenzhen Airlines': ['GU', 'KJS'],\n 'KD Air': ['IQ', 'OUD'],\n 'World2Fly': ['YA', 'HSE'],\n 'LATAM Airlines': ['BC', 'AAE'],\n 'TransNusa': ['IK', 'BDN'],\n 'Tailwind Airlines': ['QU', 'JKK'],\n 'Air Berlin': ['RD', 'SIT'],\n 'Omni Air International': ['QR', 'ROR'],\n 'Salam Air': ['PI', 'DOX'],\n 'S7 Siberia Airlines': ['XD', 'XON'],\n 'Lufthansa': ['EI', 'EVB'],\n 'Eastern Airways': ['WR', 'VXI'],\n 'ASKY Airlines': ['LZ', 'OXR'],\n 'Belavia': ['BR', 'RPU'],\n 'Sun Country Airlines': ['ZA', 'JMN'],\n 'Wingo': ['PT', 'SAU'],\n 'Edelweiss Air': ['CB', 'KUQ'],\n 'Alliance Air': ['HE', 'AAO'],\n 'Titan Airways': ['HJ', 'XIX'],\n 'Aer Lingus': ['NH', 'WJC'],\n 'Air Busan': ['SS', 'KEL'],\n 'AirAsia X': ['HC', 'XPQ'],\n 'Hawaiian Airlines': ['GJ', 'VHL'],\n 'Air Arabia': ['CL', 'MVY'],\n \"T'Way Air\": ['TD', 'EXV']}"
     },
     "execution_count": 11,
     "metadata": {},
     "output_type": "execute_result"
    }
   ],
   "source": [
    "def generate_icao():\n",
    "    while True:\n",
    "        one_icao = random.choice(string.ascii_uppercase) + random.choice(string.ascii_uppercase) + random.choice(string.ascii_uppercase)\n",
    "        if one_icao not in used_icao:\n",
    "            used_icao.add(one_icao)\n",
    "            return one_icao\n",
    "\n",
    "\n",
    "used_icao = set()\n",
    "for key in flt_dict.keys():\n",
    "    flt_dict[key].append(generate_icao())\n",
    "\n",
    "flt_dict"
   ],
   "metadata": {
    "collapsed": false,
    "ExecuteTime": {
     "end_time": "2023-09-11T02:21:40.571311400Z",
     "start_time": "2023-09-11T02:21:40.533548200Z"
    }
   },
   "id": "74525fc323ad8859"
  },
  {
   "cell_type": "code",
   "execution_count": 12,
   "outputs": [
    {
     "name": "stdout",
     "output_type": "stream",
     "text": [
      "<class 'pandas.core.frame.DataFrame'>\n",
      "RangeIndex: 19329 entries, 0 to 19328\n",
      "Data columns (total 25 columns):\n",
      " #   Column           Non-Null Count  Dtype \n",
      "---  ------           --------------  ----- \n",
      " 0   REV_ID           19329 non-null  object\n",
      " 1   ARL_NAME         19329 non-null  object\n",
      " 2   REV_RT_O         19329 non-null  int64 \n",
      " 3   REV_TITLE        19329 non-null  object\n",
      " 4   REV_DATE         19329 non-null  object\n",
      " 5   PSG_VERIFIED     19329 non-null  bool  \n",
      " 6   REV_CONTENT      19329 non-null  object\n",
      " 7   FLT_AIRCRAFT     19329 non-null  object\n",
      " 8   PSG_TYPE         19329 non-null  object\n",
      " 9   PSG_SEAT_TYPE    19329 non-null  object\n",
      " 10  FLT_ROUTE        19329 non-null  object\n",
      " 11  FLT_DATE         19329 non-null  object\n",
      " 12  REV_RT_SC        19329 non-null  int64 \n",
      " 13  REV_RT_CSS       19329 non-null  int64 \n",
      " 14  REV_RT_FB        19329 non-null  int64 \n",
      " 15  REV_RT_GS        19329 non-null  int64 \n",
      " 16  REV_RT_IE        19329 non-null  int64 \n",
      " 17  REV_RT_WC        19329 non-null  int64 \n",
      " 18  REV_RT_VFM       19329 non-null  int64 \n",
      " 19  REV_RECOMMENDED  19329 non-null  bool  \n",
      " 20  PSG_ID           19329 non-null  object\n",
      " 21  PSG_GENDER       19329 non-null  object\n",
      " 22  PSG_AGE          19329 non-null  int64 \n",
      " 23  ARL_IATA         19329 non-null  object\n",
      " 24  ARL_ICAO         19329 non-null  object\n",
      "dtypes: bool(2), int64(9), object(14)\n",
      "memory usage: 3.4+ MB\n"
     ]
    }
   ],
   "source": [
    "origin_df['ARL_IATA'] = [flt_dict[name][0] for name in origin_df['ARL_NAME']]\n",
    "origin_df['ARL_ICAO'] = [flt_dict[name][1] for name in origin_df['ARL_NAME']]\n",
    "\n",
    "origin_df.info()"
   ],
   "metadata": {
    "collapsed": false,
    "ExecuteTime": {
     "end_time": "2023-09-11T02:29:47.314964800Z",
     "start_time": "2023-09-11T02:29:47.268091300Z"
    }
   },
   "id": "b685ee6adcdd7ea8"
  },
  {
   "cell_type": "code",
   "execution_count": 14,
   "outputs": [],
   "source": [
    "nations = ['United States'] * 20 + \\\n",
    "['China'] * 17 + \\\n",
    "['India'] * 11 + \\\n",
    "['Russia'] * 10 + \\\n",
    "['Brazil'] * 9 + \\\n",
    "['Canada'] * 9 + \\\n",
    "['Australia'] * 9 + \\\n",
    "['United Kingdom'] * 9 + \\\n",
    "['Germany'] * 9 + \\\n",
    "['France'] * 9 + \\\n",
    "['Japan'] * 9 + \\\n",
    "['South Korea'] * 6 + \\\n",
    "['Turkey'] * 6 + \\\n",
    "['United Arab Emirates'] * 6 + \\\n",
    "['Qatar'] * 6 + \\\n",
    "['Saudi Arabia'] * 6 + \\\n",
    "['South Africa'] * 5 + \\\n",
    "['Malaysia'] * 5 + \\\n",
    "['Singapore'] * 5 + \\\n",
    "['Thailand'] * 5 + \\\n",
    "['Indonesia'] * 5 + \\\n",
    "['Mexico'] * 4 + \\\n",
    "['Egypt'] * 4 + \\\n",
    "['Italy'] * 4 + \\\n",
    "['Spain'] * 3 + \\\n",
    "['Netherlands'] * 3 + \\\n",
    "['Sweden'] * 3 + \\\n",
    "['Switzerland'] * 3 + \\\n",
    "['Belgium'] * 3 + \\\n",
    "['Austria'] * 3 + \\\n",
    "['Greece'] * 3 + \\\n",
    "['Poland'] * 3 + \\\n",
    "['Norway'] * 3 + \\\n",
    "['Denmark'] * 3 + \\\n",
    "['Finland'] * 3 + \\\n",
    "['Portugal'] * 2 + \\\n",
    "['Ireland'] * 2 + \\\n",
    "['New Zealand'] * 2 + \\\n",
    "['Israel'] * 1 + \\\n",
    "['Hungary'] * 1 + \\\n",
    "['Czech Republic'] * 1 + \\\n",
    "['Romania'] * 1 + \\\n",
    "['Ukraine'] * 1 + \\\n",
    "['Argentina'] * 1"
   ],
   "metadata": {
    "collapsed": false,
    "ExecuteTime": {
     "end_time": "2023-09-11T02:44:10.197956600Z",
     "start_time": "2023-09-11T02:44:10.182331500Z"
    }
   },
   "id": "9c635c1e9d38de28"
  },
  {
   "cell_type": "code",
   "execution_count": 15,
   "outputs": [
    {
     "data": {
      "text/plain": "['United States',\n 'United States',\n 'United States',\n 'United States',\n 'United States',\n 'United States',\n 'United States',\n 'United States',\n 'United States',\n 'United States',\n 'United States',\n 'United States',\n 'United States',\n 'United States',\n 'United States',\n 'United States',\n 'United States',\n 'United States',\n 'United States',\n 'United States',\n 'China',\n 'China',\n 'China',\n 'China',\n 'China',\n 'China',\n 'China',\n 'China',\n 'China',\n 'China',\n 'China',\n 'China',\n 'China',\n 'China',\n 'China',\n 'China',\n 'China',\n 'India',\n 'India',\n 'India',\n 'India',\n 'India',\n 'India',\n 'India',\n 'India',\n 'India',\n 'India',\n 'India',\n 'Russia',\n 'Russia',\n 'Russia',\n 'Russia',\n 'Russia',\n 'Russia',\n 'Russia',\n 'Russia',\n 'Russia',\n 'Russia',\n 'Brazil',\n 'Brazil',\n 'Brazil',\n 'Brazil',\n 'Brazil',\n 'Brazil',\n 'Brazil',\n 'Brazil',\n 'Brazil',\n 'Canada',\n 'Canada',\n 'Canada',\n 'Canada',\n 'Canada',\n 'Canada',\n 'Canada',\n 'Canada',\n 'Canada',\n 'Australia',\n 'Australia',\n 'Australia',\n 'Australia',\n 'Australia',\n 'Australia',\n 'Australia',\n 'Australia',\n 'Australia',\n 'United Kingdom',\n 'United Kingdom',\n 'United Kingdom',\n 'United Kingdom',\n 'United Kingdom',\n 'United Kingdom',\n 'United Kingdom',\n 'United Kingdom',\n 'United Kingdom',\n 'Germany',\n 'Germany',\n 'Germany',\n 'Germany',\n 'Germany',\n 'Germany',\n 'Germany',\n 'Germany',\n 'Germany',\n 'France',\n 'France',\n 'France',\n 'France',\n 'France',\n 'France',\n 'France',\n 'France',\n 'France',\n 'Japan',\n 'Japan',\n 'Japan',\n 'Japan',\n 'Japan',\n 'Japan',\n 'Japan',\n 'Japan',\n 'Japan',\n 'South Korea',\n 'South Korea',\n 'South Korea',\n 'South Korea',\n 'South Korea',\n 'South Korea',\n 'Turkey',\n 'Turkey',\n 'Turkey',\n 'Turkey',\n 'Turkey',\n 'Turkey',\n 'United Arab Emirates',\n 'United Arab Emirates',\n 'United Arab Emirates',\n 'United Arab Emirates',\n 'United Arab Emirates',\n 'United Arab Emirates',\n 'Qatar',\n 'Qatar',\n 'Qatar',\n 'Qatar',\n 'Qatar',\n 'Qatar',\n 'Saudi Arabia',\n 'Saudi Arabia',\n 'Saudi Arabia',\n 'Saudi Arabia',\n 'Saudi Arabia',\n 'Saudi Arabia',\n 'South Africa',\n 'South Africa',\n 'South Africa',\n 'South Africa',\n 'South Africa',\n 'Malaysia',\n 'Malaysia',\n 'Malaysia',\n 'Malaysia',\n 'Malaysia',\n 'Singapore',\n 'Singapore',\n 'Singapore',\n 'Singapore',\n 'Singapore',\n 'Thailand',\n 'Thailand',\n 'Thailand',\n 'Thailand',\n 'Thailand',\n 'Indonesia',\n 'Indonesia',\n 'Indonesia',\n 'Indonesia',\n 'Indonesia',\n 'Mexico',\n 'Mexico',\n 'Mexico',\n 'Mexico',\n 'Egypt',\n 'Egypt',\n 'Egypt',\n 'Egypt',\n 'Italy',\n 'Italy',\n 'Italy',\n 'Italy',\n 'Spain',\n 'Spain',\n 'Spain',\n 'Netherlands',\n 'Netherlands',\n 'Netherlands',\n 'Sweden',\n 'Sweden',\n 'Sweden',\n 'Switzerland',\n 'Switzerland',\n 'Switzerland',\n 'Belgium',\n 'Belgium',\n 'Belgium',\n 'Austria',\n 'Austria',\n 'Austria',\n 'Greece',\n 'Greece',\n 'Greece',\n 'Poland',\n 'Poland',\n 'Poland',\n 'Norway',\n 'Norway',\n 'Norway',\n 'Denmark',\n 'Denmark',\n 'Denmark',\n 'Finland',\n 'Finland',\n 'Finland',\n 'Portugal',\n 'Portugal',\n 'Ireland',\n 'Ireland',\n 'New Zealand',\n 'New Zealand',\n 'Israel',\n 'Hungary',\n 'Czech Republic',\n 'Romania',\n 'Ukraine',\n 'Argentina']"
     },
     "execution_count": 15,
     "metadata": {},
     "output_type": "execute_result"
    }
   ],
   "source": [
    "nations"
   ],
   "metadata": {
    "collapsed": false,
    "ExecuteTime": {
     "end_time": "2023-09-11T02:44:11.380086900Z",
     "start_time": "2023-09-11T02:44:11.348829100Z"
    }
   },
   "id": "24837cda891f88c7"
  },
  {
   "cell_type": "code",
   "execution_count": 16,
   "outputs": [
    {
     "data": {
      "text/plain": "{'Iran Air': ['WP', 'RWB', 'Netherlands'],\n 'Nordica': ['DB', 'LFN', 'Finland'],\n 'ATA Airlines': ['BD', 'ZWK', 'Germany'],\n 'Estonian Air': ['VT', 'QBE', 'Malaysia'],\n 'Jetblue Airways': ['TH', 'EYH', 'South Korea'],\n 'Kuwait Airways': ['WD', 'TPN', 'China'],\n 'Rex Airlines': ['VD', 'CYU', 'Canada'],\n 'Air Italy': ['LC', 'PTJ', 'China'],\n 'Avior Airlines': ['CP', 'BNN', 'Germany'],\n 'Air Transat': ['PV', 'GSA', 'Czech Republic'],\n 'Myanmar Airways': ['SY', 'CRF', 'Germany'],\n 'China Eastern Airlines': ['KP', 'TIL', 'India'],\n 'Sansa Airlines': ['OB', 'CGH', 'Indonesia'],\n 'Shandong Airlines': ['ZK', 'WGO', 'Norway'],\n 'Super Air Jet': ['ZW', 'MDI', 'Finland'],\n 'WOW air': ['DC', 'POC', 'India'],\n 'Bahamasair': ['UX', 'KPM', 'Japan'],\n 'VivaAerobús': ['ND', 'EZU', 'Australia'],\n 'Air Macau': ['PQ', 'SEU', 'South Africa'],\n 'Jet Airways': ['KJ', 'LLM', 'Thailand'],\n 'Cebu Pacific': ['UP', 'WSC', 'Mexico'],\n 'Corendon Airlines': ['TJ', 'TDW', 'United Kingdom'],\n 'Motor Sich Airlines': ['IO', 'IMM', 'Australia'],\n 'ZIPAIR': ['SA', 'NNP', 'United States'],\n 'China Airlines': ['YU', 'PJM', 'Singapore'],\n 'Xiamen Airlines': ['VJ', 'IKC', 'Russia'],\n 'South African Airways': ['EO', 'PRN', 'Finland'],\n 'Canaryfly': ['FW', 'FDW', 'Norway'],\n 'China United Airlines': ['IZ', 'EFU', 'Brazil'],\n 'Trigana Air': ['NY', 'TYT', 'Spain'],\n 'Mahan Air': ['QZ', 'QDE', 'Germany'],\n 'Germanwings': ['UA', 'HKK', 'Brazil'],\n 'Alitalia': ['ZQ', 'UIT', 'United States'],\n 'Red Wings Airlines': ['KS', 'KQI', 'Singapore'],\n 'NAM Air': ['PB', 'MZG', 'Canada'],\n 'NordStar': ['GA', 'PCX', 'China'],\n 'Flair Airlines': ['WC', 'MPO', 'Egypt'],\n 'Comair': ['BV', 'LSB', 'Malaysia'],\n 'Asiana Airlines': ['WL', 'AYX', 'Malaysia'],\n 'Flynas': ['GN', 'HWM', 'India'],\n 'Amaszonas': ['MT', 'GUO', 'Singapore'],\n 'VLM Airlines': ['AY', 'VXU', 'Canada'],\n 'LOT Polish Airlines': ['AJ', 'EQB', 'Brazil'],\n 'Corsair': ['LT', 'TEU', 'South Africa'],\n 'UP by El Al': ['QB', 'OYX', 'China'],\n 'Vistara': ['VI', 'PRK', 'Russia'],\n 'Madagasikara Airways': ['KR', 'TEJ', 'China'],\n 'Zambia Airways': ['BO', 'XJX', 'Switzerland'],\n 'Ellinair': ['PE', 'GQQ', 'Switzerland'],\n 'Iberojet': ['FP', 'FIT', 'China'],\n 'Jet2.com': ['IA', 'EAG', 'Germany'],\n 'LC Perú': ['AT', 'PNV', 'United Kingdom'],\n 'Sun-Air': ['DX', 'RZF', 'South Korea'],\n 'StarFlyer': ['BM', 'AZI', 'Mexico'],\n 'GoAir': ['OL', 'BSI', 'Czech Republic'],\n 'Novoair': ['HP', 'APR', 'Belgium'],\n 'Thai Smile Airways': ['US', 'VHA', 'Germany'],\n 'EVA Air': ['BE', 'SWI', 'United States'],\n 'Yeti Airlines': ['KX', 'FGT', 'United States'],\n 'FlySafair': ['LE', 'YMW', 'Japan'],\n 'Air Panama': ['BG', 'GML', 'Russia'],\n 'FMI Air': ['HS', 'WJS', 'United Kingdom'],\n 'Sichuan Airlines': ['RA', 'QVA', 'South Africa'],\n 'HiSky': ['UT', 'SHF', 'Poland'],\n 'Israir Airlines': ['DW', 'XSG', 'Denmark'],\n 'SCAT Airlines': ['NN', 'MNP', 'India'],\n 'Yakutia Airlines': ['BY', 'IOL', 'United States'],\n 'euroAtlantic Airways': ['QN', 'VEK', 'Brazil'],\n 'Mandarin Airlines': ['NW', 'ARC', 'Germany'],\n 'Qantas Airways': ['HF', 'XTR', 'India'],\n 'Wizz Air': ['GB', 'TVN', 'Sweden'],\n 'American Airlines': ['ZC', 'TQZ', 'Argentina'],\n 'SkyUp Airlines': ['GV', 'BFP', 'Australia'],\n 'Air Corsica': ['BF', 'BAT', 'China'],\n 'Air Pegasus': ['ED', 'VVK', 'Switzerland'],\n 'ANA All Nippon Airways': ['CI', 'HNE', 'France'],\n 'Air Namibia': ['NS', 'MMN', 'Malaysia'],\n 'Laudamotion': ['LA', 'YBT', 'China'],\n 'Blue1': ['WY', 'NMA', 'Indonesia'],\n 'Norse Atlantic Airways': ['KM', 'NGK', 'United Kingdom'],\n 'Air Algerie': ['XR', 'HZA', 'Italy'],\n 'Sky Airline': ['TY', 'UDZ', 'Turkey'],\n 'Ural Airlines': ['NF', 'FTA', 'Singapore'],\n 'KLM Royal Dutch Airlines': ['TB', 'RVM', 'France'],\n 'Air Seychelles': ['YS', 'EVW', 'Belgium'],\n 'Finnair': ['RO', 'GAS', 'Egypt'],\n 'China Southern Airlines': ['YY', 'ATF', 'Qatar'],\n 'Somon Air': ['WF', 'ACY', 'New Zealand'],\n 'Air Canada': ['ZF', 'FQG', 'Austria'],\n 'AeroItalia': ['PM', 'EPN', 'Japan'],\n 'Loganair': ['KG', 'ZEV', 'Russia'],\n 'Mann Yadanarpon Airlines': ['IC', 'NMV', 'Japan'],\n 'SmartWings': ['TA', 'EBK', 'Italy'],\n 'Breeze Airways': ['BL', 'TQW', 'France'],\n 'TUIfly Nordic': ['TQ', 'BZQ', 'Brazil'],\n 'PAL Express': ['KO', 'SVF', 'Egypt'],\n 'Horizon Air': ['BZ', 'DEG', 'Indonesia'],\n 'Aircalin': ['OS', 'BCL', 'Germany'],\n 'French Bee': ['UF', 'KZA', 'China'],\n 'Tigerair Taiwan': ['XC', 'RNJ', 'Egypt'],\n 'TAM Airlines': ['IP', 'BHE', 'Brazil'],\n 'Level': ['QF', 'FUJ', 'Turkey'],\n 'Canadian North': ['EL', 'EGX', 'Japan'],\n 'Aeroflot Russian Airlines': ['KB', 'BPD', 'Norway'],\n 'El Al Israel Airlines': ['MQ', 'LYN', 'Turkey'],\n 'Mauritania Airlines': ['TP', 'HZG', 'Canada'],\n 'Vueling Airlines': ['GI', 'GTR', 'Austria'],\n 'Air China': ['SQ', 'KUR', 'Saudi Arabia'],\n 'Binter Canarias': ['DY', 'MWT', 'Egypt'],\n 'Iberia': ['KK', 'DKJ', 'Belgium'],\n 'Cobalt': ['AS', 'NSU', 'New Zealand'],\n 'V Air': ['RX', 'QAQ', 'Ireland'],\n 'Alaska Airlines': ['IU', 'YAQ', 'Turkey'],\n 'Firefly': ['WW', 'VKF', 'United Kingdom'],\n 'Easyfly': ['SZ', 'FYP', 'United Kingdom'],\n 'Wings Air': ['ZD', 'MBI', 'Mexico'],\n 'US Airways': ['SI', 'MOZ', 'Australia'],\n 'Air Madagascar': ['XH', 'AND', 'South Korea'],\n 'Cathay Dragon': ['JY', 'NIG', 'Indonesia'],\n 'Philippine Airlines': ['MF', 'SFY', 'Germany'],\n 'EWA Air': ['TR', 'CNC', 'Portugal'],\n 'Kenya Airways': ['VQ', 'NAM', 'South Korea'],\n 'Dynamic International Airways': ['RC', 'HEA', 'Russia'],\n 'Golden Myanmar Airlines': ['JB', 'AWS', 'Switzerland'],\n 'Petroleum Air Services': ['EX', 'WGP', 'United Arab Emirates'],\n 'TAR Aerolineas': ['AQ', 'HOF', 'China'],\n 'Air Iceland Connect': ['PJ', 'OKY', 'China'],\n 'Kan Air': ['JN', 'SUM', 'Indonesia'],\n 'LAN Airlines': ['AZ', 'JXF', 'Italy'],\n 'Eswatini Air': ['YB', 'KUP', 'United States'],\n 'TAME': ['RV', 'GAL', 'China'],\n 'Kam Air': ['FQ', 'GOO', 'Egypt'],\n 'Singapore Airlines': ['BQ', 'DPV', 'United States'],\n 'Delta Air Lines': ['MO', 'KMS', 'India'],\n 'Thomson Airways': ['XE', 'NZJ', 'China'],\n 'British Airways': ['PW', 'LHD', 'United States'],\n 'Wideroe': ['TW', 'QAT', 'Qatar'],\n 'AirAsia India': ['ER', 'AEI', 'Ukraine'],\n 'Jordan Aviation': ['DV', 'VYL', 'South Africa'],\n 'Wamos Air': ['CX', 'OSW', 'Indonesia'],\n 'Allegiant Air': ['PY', 'MLV', 'Italy'],\n 'Utair Aviation': ['FS', 'HPR', 'Qatar'],\n 'Air Tanzania': ['TV', 'GXG', 'China'],\n 'Air India Express': ['FD', 'MNF', 'United States'],\n 'Tigerair Australia': ['VP', 'WGE', 'India'],\n 'Brussels Airlines': ['XI', 'MRH', 'China'],\n 'Armenia Air Company': ['DU', 'UMG', 'Saudi Arabia'],\n 'Shaheen Air': ['LO', 'QZF', 'Russia'],\n 'Malawian Airlines': ['DR', 'JUR', 'Mexico'],\n 'Scoot': ['MP', 'KGY', 'United States'],\n 'Regional Express': ['HN', 'KPF', 'Germany'],\n 'Skytrans Airlines': ['KC', 'AYE', 'Mexico'],\n 'TAP Portugal': ['QG', 'YYB', 'China'],\n 'Safi Airways': ['WX', 'RJD', 'Australia'],\n 'Lucky Air': ['AC', 'FMX', 'Argentina'],\n 'Blue Air': ['ZE', 'VDX', 'Argentina'],\n 'Insel Air': ['WH', 'LUA', 'Italy'],\n 'Croatia Airlines': ['WI', 'AAH', 'Greece'],\n 'easyJet': ['FT', 'IKH', 'Japan'],\n 'QantasLink': ['FN', 'RVJ', 'Australia'],\n 'Air Koryo': ['WV', 'UMJ', 'Denmark'],\n 'Ravn Alaska': ['SM', 'DQM', 'France'],\n 'Air France': ['UI', 'IVJ', 'Spain'],\n 'Hunnu Air': ['KI', 'HPB', 'Denmark'],\n 'fastjet': ['BW', 'MNO', 'Mexico'],\n 'Peach Aviation': ['GK', 'VVH', 'United States'],\n 'Skymark Airlines': ['ZU', 'DFI', 'South Africa'],\n 'Jetairfly': ['QQ', 'PHJ', 'France'],\n 'Privilege Style': ['IJ', 'BKO', 'Turkey'],\n 'Viva Air': ['HQ', 'YBY', 'Norway'],\n 'Central Mountain Air': ['YI', 'WNO', 'China'],\n 'Virgin America': ['WT', 'GKC', 'United Arab Emirates'],\n 'Interjet': ['IG', 'ZCN', 'Brazil'],\n 'Alliance Airlines': ['EG', 'WEA', 'Canada'],\n 'Air Rarotonga': ['AV', 'LDU', 'United States'],\n 'Coastal Aviation': ['PX', 'RZQ', 'Russia'],\n 'Arkefly': ['PO', 'ASN', 'Germany'],\n 'Tibet Airlines': ['BN', 'KLA', 'Russia'],\n 'Royal Jordanian Airlines': ['GC', 'YBX', 'China'],\n 'Air Dolomiti': ['TC', 'YPA', 'Turkey'],\n 'Beijing Capital Airlines': ['GZ', 'FSR', 'India'],\n 'Copa Airlines': ['LY', 'TGN', 'India'],\n 'Aerolineas Argentinas': ['LW', 'DOS', 'Japan'],\n 'Go First': ['IF', 'GEW', 'Qatar'],\n 'PenAir': ['MW', 'USY', 'United States'],\n 'MEGA Maldives Airlines': ['VO', 'YXF', 'Netherlands'],\n 'Sriwijaya Air': ['GW', 'QTX', 'Saudi Arabia'],\n 'Tianjin Airlines': ['WS', 'XRW', 'United States'],\n 'Africa World Airlines': ['RS', 'YXC', 'Finland'],\n 'Japan Airlines': ['YQ', 'OKW', 'France'],\n 'Pacific Airlines': ['LM', 'APJ', 'Germany'],\n 'Eurowings': ['XQ', 'PWL', 'Egypt'],\n 'Air Mauritius': ['XJ', 'OFB', 'Italy'],\n 'Ernest Airlines': ['NB', 'RNQ', 'Canada'],\n 'Seaborne Airlines': ['CC', 'INH', 'United States'],\n 'Atlantic Airways': ['PC', 'OJU', 'South Africa'],\n 'Meridiana': ['BH', 'SSC', 'India'],\n 'Air KBZ': ['SK', 'YHL', 'Russia'],\n 'Condor Airlines': ['MI', 'RUY', 'Canada'],\n 'NIKI': ['IN', 'XMT', 'Canada'],\n 'Thomas Cook Airlines': ['SF', 'UEG', 'Japan'],\n 'Thomas Cook Airlines Scandinavia': ['ZZ', 'UOJ', 'Sweden'],\n 'Cyprus Airways': ['QL', 'KCC', 'Ireland'],\n 'Gulf Air': ['VW', 'UUN', 'Qatar'],\n 'Lynx Air': ['UM', 'WQV', 'Thailand'],\n 'Mokulele Airlines': ['CJ', 'HBX', 'Indonesia'],\n 'AirSWIFT': ['VZ', 'UTN', 'India'],\n 'Aegean Airlines': ['HY', 'DKL', 'China'],\n 'Aigle Azur': ['HW', 'MMF', 'Saudi Arabia'],\n 'Southwest Airlines': ['AF', 'XPH', 'Germany'],\n 'Regent Airways': ['BP', 'YKY', 'India'],\n 'Oman Air': ['YG', 'WYK', 'Malaysia'],\n 'SilkAir': ['VR', 'HCC', 'Sweden'],\n 'Adria Airways': ['JU', 'RZW', 'France'],\n 'Bangkok Airways': ['JF', 'BXF', 'Japan'],\n 'flydubai': ['HT', 'IOC', 'Italy'],\n 'Transavia': ['AI', 'XDU', 'Brazil'],\n 'Air India': ['MN', 'NVS', 'Indonesia'],\n 'Grand Cru Airlines': ['NI', 'EWV', 'United States'],\n 'Garuda Indonesia': ['DF', 'IQZ', 'Germany'],\n 'Airnorth': ['XZ', 'FFS', 'United States'],\n 'Air Niugini': ['AD', 'CHT', 'South Korea'],\n 'Avelo Airlines': ['NM', 'MOK', 'Singapore'],\n 'Ariana Afghan Airlines': ['ZS', 'JEI', 'Switzerland'],\n 'JC International Airlines': ['ZI', 'WOO', 'Singapore'],\n \"Air Cote d'Ivoire\": ['BX', 'TLA', 'Turkey'],\n 'Eastern Airlines': ['OW', 'VVD', 'Saudi Arabia'],\n 'Air Nostrum': ['KN', 'EAX', 'Sweden'],\n 'Shanghai Airlines': ['LU', 'ZNK', 'Ireland'],\n 'Volotea': ['QY', 'KXX', 'United Kingdom'],\n 'SVG Air': ['PZ', 'XKM', 'Australia'],\n 'AB Aviation': ['SU', 'ULE', 'China'],\n 'Olympic Air': ['ZO', 'AHT', 'United States'],\n 'Sky Express Airlines': ['SG', 'KRW', 'Hungary'],\n 'Transaero Airlines': ['LL', 'LLS', 'Malaysia'],\n 'Jazeera Airways': ['ME', 'JIL', 'China'],\n 'Jin Air': ['OX', 'WZO', 'Mexico'],\n 'LAN Colombia': ['UO', 'VOA', 'India'],\n 'Thai AirAsia': ['EB', 'PLR', 'China'],\n 'Openskies': ['CR', 'XEM', 'Spain'],\n 'Buddha Air': ['AL', 'RKV', 'China'],\n 'Nauru Airlines': ['UZ', 'ING', 'Austria'],\n 'Azur Air Germany': ['BI', 'CCF', 'Israel'],\n 'Fiji Airways': ['UG', 'NYD', 'Japan'],\n \"Air North Yukon's Airline\": ['MK', 'SWG', 'United Kingdom'],\n 'XL Airways France': ['KD', 'MNM', 'United Kingdom'],\n 'TUIfly': ['HD', 'GKU', 'Qatar'],\n 'Onur Air': ['VV', 'WVO', 'Russia'],\n 'Cape Air': ['TT', 'CQV', 'Indonesia'],\n 'Jetstar Asia': ['ZM', 'KHX', 'China'],\n 'Cathay Pacific Airways': ['OJ', 'SQQ', 'Turkey'],\n 'Swoop': ['LJ', 'ROA', 'France'],\n 'Passion Air': ['TI', 'YOZ', 'United Kingdom'],\n 'Caribbean Airlines': ['CE', 'NED', 'Brazil'],\n 'bmi Regional': ['OH', 'YRC', 'Canada'],\n 'SATA Air Azores': ['OI', 'JQE', 'Malaysia'],\n 'Georgian Airways': ['KU', 'KAG', 'Finland'],\n 'Buta Airways': ['BT', 'BMH', 'France'],\n 'Silver Airways': ['ZB', 'DMI', 'United Kingdom'],\n 'Uzbekistan Airways': ['SC', 'TVG', 'Japan'],\n 'Iraqi Airways': ['MZ', 'WGL', 'Malaysia'],\n 'Badr Airlines': ['RY', 'XOJ', 'Portugal'],\n 'Turkish Airlines': ['DA', 'PIM', 'United States'],\n 'SkyWork Airlines': ['LS', 'VXB', 'India'],\n 'JetsuiteX': ['NE', 'VBU', 'Saudi Arabia'],\n 'Voyage Air': ['FJ', 'IVM', 'United Kingdom'],\n 'Vanilla Air': ['NO', 'CXX', 'Russia'],\n 'Mack Air': ['JQ', 'JPX', 'Belgium'],\n 'Qatar Airways': ['YD', 'HMY', 'Brazil'],\n 'Himalaya Airlines': ['XL', 'MMG', 'China'],\n 'MAYAir': ['AR', 'PIB', 'Canada'],\n 'Smartavia': ['WJ', 'LCW', 'Romania'],\n 'Thai Lion Air': ['DS', 'NIO', 'Malaysia'],\n 'VivaColombia': ['KA', 'AEE', 'Greece'],\n 'PAWA Dominicana': ['KH', 'SDV', 'Argentina'],\n 'Jetstar Airways': ['VN', 'FOD', 'Indonesia'],\n 'Nile Air': ['RK', 'UFG', 'Turkey'],\n 'AnadoluJet': ['AP', 'NDE', 'Japan'],\n 'Peruvian Airlines': ['VB', 'PKQ', 'Brazil'],\n 'JetSmart': ['ZJ', 'EGZ', 'Switzerland'],\n 'Surinam Airways': ['QI', 'JHF', 'France'],\n 'Porter Airlines': ['PR', 'VSH', 'United States'],\n 'Jeju Air': ['OR', 'ETG', 'Poland'],\n 'Nordwind Airlines': ['QH', 'UGY', 'Netherlands'],\n 'Air Burkina': ['SX', 'BEF', 'South Africa'],\n 'Bulgaria Air': ['AH', 'WJG', 'Canada'],\n 'American Eagle': ['RB', 'AOR', 'United States'],\n 'SmartLynx Airlines': ['EP', 'GHH', 'Ireland'],\n 'Joon': ['NR', 'LGW', 'United Arab Emirates'],\n 'Ultra Air': ['FR', 'GPX', 'Australia'],\n 'TUS Airways': ['FL', 'LWA', 'Spain'],\n 'SriLankan Airlines': ['ID', 'ZQS', 'Germany'],\n 'Maldivian': ['RF', 'FDK', 'United Kingdom'],\n 'Rhein-Neckar Air': ['TF', 'JKA', 'Japan'],\n 'Air Caraibes': ['EK', 'VSI', 'United Kingdom'],\n 'Arik Air': ['ZV', 'QJS', 'United Kingdom'],\n 'Yangon Airways': ['DO', 'PDD', 'Greece'],\n 'Azerbaijan Airlines': ['CG', 'ZTN', 'Italy'],\n 'Hainan Airlines': ['OO', 'UOW', 'Switzerland'],\n 'SATENA': ['VM', 'QLM', 'Indonesia'],\n 'AirAsia Philippines': ['UW', 'DPA', 'Australia'],\n 'US-Bangla Airlines': ['OY', 'KRF', 'United Kingdom'],\n 'Air Canada rouge': ['RP', 'BRQ', 'Malaysia'],\n 'FlyArystan': ['CM', 'CQG', 'Singapore'],\n 'Solomon Airlines': ['MR', 'NFD', 'Turkey'],\n 'Etihad Airways': ['AM', 'OXQ', 'Malaysia'],\n 'Lao Airlines': ['YF', 'KWR', 'Norway'],\n 'airBaltic': ['FB', 'QYH', 'United Kingdom'],\n 'Korean Air': ['RM', 'QAW', 'Russia'],\n 'Nordic Regional Airlines': ['MY', 'IZO', 'India'],\n 'Bamboo Airways': ['JP', 'NYC', 'United States'],\n 'Air Zimbabwe': ['IR', 'XWE', 'Greece'],\n 'Austrian Airlines': ['LG', 'BHD', 'Finland'],\n 'Hong Kong Airlines': ['RN', 'TZK', 'United States'],\n 'Air Moldova': ['QP', 'DYA', 'Japan'],\n 'Fly540.com': ['PG', 'YHV', 'Ukraine'],\n 'Bassaka Air': ['EV', 'YIN', 'Malaysia'],\n 'Skybus': ['JI', 'FAT', 'Brazil'],\n 'Norwegian': ['FA', 'WFV', 'United States'],\n 'Airlink': ['KE', 'MBV', 'Ireland'],\n 'Evelop Airlines': ['XW', 'UUK', 'Finland'],\n 'Air Austral': ['RZ', 'LYT', 'Brazil'],\n 'Batik Air': ['VU', 'ATE', 'Russia'],\n 'Air Antilles': ['QX', 'PBA', 'Japan'],\n 'Cubana Airlines': ['DL', 'LLN', 'United States'],\n 'Auric Air': ['QK', 'RIO', 'United States'],\n 'Pan Pacific Airlines': ['EW', 'UZB', 'India'],\n 'CityJet': ['YT', 'SUE', 'Austria'],\n 'TAAG Angola Airlines': ['KY', 'HZN', 'Qatar'],\n 'ITA Airways': ['TX', 'VCZ', 'Australia'],\n 'Cambodia Airways': ['EH', 'MOG', 'United States'],\n 'Druk Air': ['GQ', 'HZO', 'Russia'],\n 'Myanmar National Airlines': ['SV', 'DBV', 'Turkey'],\n 'Royal Brunei Airlines': ['VE', 'ZAP', 'United States'],\n 'Air Europa': ['KQ', 'YDI', 'United States'],\n 'PLAY': ['WQ', 'NTP', 'Australia'],\n 'Bhutan Airlines': ['MM', 'MEF', 'Brazil'],\n 'La Compagnie': ['TZ', 'JQV', 'Belgium'],\n 'Pegasus Airlines': ['FV', 'ITU', 'Germany'],\n 'Rwandair': ['DT', 'DUR', 'United Kingdom'],\n 'Suparna Airlines': ['TE', 'AZZ', 'India'],\n 'BA CityFlyer': ['HG', 'FRV', 'United States'],\n 'Dimonim Air': ['GG', 'YJA', 'Spain'],\n 'Air Costa': ['UC', 'GVG', 'Portugal'],\n 'Intercaribbean Airways': ['HR', 'KMO', 'Australia'],\n 'Tunisair': ['FY', 'QWD', 'Austria'],\n 'Iberia Express': ['UJ', 'OIC', 'United Kingdom'],\n 'Blue Islands': ['CF', 'FHK', 'India'],\n 'Kulula': ['DG', 'GHE', 'Russia'],\n 'Libyan Airlines': ['QE', 'QQT', 'Qatar'],\n 'Royal Air Maroc': ['SE', 'YTF', 'Turkey'],\n 'Monarch Airlines': ['AN', 'COA', 'China'],\n 'Andes Líneas Aéreas': ['ZN', 'HVI', 'United Arab Emirates'],\n 'Malindo Air': ['UU', 'IWQ', 'Spain'],\n 'Aurigny Air': ['JT', 'HOX', 'Czech Republic'],\n 'Virgin Australia': ['QT', 'NWN', 'New Zealand'],\n 'SpiceJet': ['CU', 'MZD', 'Belgium'],\n 'Air Cairo': ['DH', 'FIF', 'Japan'],\n 'Blue Panorama Airlines': ['VL', 'VPM', 'Japan'],\n 'Volaris': ['XY', 'PXP', 'United States'],\n 'Vietnam Airlines': ['GL', 'QYO', 'Indonesia'],\n 'Air Astana': ['OU', 'TOI', 'Belgium'],\n 'Frontier Airlines': ['LX', 'UKW', 'Greece'],\n 'Tropic Air Belize': ['UB', 'POJ', 'South Korea'],\n 'ViaAir': ['JG', 'KZS', 'Sweden'],\n 'Nordavia': ['HA', 'WSV', 'Brazil'],\n 'Greater Bay Airlines': ['HX', 'EPM', 'China'],\n 'Luxair': ['HV', 'ULG', 'Switzerland'],\n 'SkyWest Airlines': ['MU', 'DOP', 'United States'],\n 'Ryanair': ['XG', 'JGC', 'Canada'],\n 'Boutique Air': ['AE', 'TKL', 'United States'],\n 'Germania Airline': ['BS', 'BCD', 'Russia'],\n 'Air Botswana': ['HZ', 'XDG', 'United States'],\n 'Egyptair': ['SP', 'HXI', 'United States'],\n 'Nepal Airlines': ['YX', 'VCE', 'Germany'],\n 'Tigerair': ['JH', 'IVZ', 'Japan'],\n 'LIAT': ['IM', 'KEN', 'Canada'],\n 'Safarilink': ['CQ', 'OMH', 'Denmark'],\n 'TUI Airways': ['LB', 'GQO', 'Germany'],\n 'Primera Air': ['ZH', 'OSR', 'Egypt'],\n 'Nature Air': ['IL', 'LXX', 'Russia'],\n 'Lubeck Air': ['DI', 'OFX', 'United Arab Emirates'],\n 'Sunwing Airlines': ['EE', 'QQX', 'China'],\n 'Ethiopian Airlines': ['JZ', 'SBR', 'South Korea'],\n 'Air Malta': ['GX', 'VZO', 'Russia'],\n 'Camair-Co': ['LQ', 'KBL', 'Qatar'],\n 'SereneAir': ['UE', 'PRP', 'Malaysia'],\n 'SA Express': ['DD', 'RAZ', 'Denmark'],\n 'Avianca': ['XX', 'ZWM', 'South Africa'],\n 'Felix Airways': ['EN', 'SMS', 'Australia'],\n 'Winair': ['YM', 'JPD', 'Poland'],\n 'HOP!': ['BK', 'BGD', 'Israel'],\n 'Aero VIP': ['WN', 'JVX', 'United Arab Emirates'],\n 'Bluebird Airways': ['QS', 'NUQ', 'Canada'],\n 'TAG Airlines': ['FC', 'BKB', 'Austria'],\n 'BoraJet': ['PS', 'PTL', 'India'],\n 'CemAir': ['JW', 'CHY', 'Turkey'],\n 'Air Greenland': ['WU', 'UGU', 'Switzerland'],\n 'United Airlines': ['ZX', 'IGE', 'Denmark'],\n 'NokScoot': ['YZ', 'PEO', 'South Africa'],\n 'Thai Airways': ['JJ', 'HPN', 'France'],\n 'Rossiya Airlines': ['IH', 'SSP', 'China'],\n 'Pobeda Airlines': ['JV', 'WWJ', 'Singapore'],\n 'Dragonair': ['OG', 'RZE', 'Finland'],\n 'flybe': ['UD', 'XCB', 'Brazil'],\n 'Cayman Airways': ['CD', 'FED', 'Japan'],\n 'Jazz': ['KF', 'TZM', 'United States'],\n 'Manta Air': ['XK', 'MAO', 'Japan'],\n 'Cambodia Bayon Airlines': ['CN', 'DEN', 'Turkey'],\n 'Air Tahiti Nui': ['TN', 'JIU', 'Saudi Arabia'],\n 'Jetstar Japan': ['XV', 'OIJ', 'India'],\n 'Nok Air': ['RE', 'DUU', 'Indonesia'],\n 'flyadeal': ['DN', 'SGO', 'Australia'],\n 'Maya Island Air': ['BB', 'LYX', 'Australia'],\n 'Akasa Air': ['MB', 'DUC', 'Japan'],\n 'Air Serbia': ['DK', 'VXF', 'India'],\n 'Spirit Airlines': ['RI', 'TRP', 'India'],\n 'AirAsia Zest': ['PP', 'ORN', 'Switzerland'],\n 'Air Juan': ['XM', 'HOY', 'United States'],\n 'Air New Zealand': ['IW', 'SXL', 'Italy'],\n 'Nouvelair': ['ZR', 'ABO', 'South Korea'],\n 'Tame Línea Aérea Del Ecuador': ['DE', 'YPY', 'United States'],\n 'Malaysia Airlines': ['VG', 'XLW', 'Italy'],\n 'Montenegro Airlines': ['GH', 'NTN', 'India'],\n 'Aeromar': ['DZ', 'VRQ', 'United States'],\n 'AirAsia': ['GR', 'SXM', 'Switzerland'],\n 'Aeromexico': ['NX', 'YAL', 'Mexico'],\n 'Emirates': ['BJ', 'HLA', 'Belgium'],\n 'Hi Fly': ['II', 'VPH', 'United Kingdom'],\n 'LAN Peru': ['EC', 'OPY', 'Australia'],\n 'Icelandair': ['OF', 'ZXF', 'Switzerland'],\n 'Saudi Arabian Airlines': ['XS', 'HHR', 'Greece'],\n 'FLYONE': ['ZL', 'DTJ', 'Greece'],\n 'Turkmenistan Airlines': ['AW', 'HMD', 'France'],\n 'Citilink': ['KL', 'MUS', 'United Arab Emirates'],\n 'Qazaq Air': ['XA', 'NSS', 'Sweden'],\n 'Lion Air': ['HL', 'UMR', 'United Arab Emirates'],\n 'Air Djibouti': ['JE', 'FYV', 'United Kingdom'],\n 'Uganda Airlines': ['LN', 'UAP', 'Argentina'],\n 'Jetstar Pacific': ['SD', 'XFK', 'United Kingdom'],\n 'Mihin Lanka': ['AU', 'AUE', 'China'],\n 'CSA Czech Airlines': ['IY', 'BEC', 'Japan'],\n 'Shenzhen Airlines': ['GU', 'KJS', 'Brazil'],\n 'KD Air': ['IQ', 'OUD', 'United Kingdom'],\n 'World2Fly': ['YA', 'HSE', 'South Korea'],\n 'LATAM Airlines': ['BC', 'AAE', 'South Africa'],\n 'TransNusa': ['IK', 'BDN', 'Russia'],\n 'Tailwind Airlines': ['QU', 'JKK', 'Thailand'],\n 'Air Berlin': ['RD', 'SIT', 'Turkey'],\n 'Omni Air International': ['QR', 'ROR', 'Austria'],\n 'Salam Air': ['PI', 'DOX', 'Finland'],\n 'S7 Siberia Airlines': ['XD', 'XON', 'Switzerland'],\n 'Lufthansa': ['EI', 'EVB', 'Qatar'],\n 'Eastern Airways': ['WR', 'VXI', 'South Korea'],\n 'ASKY Airlines': ['LZ', 'OXR', 'Egypt'],\n 'Belavia': ['BR', 'RPU', 'Norway'],\n 'Sun Country Airlines': ['ZA', 'JMN', 'Russia'],\n 'Wingo': ['PT', 'SAU', 'Norway'],\n 'Edelweiss Air': ['CB', 'KUQ', 'South Korea'],\n 'Alliance Air': ['HE', 'AAO', 'United States'],\n 'Titan Airways': ['HJ', 'XIX', 'India'],\n 'Aer Lingus': ['NH', 'WJC', 'Norway'],\n 'Air Busan': ['SS', 'KEL', 'Egypt'],\n 'AirAsia X': ['HC', 'XPQ', 'United Arab Emirates'],\n 'Hawaiian Airlines': ['GJ', 'VHL', 'Japan'],\n 'Air Arabia': ['CL', 'MVY', 'Japan'],\n \"T'Way Air\": ['TD', 'EXV', 'France']}"
     },
     "execution_count": 16,
     "metadata": {},
     "output_type": "execute_result"
    }
   ],
   "source": [
    "for key in flt_dict.keys():\n",
    "    flt_dict[key].append(random.choice(nations))\n",
    "\n",
    "flt_dict"
   ],
   "metadata": {
    "collapsed": false,
    "ExecuteTime": {
     "end_time": "2023-09-11T02:45:44.247348Z",
     "start_time": "2023-09-11T02:45:44.169214400Z"
    }
   },
   "id": "25d52359a0294bb6"
  },
  {
   "cell_type": "code",
   "execution_count": 17,
   "outputs": [
    {
     "name": "stdout",
     "output_type": "stream",
     "text": [
      "<class 'pandas.core.frame.DataFrame'>\n",
      "RangeIndex: 19329 entries, 0 to 19328\n",
      "Data columns (total 26 columns):\n",
      " #   Column           Non-Null Count  Dtype \n",
      "---  ------           --------------  ----- \n",
      " 0   REV_ID           19329 non-null  object\n",
      " 1   ARL_NAME         19329 non-null  object\n",
      " 2   REV_RT_O         19329 non-null  int64 \n",
      " 3   REV_TITLE        19329 non-null  object\n",
      " 4   REV_DATE         19329 non-null  object\n",
      " 5   PSG_VERIFIED     19329 non-null  bool  \n",
      " 6   REV_CONTENT      19329 non-null  object\n",
      " 7   FLT_AIRCRAFT     19329 non-null  object\n",
      " 8   PSG_TYPE         19329 non-null  object\n",
      " 9   PSG_SEAT_TYPE    19329 non-null  object\n",
      " 10  FLT_ROUTE        19329 non-null  object\n",
      " 11  FLT_DATE         19329 non-null  object\n",
      " 12  REV_RT_SC        19329 non-null  int64 \n",
      " 13  REV_RT_CSS       19329 non-null  int64 \n",
      " 14  REV_RT_FB        19329 non-null  int64 \n",
      " 15  REV_RT_GS        19329 non-null  int64 \n",
      " 16  REV_RT_IE        19329 non-null  int64 \n",
      " 17  REV_RT_WC        19329 non-null  int64 \n",
      " 18  REV_RT_VFM       19329 non-null  int64 \n",
      " 19  REV_RECOMMENDED  19329 non-null  bool  \n",
      " 20  PSG_ID           19329 non-null  object\n",
      " 21  PSG_GENDER       19329 non-null  object\n",
      " 22  PSG_AGE          19329 non-null  int64 \n",
      " 23  ARL_IATA         19329 non-null  object\n",
      " 24  ARL_ICAO         19329 non-null  object\n",
      " 25  ARL_HQ_NATION    19329 non-null  object\n",
      "dtypes: bool(2), int64(9), object(15)\n",
      "memory usage: 3.6+ MB\n"
     ]
    }
   ],
   "source": [
    "origin_df['ARL_HQ_NATION'] = [flt_dict[name][2] for name in origin_df['ARL_NAME']]\n",
    "\n",
    "origin_df.info()"
   ],
   "metadata": {
    "collapsed": false,
    "ExecuteTime": {
     "end_time": "2023-09-11T02:46:34.734861300Z",
     "start_time": "2023-09-11T02:46:34.672360800Z"
    }
   },
   "id": "6a0e8df846d56647"
  },
  {
   "cell_type": "code",
   "execution_count": 18,
   "outputs": [],
   "source": [
    "origin_df.to_csv('../new_df1109.csv', index = False)"
   ],
   "metadata": {
    "collapsed": false,
    "ExecuteTime": {
     "end_time": "2023-09-11T02:49:37.154959700Z",
     "start_time": "2023-09-11T02:49:36.919341200Z"
    }
   },
   "id": "cd733dd980cbb33e"
  },
  {
   "cell_type": "code",
   "execution_count": 4,
   "outputs": [],
   "source": [
    "r = redis.Redis(host = '192.168.0.103', port = 6379, db = 1)"
   ],
   "metadata": {
    "collapsed": false,
    "ExecuteTime": {
     "end_time": "2023-09-11T01:35:22.159029800Z",
     "start_time": "2023-09-11T01:35:22.142029500Z"
    }
   },
   "id": "82b2f7ecd1f12a76"
  },
  {
   "cell_type": "code",
   "execution_count": 5,
   "outputs": [
    {
     "data": {
      "text/plain": "[b'FLIGHT', b'AIRLINE', b'PASSENGER', b'REVIEW']"
     },
     "execution_count": 5,
     "metadata": {},
     "output_type": "execute_result"
    }
   ],
   "source": [
    "r.keys()"
   ],
   "metadata": {
    "collapsed": false,
    "ExecuteTime": {
     "end_time": "2023-09-11T01:35:24.547953700Z",
     "start_time": "2023-09-11T01:35:24.523235100Z"
    }
   },
   "id": "217829c1d73f68a0"
  },
  {
   "cell_type": "code",
   "execution_count": 9,
   "outputs": [],
   "source": [
    "for index, row in origin_df.iterrows():\n",
    "    row_dict = row.to_dict()\n",
    "    flt_dict = {\n",
    "        'FLT_TAG':\n",
    "            {\n",
    "                'FLT_ARL_IATA': row_dict['ARL_IATA'],\n",
    "                'FLT_ROUTE': row_dict['FLT_ROUTE'],\n",
    "                'FLT_DATE': row_dict['FLT_DATE']\n",
    "            },\n",
    "        'FLT_AIRCRAFT':\n",
    "            row_dict['FLT_AIRCRAFT']\n",
    "    }\n",
    "    r.rpush('FLIGHT', json.dumps(flt_dict))"
   ],
   "metadata": {
    "collapsed": false,
    "ExecuteTime": {
     "end_time": "2023-09-11T01:46:09.857354900Z",
     "start_time": "2023-09-11T01:45:17.667247300Z"
    }
   },
   "id": "51577fdc3f07255"
  }
 ],
 "metadata": {
  "kernelspec": {
   "display_name": "Python 3",
   "language": "python",
   "name": "python3"
  },
  "language_info": {
   "codemirror_mode": {
    "name": "ipython",
    "version": 2
   },
   "file_extension": ".py",
   "mimetype": "text/x-python",
   "name": "python",
   "nbconvert_exporter": "python",
   "pygments_lexer": "ipython2",
   "version": "2.7.6"
  }
 },
 "nbformat": 4,
 "nbformat_minor": 5
}
