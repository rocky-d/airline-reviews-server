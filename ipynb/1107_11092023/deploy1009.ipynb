{
 "cells": [
  {
   "cell_type": "markdown",
   "source": [
    "# deploy"
   ],
   "metadata": {
    "collapsed": false
   },
   "id": "a54b5b9c246076ec"
  },
  {
   "cell_type": "code",
   "execution_count": 1,
   "outputs": [],
   "source": [
    "import math, redis, csv, json, random, string, pickle\n",
    "\n",
    "import numpy as np\n",
    "import pandas as pd\n",
    "\n",
    "import matplotlib.pyplot as plt\n",
    "import seaborn as sns"
   ],
   "metadata": {
    "collapsed": false,
    "ExecuteTime": {
     "end_time": "2023-09-10T11:41:06.828805800Z",
     "start_time": "2023-09-10T11:41:06.775204300Z"
    }
   },
   "id": "a7050267de3cf5f8"
  },
  {
   "cell_type": "code",
   "execution_count": 2,
   "outputs": [],
   "source": [
    "origin_df = pd.read_csv('Airline_review.csv')"
   ],
   "metadata": {
    "collapsed": false,
    "ExecuteTime": {
     "end_time": "2023-09-10T11:41:07.016058600Z",
     "start_time": "2023-09-10T11:41:06.822285900Z"
    }
   },
   "id": "d4b8e07efd8123e8"
  },
  {
   "cell_type": "code",
   "execution_count": 3,
   "outputs": [
    {
     "data": {
      "text/plain": "(23171, 20)"
     },
     "execution_count": 3,
     "metadata": {},
     "output_type": "execute_result"
    }
   ],
   "source": [
    "origin_df.shape"
   ],
   "metadata": {
    "collapsed": false,
    "ExecuteTime": {
     "end_time": "2023-09-10T11:41:07.091587700Z",
     "start_time": "2023-09-10T11:41:07.016058600Z"
    }
   },
   "id": "91af995fa365388d"
  },
  {
   "cell_type": "code",
   "execution_count": 4,
   "outputs": [
    {
     "data": {
      "text/plain": "Index(['Unnamed: 0', 'Airline Name', 'Overall_Rating', 'Review_Title',\n       'Review Date', 'Verified', 'Review', 'Aircraft', 'Type Of Traveller',\n       'Seat Type', 'Route', 'Date Flown', 'Seat Comfort',\n       'Cabin Staff Service', 'Food & Beverages', 'Ground Service',\n       'Inflight Entertainment', 'Wifi & Connectivity', 'Value For Money',\n       'Recommended'],\n      dtype='object')"
     },
     "execution_count": 4,
     "metadata": {},
     "output_type": "execute_result"
    }
   ],
   "source": [
    "origin_df.columns"
   ],
   "metadata": {
    "collapsed": false,
    "ExecuteTime": {
     "end_time": "2023-09-10T11:41:07.091587700Z",
     "start_time": "2023-09-10T11:41:07.044709Z"
    }
   },
   "id": "414013503d9ee903"
  },
  {
   "cell_type": "code",
   "execution_count": 5,
   "outputs": [
    {
     "data": {
      "text/plain": "Unnamed: 0                  int64\nAirline Name               object\nOverall_Rating             object\nReview_Title               object\nReview Date                object\nVerified                     bool\nReview                     object\nAircraft                   object\nType Of Traveller          object\nSeat Type                  object\nRoute                      object\nDate Flown                 object\nSeat Comfort              float64\nCabin Staff Service       float64\nFood & Beverages          float64\nGround Service            float64\nInflight Entertainment    float64\nWifi & Connectivity       float64\nValue For Money           float64\nRecommended                object\ndtype: object"
     },
     "execution_count": 5,
     "metadata": {},
     "output_type": "execute_result"
    }
   ],
   "source": [
    "origin_df.dtypes"
   ],
   "metadata": {
    "collapsed": false,
    "ExecuteTime": {
     "end_time": "2023-09-10T11:41:07.091587700Z",
     "start_time": "2023-09-10T11:41:07.060330300Z"
    }
   },
   "id": "717dcf0cdfc971a9"
  },
  {
   "cell_type": "code",
   "execution_count": 6,
   "outputs": [
    {
     "data": {
      "text/plain": "[RangeIndex(start=0, stop=23171, step=1),\n Index(['Unnamed: 0', 'Airline Name', 'Overall_Rating', 'Review_Title',\n        'Review Date', 'Verified', 'Review', 'Aircraft', 'Type Of Traveller',\n        'Seat Type', 'Route', 'Date Flown', 'Seat Comfort',\n        'Cabin Staff Service', 'Food & Beverages', 'Ground Service',\n        'Inflight Entertainment', 'Wifi & Connectivity', 'Value For Money',\n        'Recommended'],\n       dtype='object')]"
     },
     "execution_count": 6,
     "metadata": {},
     "output_type": "execute_result"
    }
   ],
   "source": [
    "origin_df.axes"
   ],
   "metadata": {
    "collapsed": false,
    "ExecuteTime": {
     "end_time": "2023-09-10T11:41:07.091587700Z",
     "start_time": "2023-09-10T11:41:07.075953600Z"
    }
   },
   "id": "793b4f3a3351b4e0"
  },
  {
   "cell_type": "code",
   "execution_count": 7,
   "outputs": [
    {
     "name": "stdout",
     "output_type": "stream",
     "text": [
      "<class 'pandas.core.frame.DataFrame'>\n",
      "RangeIndex: 23171 entries, 0 to 23170\n",
      "Data columns (total 20 columns):\n",
      " #   Column                  Non-Null Count  Dtype  \n",
      "---  ------                  --------------  -----  \n",
      " 0   Unnamed: 0              23171 non-null  int64  \n",
      " 1   Airline Name            23171 non-null  object \n",
      " 2   Overall_Rating          23171 non-null  object \n",
      " 3   Review_Title            23171 non-null  object \n",
      " 4   Review Date             23171 non-null  object \n",
      " 5   Verified                23171 non-null  bool   \n",
      " 6   Review                  23171 non-null  object \n",
      " 7   Aircraft                7129 non-null   object \n",
      " 8   Type Of Traveller       19433 non-null  object \n",
      " 9   Seat Type               22075 non-null  object \n",
      " 10  Route                   19343 non-null  object \n",
      " 11  Date Flown              19417 non-null  object \n",
      " 12  Seat Comfort            19016 non-null  float64\n",
      " 13  Cabin Staff Service     18911 non-null  float64\n",
      " 14  Food & Beverages        14500 non-null  float64\n",
      " 15  Ground Service          18378 non-null  float64\n",
      " 16  Inflight Entertainment  10829 non-null  float64\n",
      " 17  Wifi & Connectivity     5920 non-null   float64\n",
      " 18  Value For Money         22105 non-null  float64\n",
      " 19  Recommended             23171 non-null  object \n",
      "dtypes: bool(1), float64(7), int64(1), object(11)\n",
      "memory usage: 3.4+ MB\n"
     ]
    }
   ],
   "source": [
    "origin_df.info()"
   ],
   "metadata": {
    "collapsed": false,
    "ExecuteTime": {
     "end_time": "2023-09-10T11:41:07.152975400Z",
     "start_time": "2023-09-10T11:41:07.091587700Z"
    }
   },
   "id": "97d1263b5a5aa506"
  },
  {
   "cell_type": "code",
   "execution_count": 8,
   "outputs": [
    {
     "data": {
      "text/plain": "       Unnamed: 0   Airline Name Overall_Rating  \\\n0               0    AB Aviation              9   \n1               1    AB Aviation              1   \n2               2    AB Aviation              1   \n3               3  Adria Airways              1   \n4               4  Adria Airways              1   \n...           ...            ...            ...   \n23166       23166         ZIPAIR              1   \n23167       23167         ZIPAIR              1   \n23168       23168         ZIPAIR              3   \n23169       23169         ZIPAIR              6   \n23170       23170         ZIPAIR              1   \n\n                                 Review_Title          Review Date  Verified  \\\n0                     \"pretty decent airline\"   11th November 2019      True   \n1                        \"Not a good airline\"       25th June 2019      True   \n2              \"flight was fortunately short\"       25th June 2019      True   \n3         \"I will never fly again with Adria\"  28th September 2019     False   \n4       \"it ruined our last days of holidays\"  24th September 2019      True   \n...                                       ...                  ...       ...   \n23166          \"customer service is terrible\"        5th July 2022     False   \n23167                    \"Avoid at all costs\"        1st June 2022      True   \n23168          \"Will not recommend to anyone\"        31st May 2022      True   \n23169             \"It was immaculately clean\"        23rd May 2022      True   \n23170  \"lost all of our money with no refund\"        20th May 2022      True   \n\n                                                  Review       Aircraft  \\\n0        Moroni to Moheli. Turned out to be a pretty ...            NaN   \n1       Moroni to Anjouan. It is a very small airline...           E120   \n2        Anjouan to Dzaoudzi. A very small airline an...  Embraer E120    \n3        Please do a favor yourself and do not fly wi...            NaN   \n4       Do not book a flight with this airline! My fr...            NaN   \n...                                                  ...            ...   \n23166   Bangkok to Tokyo. I’ve flown many low cost ai...            NaN   \n23167    Avoid at all costs. I booked flights to go f...            NaN   \n23168    Flight was leaving at 23.15 and after an hou...            NaN   \n23169   Zipair is JAL’s budget airline. They don’t ha...     Dreamliner   \n23170    They lied about connection in Narita and we ...            NaN   \n\n      Type Of Traveller       Seat Type                             Route  \\\n0          Solo Leisure   Economy Class                  Moroni to Moheli   \n1          Solo Leisure   Economy Class                 Moroni to Anjouan   \n2          Solo Leisure   Economy Class               Anjouan to Dzaoudzi   \n3          Solo Leisure   Economy Class             Frankfurt to Pristina   \n4        Couple Leisure   Economy Class  Sofia to Amsterdam via Ljubljana   \n...                 ...             ...                               ...   \n23166    Couple Leisure   Economy Class                  Bangkok to Tokyo   \n23167      Solo Leisure   Economy Class                Singapore to Tokyo   \n23168          Business   Economy Class                  Bangkok to Tokyo   \n23169          Business  Business Class              Tokyo to Los Angeles   \n23170      Solo Leisure   Economy Class                Singapore to Tokyo   \n\n           Date Flown  Seat Comfort  Cabin Staff Service  Food & Beverages  \\\n0       November 2019           4.0                  5.0               4.0   \n1           June 2019           2.0                  2.0               1.0   \n2           June 2019           2.0                  1.0               1.0   \n3      September 2019           1.0                  1.0               NaN   \n4      September 2019           1.0                  1.0               1.0   \n...               ...           ...                  ...               ...   \n23166       June 2022           2.0                  1.0               NaN   \n23167       June 2022           NaN                  NaN               NaN   \n23168        May 2022           2.0                  4.0               2.0   \n23169        May 2022           3.0                  4.0               3.0   \n23170        May 2022           NaN                  NaN               NaN   \n\n       Ground Service  Inflight Entertainment  Wifi & Connectivity  \\\n0                 4.0                     NaN                  NaN   \n1                 1.0                     NaN                  NaN   \n2                 1.0                     NaN                  NaN   \n3                 1.0                     NaN                  NaN   \n4                 1.0                     1.0                  1.0   \n...               ...                     ...                  ...   \n23166             1.0                     1.0                  1.0   \n23167             NaN                     NaN                  NaN   \n23168             1.0                     NaN                  NaN   \n23169             1.0                     2.0                  5.0   \n23170             1.0                     NaN                  NaN   \n\n       Value For Money Recommended  \n0                  3.0         yes  \n1                  2.0          no  \n2                  2.0          no  \n3                  1.0          no  \n4                  1.0          no  \n...                ...         ...  \n23166              1.0          no  \n23167              1.0          no  \n23168              2.0          no  \n23169              5.0         yes  \n23170              1.0          no  \n\n[23171 rows x 20 columns]",
      "text/html": "<div>\n<style scoped>\n    .dataframe tbody tr th:only-of-type {\n        vertical-align: middle;\n    }\n\n    .dataframe tbody tr th {\n        vertical-align: top;\n    }\n\n    .dataframe thead th {\n        text-align: right;\n    }\n</style>\n<table border=\"1\" class=\"dataframe\">\n  <thead>\n    <tr style=\"text-align: right;\">\n      <th></th>\n      <th>Unnamed: 0</th>\n      <th>Airline Name</th>\n      <th>Overall_Rating</th>\n      <th>Review_Title</th>\n      <th>Review Date</th>\n      <th>Verified</th>\n      <th>Review</th>\n      <th>Aircraft</th>\n      <th>Type Of Traveller</th>\n      <th>Seat Type</th>\n      <th>Route</th>\n      <th>Date Flown</th>\n      <th>Seat Comfort</th>\n      <th>Cabin Staff Service</th>\n      <th>Food &amp; Beverages</th>\n      <th>Ground Service</th>\n      <th>Inflight Entertainment</th>\n      <th>Wifi &amp; Connectivity</th>\n      <th>Value For Money</th>\n      <th>Recommended</th>\n    </tr>\n  </thead>\n  <tbody>\n    <tr>\n      <th>0</th>\n      <td>0</td>\n      <td>AB Aviation</td>\n      <td>9</td>\n      <td>\"pretty decent airline\"</td>\n      <td>11th November 2019</td>\n      <td>True</td>\n      <td>Moroni to Moheli. Turned out to be a pretty ...</td>\n      <td>NaN</td>\n      <td>Solo Leisure</td>\n      <td>Economy Class</td>\n      <td>Moroni to Moheli</td>\n      <td>November 2019</td>\n      <td>4.0</td>\n      <td>5.0</td>\n      <td>4.0</td>\n      <td>4.0</td>\n      <td>NaN</td>\n      <td>NaN</td>\n      <td>3.0</td>\n      <td>yes</td>\n    </tr>\n    <tr>\n      <th>1</th>\n      <td>1</td>\n      <td>AB Aviation</td>\n      <td>1</td>\n      <td>\"Not a good airline\"</td>\n      <td>25th June 2019</td>\n      <td>True</td>\n      <td>Moroni to Anjouan. It is a very small airline...</td>\n      <td>E120</td>\n      <td>Solo Leisure</td>\n      <td>Economy Class</td>\n      <td>Moroni to Anjouan</td>\n      <td>June 2019</td>\n      <td>2.0</td>\n      <td>2.0</td>\n      <td>1.0</td>\n      <td>1.0</td>\n      <td>NaN</td>\n      <td>NaN</td>\n      <td>2.0</td>\n      <td>no</td>\n    </tr>\n    <tr>\n      <th>2</th>\n      <td>2</td>\n      <td>AB Aviation</td>\n      <td>1</td>\n      <td>\"flight was fortunately short\"</td>\n      <td>25th June 2019</td>\n      <td>True</td>\n      <td>Anjouan to Dzaoudzi. A very small airline an...</td>\n      <td>Embraer E120</td>\n      <td>Solo Leisure</td>\n      <td>Economy Class</td>\n      <td>Anjouan to Dzaoudzi</td>\n      <td>June 2019</td>\n      <td>2.0</td>\n      <td>1.0</td>\n      <td>1.0</td>\n      <td>1.0</td>\n      <td>NaN</td>\n      <td>NaN</td>\n      <td>2.0</td>\n      <td>no</td>\n    </tr>\n    <tr>\n      <th>3</th>\n      <td>3</td>\n      <td>Adria Airways</td>\n      <td>1</td>\n      <td>\"I will never fly again with Adria\"</td>\n      <td>28th September 2019</td>\n      <td>False</td>\n      <td>Please do a favor yourself and do not fly wi...</td>\n      <td>NaN</td>\n      <td>Solo Leisure</td>\n      <td>Economy Class</td>\n      <td>Frankfurt to Pristina</td>\n      <td>September 2019</td>\n      <td>1.0</td>\n      <td>1.0</td>\n      <td>NaN</td>\n      <td>1.0</td>\n      <td>NaN</td>\n      <td>NaN</td>\n      <td>1.0</td>\n      <td>no</td>\n    </tr>\n    <tr>\n      <th>4</th>\n      <td>4</td>\n      <td>Adria Airways</td>\n      <td>1</td>\n      <td>\"it ruined our last days of holidays\"</td>\n      <td>24th September 2019</td>\n      <td>True</td>\n      <td>Do not book a flight with this airline! My fr...</td>\n      <td>NaN</td>\n      <td>Couple Leisure</td>\n      <td>Economy Class</td>\n      <td>Sofia to Amsterdam via Ljubljana</td>\n      <td>September 2019</td>\n      <td>1.0</td>\n      <td>1.0</td>\n      <td>1.0</td>\n      <td>1.0</td>\n      <td>1.0</td>\n      <td>1.0</td>\n      <td>1.0</td>\n      <td>no</td>\n    </tr>\n    <tr>\n      <th>...</th>\n      <td>...</td>\n      <td>...</td>\n      <td>...</td>\n      <td>...</td>\n      <td>...</td>\n      <td>...</td>\n      <td>...</td>\n      <td>...</td>\n      <td>...</td>\n      <td>...</td>\n      <td>...</td>\n      <td>...</td>\n      <td>...</td>\n      <td>...</td>\n      <td>...</td>\n      <td>...</td>\n      <td>...</td>\n      <td>...</td>\n      <td>...</td>\n      <td>...</td>\n    </tr>\n    <tr>\n      <th>23166</th>\n      <td>23166</td>\n      <td>ZIPAIR</td>\n      <td>1</td>\n      <td>\"customer service is terrible\"</td>\n      <td>5th July 2022</td>\n      <td>False</td>\n      <td>Bangkok to Tokyo. I’ve flown many low cost ai...</td>\n      <td>NaN</td>\n      <td>Couple Leisure</td>\n      <td>Economy Class</td>\n      <td>Bangkok to Tokyo</td>\n      <td>June 2022</td>\n      <td>2.0</td>\n      <td>1.0</td>\n      <td>NaN</td>\n      <td>1.0</td>\n      <td>1.0</td>\n      <td>1.0</td>\n      <td>1.0</td>\n      <td>no</td>\n    </tr>\n    <tr>\n      <th>23167</th>\n      <td>23167</td>\n      <td>ZIPAIR</td>\n      <td>1</td>\n      <td>\"Avoid at all costs\"</td>\n      <td>1st June 2022</td>\n      <td>True</td>\n      <td>Avoid at all costs. I booked flights to go f...</td>\n      <td>NaN</td>\n      <td>Solo Leisure</td>\n      <td>Economy Class</td>\n      <td>Singapore to Tokyo</td>\n      <td>June 2022</td>\n      <td>NaN</td>\n      <td>NaN</td>\n      <td>NaN</td>\n      <td>NaN</td>\n      <td>NaN</td>\n      <td>NaN</td>\n      <td>1.0</td>\n      <td>no</td>\n    </tr>\n    <tr>\n      <th>23168</th>\n      <td>23168</td>\n      <td>ZIPAIR</td>\n      <td>3</td>\n      <td>\"Will not recommend to anyone\"</td>\n      <td>31st May 2022</td>\n      <td>True</td>\n      <td>Flight was leaving at 23.15 and after an hou...</td>\n      <td>NaN</td>\n      <td>Business</td>\n      <td>Economy Class</td>\n      <td>Bangkok to Tokyo</td>\n      <td>May 2022</td>\n      <td>2.0</td>\n      <td>4.0</td>\n      <td>2.0</td>\n      <td>1.0</td>\n      <td>NaN</td>\n      <td>NaN</td>\n      <td>2.0</td>\n      <td>no</td>\n    </tr>\n    <tr>\n      <th>23169</th>\n      <td>23169</td>\n      <td>ZIPAIR</td>\n      <td>6</td>\n      <td>\"It was immaculately clean\"</td>\n      <td>23rd May 2022</td>\n      <td>True</td>\n      <td>Zipair is JAL’s budget airline. They don’t ha...</td>\n      <td>Dreamliner</td>\n      <td>Business</td>\n      <td>Business Class</td>\n      <td>Tokyo to Los Angeles</td>\n      <td>May 2022</td>\n      <td>3.0</td>\n      <td>4.0</td>\n      <td>3.0</td>\n      <td>1.0</td>\n      <td>2.0</td>\n      <td>5.0</td>\n      <td>5.0</td>\n      <td>yes</td>\n    </tr>\n    <tr>\n      <th>23170</th>\n      <td>23170</td>\n      <td>ZIPAIR</td>\n      <td>1</td>\n      <td>\"lost all of our money with no refund\"</td>\n      <td>20th May 2022</td>\n      <td>True</td>\n      <td>They lied about connection in Narita and we ...</td>\n      <td>NaN</td>\n      <td>Solo Leisure</td>\n      <td>Economy Class</td>\n      <td>Singapore to Tokyo</td>\n      <td>May 2022</td>\n      <td>NaN</td>\n      <td>NaN</td>\n      <td>NaN</td>\n      <td>1.0</td>\n      <td>NaN</td>\n      <td>NaN</td>\n      <td>1.0</td>\n      <td>no</td>\n    </tr>\n  </tbody>\n</table>\n<p>23171 rows × 20 columns</p>\n</div>"
     },
     "execution_count": 8,
     "metadata": {},
     "output_type": "execute_result"
    }
   ],
   "source": [
    "origin_df"
   ],
   "metadata": {
    "collapsed": false,
    "ExecuteTime": {
     "end_time": "2023-09-10T11:41:07.152975400Z",
     "start_time": "2023-09-10T11:41:07.122835600Z"
    }
   },
   "id": "d50bfae73ae34a08"
  },
  {
   "cell_type": "code",
   "execution_count": 9,
   "outputs": [
    {
     "name": "stdout",
     "output_type": "stream",
     "text": [
      "1. key = 'Unnamed: 0'\n",
      "2. key = 'Airline Name'\n",
      "3. key = 'Overall_Rating'\n",
      "4. key = 'Review_Title'\n",
      "5. key = 'Review Date'\n",
      "6. key = 'Verified'\n",
      "7. key = 'Review'\n",
      "8. key = 'Aircraft'\n",
      "9. key = 'Type Of Traveller'\n",
      "10. key = 'Seat Type'\n",
      "11. key = 'Route'\n",
      "12. key = 'Date Flown'\n",
      "13. key = 'Seat Comfort'\n",
      "14. key = 'Cabin Staff Service'\n",
      "15. key = 'Food & Beverages'\n",
      "16. key = 'Ground Service'\n",
      "17. key = 'Inflight Entertainment'\n",
      "18. key = 'Wifi & Connectivity'\n",
      "19. key = 'Value For Money'\n",
      "20. key = 'Recommended'\n"
     ]
    }
   ],
   "source": [
    "for i, key in enumerate(origin_df.columns):\n",
    "    print(f'{i + 1}. {key = }')"
   ],
   "metadata": {
    "collapsed": false,
    "ExecuteTime": {
     "end_time": "2023-09-10T11:41:07.168598Z",
     "start_time": "2023-09-10T11:41:07.152975400Z"
    }
   },
   "id": "1cad634064f9517a"
  },
  {
   "cell_type": "code",
   "execution_count": 10,
   "outputs": [
    {
     "data": {
      "text/plain": "{'AB Aviation',\n 'ANA All Nippon Airways',\n 'ASKY Airlines',\n 'ATA Airlines',\n 'Adria Airways',\n 'Aegean Airlines',\n 'Aer Lingus',\n 'Aero VIP',\n 'AeroItalia',\n 'Aerocaribbean',\n 'Aeroflot Russian Airlines',\n 'Aerolineas Argentinas',\n 'Aeromar',\n 'Aeromexico',\n 'Aerosur',\n 'Africa World Airlines',\n 'Afriqiyah Airways',\n 'Aigle Azur',\n 'Air Algerie',\n 'Air Antilles',\n 'Air Arabia',\n 'Air Astana',\n 'Air Austral',\n 'Air Bagan',\n 'Air Berlin',\n 'Air Botswana',\n 'Air Burkina',\n 'Air Busan',\n 'Air Cairo',\n 'Air Canada',\n 'Air Canada rouge',\n 'Air Caraibes',\n 'Air China',\n 'Air Corsica',\n 'Air Costa',\n \"Air Cote d'Ivoire\",\n 'Air Djibouti',\n 'Air Dolomiti',\n 'Air Europa',\n 'Air France',\n 'Air Greenland',\n 'Air Iceland Connect',\n 'Air India',\n 'Air India Express',\n 'Air Italy',\n 'Air Juan',\n 'Air KBZ',\n 'Air Koryo',\n 'Air Labrador',\n 'Air Macau',\n 'Air Madagascar',\n 'Air Malawi',\n 'Air Malta',\n 'Air Mauritius',\n 'Air Mediterranee',\n 'Air Memphis',\n 'Air Moldova',\n 'Air Namibia',\n 'Air New Zealand',\n 'Air Niugini',\n \"Air North Yukon's Airline\",\n 'Air Nostrum',\n 'Air Panama',\n 'Air Pegasus',\n 'Air Rarotonga',\n 'Air Serbia',\n 'Air Seychelles',\n 'Air Tahiti Nui',\n 'Air Tanzania',\n 'Air Transat',\n 'Air Zimbabwe',\n 'AirAsia',\n 'AirAsia India',\n 'AirAsia Philippines',\n 'AirAsia X',\n 'AirAsia Zest',\n 'AirSWIFT',\n 'Aircalin',\n 'Airlink',\n 'Airnorth',\n 'Akasa Air',\n 'Alaska Airlines',\n 'Alitalia',\n 'Allegiant Air',\n 'Alliance Air',\n 'Alliance Airlines',\n 'Amaszonas',\n 'American Airlines',\n 'American Eagle',\n 'AnadoluJet',\n 'Andes Líneas Aéreas',\n 'Ariana Afghan Airlines',\n 'Arik Air',\n 'Arkefly',\n 'Armenia Air Company',\n 'Asiana Airlines',\n 'Atlantic Airways',\n 'Auric Air',\n 'Aurigny Air',\n 'Austrian Airlines',\n 'Avelo Airlines',\n 'Avianca',\n 'Avior Airlines',\n 'Azerbaijan Airlines',\n 'Azur Air Germany',\n 'BA CityFlyer',\n 'Badr Airlines',\n 'Bahamasair',\n 'Bamboo Airways',\n 'Bangkok Airways',\n 'Bassaka Air',\n 'Batik Air',\n 'Beijing Capital Airlines',\n 'Belavia',\n 'Berjaya Air',\n 'Bhutan Airlines',\n 'Binter Canarias',\n 'Blue Air',\n 'Blue Islands',\n 'Blue Panorama Airlines',\n 'Blue1',\n 'Bluebird Airways',\n 'BoraJet',\n 'Boutique Air',\n 'Breeze Airways',\n 'British Airways',\n 'Brussels Airlines',\n 'Buddha Air',\n 'Bulgaria Air',\n 'Buta Airways',\n 'CSA Czech Airlines',\n 'Camair-Co',\n 'Cambodia Airways',\n 'Cambodia Bayon Airlines',\n 'Canadian North',\n 'Canaryfly',\n 'Cape Air',\n 'Caribbean Airlines',\n 'Carpatair',\n 'Cathay Dragon',\n 'Cathay Pacific Airways',\n 'Cayman Airways',\n 'Cebu Pacific',\n 'CemAir',\n 'Central Mountain Air',\n 'China Airlines',\n 'China Eastern Airlines',\n 'China Southern Airlines',\n 'China United Airlines',\n 'Citilink',\n 'CityJet',\n 'Coastal Aviation',\n 'Cobalt',\n 'Comair',\n 'Condor Airlines',\n 'Conviasa',\n 'Copa Airlines',\n 'Corendon Airlines',\n 'Corsair',\n 'Croatia Airlines',\n 'Cubana Airlines',\n 'Cyprus Airways',\n 'Delta Air Lines',\n 'Dimonim Air',\n 'Dniproavia',\n 'Dragonair',\n 'Druk Air',\n 'Dynamic International Airways',\n 'EVA Air',\n 'EWA Air',\n 'Eastern Airlines',\n 'Eastern Airways',\n 'Easyfly',\n 'Edelweiss Air',\n 'Egyptair',\n 'El Al Israel Airlines',\n 'Ellinair',\n 'Emirates',\n 'Eritrean Airlines',\n 'Ernest Airlines',\n 'Estonian Air',\n 'Eswatini Air',\n 'Ethiopian Airlines',\n 'Etihad Airways',\n 'Europe Airpost',\n 'Eurowings',\n 'Evelop Airlines',\n 'FLYONE',\n 'FMI Air',\n 'Felix Airways',\n 'Fiji Airways',\n 'Finnair',\n 'Firefly',\n 'Flair Airlines',\n 'Fly540.com',\n 'FlyArystan',\n 'FlySafair',\n 'Flynas',\n 'French Bee',\n 'Frontier Airlines',\n 'Garuda Indonesia',\n 'Georgian Airways',\n 'Germania Airline',\n 'Germanwings',\n 'Go First',\n 'GoAir',\n 'Golden Myanmar Airlines',\n 'Grand Cru Airlines',\n 'Greater Bay Airlines',\n 'Gulf Air',\n 'HOP!',\n 'Hainan Airlines',\n 'Hawaiian Airlines',\n 'Henan Airlines',\n 'Hi Fly',\n 'HiSky',\n 'Himalaya Airlines',\n 'Hong Kong Airlines',\n 'Horizon Air',\n 'Hunnu Air',\n 'ITA Airways',\n 'Iberia',\n 'Iberia Express',\n 'Iberojet',\n 'Icelandair',\n 'Insel Air',\n 'InterSky',\n 'Intercaribbean Airways',\n 'Interjet',\n 'Iran Air',\n 'Iraqi Airways',\n 'Israir Airlines',\n 'JC International Airlines',\n 'Japan Airlines',\n 'Jazeera Airways',\n 'Jazz',\n 'Jeju Air',\n 'Jet Airways',\n 'Jet2.com',\n 'JetSmart',\n 'Jetairfly',\n 'Jetblue Airways',\n 'Jetstar Airways',\n 'Jetstar Asia',\n 'Jetstar Japan',\n 'Jetstar Pacific',\n 'JetsuiteX',\n 'Jin Air',\n 'Joon',\n 'Jordan Aviation',\n 'KD Air',\n 'KLM Royal Dutch Airlines',\n 'Kam Air',\n 'Kan Air',\n 'Karthago Airlines',\n 'Kenya Airways',\n 'Korean Air',\n 'Kulula',\n 'Kuwait Airways',\n 'LAN Airlines',\n 'LAN Colombia',\n 'LAN Peru',\n 'LATAM Airlines',\n 'LC Perú',\n 'LIAT',\n 'LOT Polish Airlines',\n 'La Compagnie',\n 'Lao Airlines',\n 'Laudamotion',\n 'Level',\n 'Libyan Airlines',\n 'Lion Air',\n 'Loch Lomond Seaplanes',\n 'Loganair',\n 'Lubeck Air',\n 'Lucky Air',\n 'Lufthansa',\n 'Luxair',\n 'Lynx Air',\n 'MAYAir',\n 'MEGA Maldives Airlines',\n 'Mack Air',\n 'Madagasikara Airways',\n 'Mahan Air',\n 'Malawian Airlines',\n 'Malaysia Airlines',\n 'Maldivian',\n 'Malindo Air',\n 'Mandarin Airlines',\n 'Mann Yadanarpon Airlines',\n 'Manta Air',\n 'Martinair',\n 'Mauritania Airlines',\n 'Maya Island Air',\n 'Meridiana',\n 'Mihin Lanka',\n 'Mokulele Airlines',\n 'Moldavian Airlines',\n 'Monarch Airlines',\n 'Montenegro Airlines',\n 'Motor Sich Airlines',\n 'Myanmar Airways',\n 'Myanmar National Airlines',\n 'NAM Air',\n 'NIKI',\n 'Nature Air',\n 'Nauru Airlines',\n 'Nepal Airlines',\n 'NextJet',\n 'Nile Air',\n 'Nok Air',\n 'NokScoot',\n 'NordStar',\n 'Nordavia',\n 'Nordic Regional Airlines',\n 'Nordica',\n 'Nordwind Airlines',\n 'Norse Atlantic Airways',\n 'Norwegian',\n 'Nouvelair',\n 'Novair',\n 'Novoair',\n 'Okay Airways',\n 'Olympic Air',\n 'Oman Air',\n 'Omni Air International',\n 'Onur Air',\n 'Openskies',\n 'PAL Express',\n 'PAWA Dominicana',\n 'PLAY',\n 'Pacific Airlines',\n 'Pan Pacific Airlines',\n 'Passion Air',\n 'Peach Aviation',\n 'Pegasus Airlines',\n 'PenAir',\n 'Peruvian Airlines',\n 'Petroleum Air Services',\n 'Philippine Airlines',\n 'Phuket Air',\n 'Pobeda Airlines',\n 'Porter Airlines',\n 'Primera Air',\n 'Privilege Style',\n 'Qantas Airways',\n 'QantasLink',\n 'Qatar Airways',\n 'Qazaq Air',\n 'Ravn Alaska',\n 'Red Wings Airlines',\n 'Regent Airways',\n 'Regional Express',\n 'Rex Airlines',\n 'Rhein-Neckar Air',\n 'Rossiya Airlines',\n 'Royal Air Maroc',\n 'Royal Brunei Airlines',\n 'Royal Jordanian Airlines',\n 'Rwandair',\n 'Ryanair',\n 'S7 Siberia Airlines',\n 'SA Express',\n 'SATA Air Azores',\n 'SATENA',\n 'SCAT Airlines',\n 'SVG Air',\n 'Safarilink',\n 'Safi Airways',\n 'Salam Air',\n 'Sansa Airlines',\n 'Saudi Arabian Airlines',\n 'Scoot',\n 'Seaborne Airlines',\n 'SereneAir',\n 'Shaheen Air',\n 'Shandong Airlines',\n 'Shanghai Airlines',\n 'Shenzhen Airlines',\n 'Sichuan Airlines',\n 'SilkAir',\n 'Silver Airways',\n 'Singapore Airlines',\n 'Sky Airline',\n 'Sky Express Airlines',\n 'SkyUp Airlines',\n 'SkyWest Airlines',\n 'SkyWork Airlines',\n 'Skybus',\n 'Skymark Airlines',\n 'Skytrans Airlines',\n 'SmartLynx Airlines',\n 'SmartWings',\n 'Smartavia',\n 'Sol Líneas Aéreas',\n 'Solomon Airlines',\n 'Somon Air',\n 'South African Airways',\n 'Southwest Airlines',\n 'SpiceJet',\n 'Spirit Airlines',\n 'SriLankan Airlines',\n 'Sriwijaya Air',\n 'StarFlyer',\n 'Sudan Airways',\n 'Sun Country Airlines',\n 'Sun-Air',\n 'Sunwing Airlines',\n 'Suparna Airlines',\n 'Super Air Jet',\n 'Surinam Airways',\n 'Swoop',\n 'SyrianAir',\n \"T'Way Air\",\n 'TAAG Angola Airlines',\n 'TACA Regional',\n 'TAG Airlines',\n 'TAM Airlines',\n 'TAME',\n 'TAP Portugal',\n 'TAR Aerolineas',\n 'TUI Airways',\n 'TUIfly',\n 'TUIfly Nordic',\n 'TUS Airways',\n 'Tailwind Airlines',\n 'Tame Línea Aérea Del Ecuador',\n 'Thai AirAsia',\n 'Thai Airways',\n 'Thai Lion Air',\n 'Thai Smile Airways',\n 'Thomas Cook Airlines',\n 'Thomas Cook Airlines Scandinavia',\n 'Thomson Airways',\n 'Tianjin Airlines',\n 'Tibet Airlines',\n 'Tigerair',\n 'Tigerair Australia',\n 'Tigerair Taiwan',\n 'Titan Airways',\n 'TransAsia Airways',\n 'TransNusa',\n 'Transaero Airlines',\n 'Transavia',\n 'Trigana Air',\n 'Tropic Air Belize',\n 'Tunisair',\n 'Turkish Airlines',\n 'Turkmenistan Airlines',\n 'UP by El Al',\n 'US Airways',\n 'US-Bangla Airlines',\n 'Uganda Airlines',\n 'Ultra Air',\n 'United Airlines',\n 'Ural Airlines',\n 'Utair Aviation',\n 'Uzbekistan Airways',\n 'V Air',\n 'VLM Airlines',\n 'Vanilla Air',\n 'ViaAir',\n 'Vietnam Airlines',\n 'Virgin America',\n 'Virgin Australia',\n 'Vistara',\n 'Viva Air',\n 'VivaAerobús',\n 'VivaColombia',\n 'Volaris',\n 'Volotea',\n 'Voyage Air',\n 'Vueling Airlines',\n 'WOW air',\n 'Wamos Air',\n 'Wideroe',\n 'Winair',\n 'Wingo',\n 'Wings Air',\n 'Wizz Air',\n 'World2Fly',\n 'XL Airways France',\n 'Xiamen Airlines',\n 'Yakutia Airlines',\n 'Yangon Airways',\n 'Yemenia',\n 'Yeti Airlines',\n 'ZIPAIR',\n 'Zambia Airways',\n 'airBaltic',\n 'bmi Regional',\n 'easyJet',\n 'euroAtlantic Airways',\n 'fastjet',\n 'flyadeal',\n 'flybe',\n 'flydubai'}"
     },
     "execution_count": 10,
     "metadata": {},
     "output_type": "execute_result"
    }
   ],
   "source": [
    "set(origin_df['Airline Name'])"
   ],
   "metadata": {
    "collapsed": false,
    "ExecuteTime": {
     "end_time": "2023-09-10T11:41:48.402673600Z",
     "start_time": "2023-09-10T11:41:48.333568Z"
    }
   },
   "id": "88e82f50d1150512"
  },
  {
   "cell_type": "code",
   "execution_count": 11,
   "outputs": [],
   "source": [
    "review_df = origin_df.copy()"
   ],
   "metadata": {
    "collapsed": false,
    "ExecuteTime": {
     "end_time": "2023-09-10T11:41:52.569321500Z",
     "start_time": "2023-09-10T11:41:52.538070Z"
    }
   },
   "id": "68af3ac71042ed43"
  },
  {
   "cell_type": "code",
   "execution_count": 12,
   "outputs": [
    {
     "name": "stdout",
     "output_type": "stream",
     "text": [
      "{False, True}\n"
     ]
    }
   ],
   "source": [
    "review_recommended = []\n",
    "for value in origin_df['Recommended']:\n",
    "    if value == 'yes':\n",
    "        review_recommended.append(True)\n",
    "    else:\n",
    "        review_recommended.append(False)\n",
    "print(set(review_recommended))"
   ],
   "metadata": {
    "collapsed": false,
    "ExecuteTime": {
     "end_time": "2023-09-10T11:41:56.293277600Z",
     "start_time": "2023-09-10T11:41:56.271133200Z"
    }
   },
   "id": "da2ecfad72061bcf"
  },
  {
   "cell_type": "code",
   "execution_count": 13,
   "outputs": [],
   "source": [
    "review_df['Recommended'] = review_recommended"
   ],
   "metadata": {
    "collapsed": false,
    "ExecuteTime": {
     "end_time": "2023-09-10T11:42:09.061405Z",
     "start_time": "2023-09-10T11:42:09.045768Z"
    }
   },
   "id": "9de9787e00f26202"
  },
  {
   "cell_type": "code",
   "execution_count": 14,
   "outputs": [
    {
     "data": {
      "text/plain": "       Unnamed: 0   Airline Name Overall_Rating  \\\n0               0    AB Aviation              9   \n1               1    AB Aviation              1   \n2               2    AB Aviation              1   \n3               3  Adria Airways              1   \n4               4  Adria Airways              1   \n...           ...            ...            ...   \n23166       23166         ZIPAIR              1   \n23167       23167         ZIPAIR              1   \n23168       23168         ZIPAIR              3   \n23169       23169         ZIPAIR              6   \n23170       23170         ZIPAIR              1   \n\n                                 Review_Title          Review Date  Verified  \\\n0                     \"pretty decent airline\"   11th November 2019      True   \n1                        \"Not a good airline\"       25th June 2019      True   \n2              \"flight was fortunately short\"       25th June 2019      True   \n3         \"I will never fly again with Adria\"  28th September 2019     False   \n4       \"it ruined our last days of holidays\"  24th September 2019      True   \n...                                       ...                  ...       ...   \n23166          \"customer service is terrible\"        5th July 2022     False   \n23167                    \"Avoid at all costs\"        1st June 2022      True   \n23168          \"Will not recommend to anyone\"        31st May 2022      True   \n23169             \"It was immaculately clean\"        23rd May 2022      True   \n23170  \"lost all of our money with no refund\"        20th May 2022      True   \n\n                                                  Review       Aircraft  \\\n0        Moroni to Moheli. Turned out to be a pretty ...            NaN   \n1       Moroni to Anjouan. It is a very small airline...           E120   \n2        Anjouan to Dzaoudzi. A very small airline an...  Embraer E120    \n3        Please do a favor yourself and do not fly wi...            NaN   \n4       Do not book a flight with this airline! My fr...            NaN   \n...                                                  ...            ...   \n23166   Bangkok to Tokyo. I’ve flown many low cost ai...            NaN   \n23167    Avoid at all costs. I booked flights to go f...            NaN   \n23168    Flight was leaving at 23.15 and after an hou...            NaN   \n23169   Zipair is JAL’s budget airline. They don’t ha...     Dreamliner   \n23170    They lied about connection in Narita and we ...            NaN   \n\n      Type Of Traveller       Seat Type                             Route  \\\n0          Solo Leisure   Economy Class                  Moroni to Moheli   \n1          Solo Leisure   Economy Class                 Moroni to Anjouan   \n2          Solo Leisure   Economy Class               Anjouan to Dzaoudzi   \n3          Solo Leisure   Economy Class             Frankfurt to Pristina   \n4        Couple Leisure   Economy Class  Sofia to Amsterdam via Ljubljana   \n...                 ...             ...                               ...   \n23166    Couple Leisure   Economy Class                  Bangkok to Tokyo   \n23167      Solo Leisure   Economy Class                Singapore to Tokyo   \n23168          Business   Economy Class                  Bangkok to Tokyo   \n23169          Business  Business Class              Tokyo to Los Angeles   \n23170      Solo Leisure   Economy Class                Singapore to Tokyo   \n\n           Date Flown  Seat Comfort  Cabin Staff Service  Food & Beverages  \\\n0       November 2019           4.0                  5.0               4.0   \n1           June 2019           2.0                  2.0               1.0   \n2           June 2019           2.0                  1.0               1.0   \n3      September 2019           1.0                  1.0               NaN   \n4      September 2019           1.0                  1.0               1.0   \n...               ...           ...                  ...               ...   \n23166       June 2022           2.0                  1.0               NaN   \n23167       June 2022           NaN                  NaN               NaN   \n23168        May 2022           2.0                  4.0               2.0   \n23169        May 2022           3.0                  4.0               3.0   \n23170        May 2022           NaN                  NaN               NaN   \n\n       Ground Service  Inflight Entertainment  Wifi & Connectivity  \\\n0                 4.0                     NaN                  NaN   \n1                 1.0                     NaN                  NaN   \n2                 1.0                     NaN                  NaN   \n3                 1.0                     NaN                  NaN   \n4                 1.0                     1.0                  1.0   \n...               ...                     ...                  ...   \n23166             1.0                     1.0                  1.0   \n23167             NaN                     NaN                  NaN   \n23168             1.0                     NaN                  NaN   \n23169             1.0                     2.0                  5.0   \n23170             1.0                     NaN                  NaN   \n\n       Value For Money  Recommended  \n0                  3.0         True  \n1                  2.0        False  \n2                  2.0        False  \n3                  1.0        False  \n4                  1.0        False  \n...                ...          ...  \n23166              1.0        False  \n23167              1.0        False  \n23168              2.0        False  \n23169              5.0         True  \n23170              1.0        False  \n\n[23171 rows x 20 columns]",
      "text/html": "<div>\n<style scoped>\n    .dataframe tbody tr th:only-of-type {\n        vertical-align: middle;\n    }\n\n    .dataframe tbody tr th {\n        vertical-align: top;\n    }\n\n    .dataframe thead th {\n        text-align: right;\n    }\n</style>\n<table border=\"1\" class=\"dataframe\">\n  <thead>\n    <tr style=\"text-align: right;\">\n      <th></th>\n      <th>Unnamed: 0</th>\n      <th>Airline Name</th>\n      <th>Overall_Rating</th>\n      <th>Review_Title</th>\n      <th>Review Date</th>\n      <th>Verified</th>\n      <th>Review</th>\n      <th>Aircraft</th>\n      <th>Type Of Traveller</th>\n      <th>Seat Type</th>\n      <th>Route</th>\n      <th>Date Flown</th>\n      <th>Seat Comfort</th>\n      <th>Cabin Staff Service</th>\n      <th>Food &amp; Beverages</th>\n      <th>Ground Service</th>\n      <th>Inflight Entertainment</th>\n      <th>Wifi &amp; Connectivity</th>\n      <th>Value For Money</th>\n      <th>Recommended</th>\n    </tr>\n  </thead>\n  <tbody>\n    <tr>\n      <th>0</th>\n      <td>0</td>\n      <td>AB Aviation</td>\n      <td>9</td>\n      <td>\"pretty decent airline\"</td>\n      <td>11th November 2019</td>\n      <td>True</td>\n      <td>Moroni to Moheli. Turned out to be a pretty ...</td>\n      <td>NaN</td>\n      <td>Solo Leisure</td>\n      <td>Economy Class</td>\n      <td>Moroni to Moheli</td>\n      <td>November 2019</td>\n      <td>4.0</td>\n      <td>5.0</td>\n      <td>4.0</td>\n      <td>4.0</td>\n      <td>NaN</td>\n      <td>NaN</td>\n      <td>3.0</td>\n      <td>True</td>\n    </tr>\n    <tr>\n      <th>1</th>\n      <td>1</td>\n      <td>AB Aviation</td>\n      <td>1</td>\n      <td>\"Not a good airline\"</td>\n      <td>25th June 2019</td>\n      <td>True</td>\n      <td>Moroni to Anjouan. It is a very small airline...</td>\n      <td>E120</td>\n      <td>Solo Leisure</td>\n      <td>Economy Class</td>\n      <td>Moroni to Anjouan</td>\n      <td>June 2019</td>\n      <td>2.0</td>\n      <td>2.0</td>\n      <td>1.0</td>\n      <td>1.0</td>\n      <td>NaN</td>\n      <td>NaN</td>\n      <td>2.0</td>\n      <td>False</td>\n    </tr>\n    <tr>\n      <th>2</th>\n      <td>2</td>\n      <td>AB Aviation</td>\n      <td>1</td>\n      <td>\"flight was fortunately short\"</td>\n      <td>25th June 2019</td>\n      <td>True</td>\n      <td>Anjouan to Dzaoudzi. A very small airline an...</td>\n      <td>Embraer E120</td>\n      <td>Solo Leisure</td>\n      <td>Economy Class</td>\n      <td>Anjouan to Dzaoudzi</td>\n      <td>June 2019</td>\n      <td>2.0</td>\n      <td>1.0</td>\n      <td>1.0</td>\n      <td>1.0</td>\n      <td>NaN</td>\n      <td>NaN</td>\n      <td>2.0</td>\n      <td>False</td>\n    </tr>\n    <tr>\n      <th>3</th>\n      <td>3</td>\n      <td>Adria Airways</td>\n      <td>1</td>\n      <td>\"I will never fly again with Adria\"</td>\n      <td>28th September 2019</td>\n      <td>False</td>\n      <td>Please do a favor yourself and do not fly wi...</td>\n      <td>NaN</td>\n      <td>Solo Leisure</td>\n      <td>Economy Class</td>\n      <td>Frankfurt to Pristina</td>\n      <td>September 2019</td>\n      <td>1.0</td>\n      <td>1.0</td>\n      <td>NaN</td>\n      <td>1.0</td>\n      <td>NaN</td>\n      <td>NaN</td>\n      <td>1.0</td>\n      <td>False</td>\n    </tr>\n    <tr>\n      <th>4</th>\n      <td>4</td>\n      <td>Adria Airways</td>\n      <td>1</td>\n      <td>\"it ruined our last days of holidays\"</td>\n      <td>24th September 2019</td>\n      <td>True</td>\n      <td>Do not book a flight with this airline! My fr...</td>\n      <td>NaN</td>\n      <td>Couple Leisure</td>\n      <td>Economy Class</td>\n      <td>Sofia to Amsterdam via Ljubljana</td>\n      <td>September 2019</td>\n      <td>1.0</td>\n      <td>1.0</td>\n      <td>1.0</td>\n      <td>1.0</td>\n      <td>1.0</td>\n      <td>1.0</td>\n      <td>1.0</td>\n      <td>False</td>\n    </tr>\n    <tr>\n      <th>...</th>\n      <td>...</td>\n      <td>...</td>\n      <td>...</td>\n      <td>...</td>\n      <td>...</td>\n      <td>...</td>\n      <td>...</td>\n      <td>...</td>\n      <td>...</td>\n      <td>...</td>\n      <td>...</td>\n      <td>...</td>\n      <td>...</td>\n      <td>...</td>\n      <td>...</td>\n      <td>...</td>\n      <td>...</td>\n      <td>...</td>\n      <td>...</td>\n      <td>...</td>\n    </tr>\n    <tr>\n      <th>23166</th>\n      <td>23166</td>\n      <td>ZIPAIR</td>\n      <td>1</td>\n      <td>\"customer service is terrible\"</td>\n      <td>5th July 2022</td>\n      <td>False</td>\n      <td>Bangkok to Tokyo. I’ve flown many low cost ai...</td>\n      <td>NaN</td>\n      <td>Couple Leisure</td>\n      <td>Economy Class</td>\n      <td>Bangkok to Tokyo</td>\n      <td>June 2022</td>\n      <td>2.0</td>\n      <td>1.0</td>\n      <td>NaN</td>\n      <td>1.0</td>\n      <td>1.0</td>\n      <td>1.0</td>\n      <td>1.0</td>\n      <td>False</td>\n    </tr>\n    <tr>\n      <th>23167</th>\n      <td>23167</td>\n      <td>ZIPAIR</td>\n      <td>1</td>\n      <td>\"Avoid at all costs\"</td>\n      <td>1st June 2022</td>\n      <td>True</td>\n      <td>Avoid at all costs. I booked flights to go f...</td>\n      <td>NaN</td>\n      <td>Solo Leisure</td>\n      <td>Economy Class</td>\n      <td>Singapore to Tokyo</td>\n      <td>June 2022</td>\n      <td>NaN</td>\n      <td>NaN</td>\n      <td>NaN</td>\n      <td>NaN</td>\n      <td>NaN</td>\n      <td>NaN</td>\n      <td>1.0</td>\n      <td>False</td>\n    </tr>\n    <tr>\n      <th>23168</th>\n      <td>23168</td>\n      <td>ZIPAIR</td>\n      <td>3</td>\n      <td>\"Will not recommend to anyone\"</td>\n      <td>31st May 2022</td>\n      <td>True</td>\n      <td>Flight was leaving at 23.15 and after an hou...</td>\n      <td>NaN</td>\n      <td>Business</td>\n      <td>Economy Class</td>\n      <td>Bangkok to Tokyo</td>\n      <td>May 2022</td>\n      <td>2.0</td>\n      <td>4.0</td>\n      <td>2.0</td>\n      <td>1.0</td>\n      <td>NaN</td>\n      <td>NaN</td>\n      <td>2.0</td>\n      <td>False</td>\n    </tr>\n    <tr>\n      <th>23169</th>\n      <td>23169</td>\n      <td>ZIPAIR</td>\n      <td>6</td>\n      <td>\"It was immaculately clean\"</td>\n      <td>23rd May 2022</td>\n      <td>True</td>\n      <td>Zipair is JAL’s budget airline. They don’t ha...</td>\n      <td>Dreamliner</td>\n      <td>Business</td>\n      <td>Business Class</td>\n      <td>Tokyo to Los Angeles</td>\n      <td>May 2022</td>\n      <td>3.0</td>\n      <td>4.0</td>\n      <td>3.0</td>\n      <td>1.0</td>\n      <td>2.0</td>\n      <td>5.0</td>\n      <td>5.0</td>\n      <td>True</td>\n    </tr>\n    <tr>\n      <th>23170</th>\n      <td>23170</td>\n      <td>ZIPAIR</td>\n      <td>1</td>\n      <td>\"lost all of our money with no refund\"</td>\n      <td>20th May 2022</td>\n      <td>True</td>\n      <td>They lied about connection in Narita and we ...</td>\n      <td>NaN</td>\n      <td>Solo Leisure</td>\n      <td>Economy Class</td>\n      <td>Singapore to Tokyo</td>\n      <td>May 2022</td>\n      <td>NaN</td>\n      <td>NaN</td>\n      <td>NaN</td>\n      <td>1.0</td>\n      <td>NaN</td>\n      <td>NaN</td>\n      <td>1.0</td>\n      <td>False</td>\n    </tr>\n  </tbody>\n</table>\n<p>23171 rows × 20 columns</p>\n</div>"
     },
     "execution_count": 14,
     "metadata": {},
     "output_type": "execute_result"
    }
   ],
   "source": [
    "review_df"
   ],
   "metadata": {
    "collapsed": false,
    "ExecuteTime": {
     "end_time": "2023-09-10T11:42:24.492814Z",
     "start_time": "2023-09-10T11:42:24.454863200Z"
    }
   },
   "id": "29f83eba9ed1984f"
  },
  {
   "cell_type": "code",
   "execution_count": 17,
   "outputs": [
    {
     "name": "stdout",
     "output_type": "stream",
     "text": [
      "<class 'pandas.core.frame.DataFrame'>\n",
      "Index: 19331 entries, 0 to 23170\n",
      "Data columns (total 20 columns):\n",
      " #   Column                  Non-Null Count  Dtype  \n",
      "---  ------                  --------------  -----  \n",
      " 0   Unnamed: 0              19331 non-null  int64  \n",
      " 1   Airline Name            19331 non-null  object \n",
      " 2   Overall_Rating          19331 non-null  object \n",
      " 3   Review_Title            19331 non-null  object \n",
      " 4   Review Date             19331 non-null  object \n",
      " 5   Verified                19331 non-null  bool   \n",
      " 6   Review                  19331 non-null  object \n",
      " 7   Aircraft                7116 non-null   object \n",
      " 8   Type Of Traveller       19330 non-null  object \n",
      " 9   Seat Type               19328 non-null  object \n",
      " 10  Route                   19331 non-null  object \n",
      " 11  Date Flown              19331 non-null  object \n",
      " 12  Seat Comfort            17562 non-null  float64\n",
      " 13  Cabin Staff Service     17457 non-null  float64\n",
      " 14  Food & Beverages        13067 non-null  float64\n",
      " 15  Ground Service          18308 non-null  float64\n",
      " 16  Inflight Entertainment  9436 non-null   float64\n",
      " 17  Wifi & Connectivity     5892 non-null   float64\n",
      " 18  Value For Money         19330 non-null  float64\n",
      " 19  Recommended             19331 non-null  bool   \n",
      "dtypes: bool(2), float64(7), int64(1), object(10)\n",
      "memory usage: 2.8+ MB\n"
     ]
    }
   ],
   "source": [
    "review_df.dropna(subset = ['Route', 'Date Flown'], inplace = True)\n",
    "\n",
    "review_df.info()"
   ],
   "metadata": {
    "collapsed": false,
    "ExecuteTime": {
     "end_time": "2023-09-10T11:51:26.409843600Z",
     "start_time": "2023-09-10T11:51:26.385609200Z"
    }
   },
   "id": "9022222b67ae4a2f"
  },
  {
   "cell_type": "code",
   "execution_count": 19,
   "outputs": [
    {
     "name": "stdout",
     "output_type": "stream",
     "text": [
      "<class 'pandas.core.frame.DataFrame'>\n",
      "Index: 19331 entries, 0 to 23170\n",
      "Data columns (total 20 columns):\n",
      " #   Column                  Non-Null Count  Dtype  \n",
      "---  ------                  --------------  -----  \n",
      " 0   Unnamed: 0              19331 non-null  int64  \n",
      " 1   Airline Name            19331 non-null  object \n",
      " 2   Overall_Rating          19331 non-null  object \n",
      " 3   Review_Title            19331 non-null  object \n",
      " 4   Review Date             19331 non-null  object \n",
      " 5   Verified                19331 non-null  bool   \n",
      " 6   Review                  19331 non-null  object \n",
      " 7   Aircraft                19331 non-null  object \n",
      " 8   Type Of Traveller       19331 non-null  object \n",
      " 9   Seat Type               19331 non-null  object \n",
      " 10  Route                   19331 non-null  object \n",
      " 11  Date Flown              19331 non-null  object \n",
      " 12  Seat Comfort            19331 non-null  float64\n",
      " 13  Cabin Staff Service     19331 non-null  float64\n",
      " 14  Food & Beverages        19331 non-null  float64\n",
      " 15  Ground Service          19331 non-null  float64\n",
      " 16  Inflight Entertainment  19331 non-null  float64\n",
      " 17  Wifi & Connectivity     19331 non-null  float64\n",
      " 18  Value For Money         19331 non-null  float64\n",
      " 19  Recommended             19331 non-null  bool   \n",
      "dtypes: bool(2), float64(7), int64(1), object(10)\n",
      "memory usage: 2.8+ MB\n"
     ]
    }
   ],
   "source": [
    "review_df['Aircraft'].fillna('NA', inplace = True)\n",
    "review_df['Type Of Traveller'].fillna('NA', inplace = True)\n",
    "review_df['Seat Type'].fillna('NA', inplace = True)\n",
    "review_df['Seat Comfort'].fillna(-1, inplace = True)\n",
    "review_df['Cabin Staff Service'].fillna(-1, inplace = True)\n",
    "review_df['Food & Beverages'].fillna(-1, inplace = True)\n",
    "review_df['Ground Service'].fillna(-1, inplace = True)\n",
    "review_df['Inflight Entertainment'].fillna(-1, inplace = True)\n",
    "review_df['Wifi & Connectivity'].fillna(-1, inplace = True)\n",
    "review_df['Value For Money'].fillna(-1, inplace = True)\n",
    "\n",
    "review_df.info()"
   ],
   "metadata": {
    "collapsed": false,
    "ExecuteTime": {
     "end_time": "2023-09-10T11:54:08.614550Z",
     "start_time": "2023-09-10T11:54:08.576321200Z"
    }
   },
   "id": "b9d66014f32293e2"
  },
  {
   "cell_type": "code",
   "execution_count": 23,
   "outputs": [
    {
     "name": "stdout",
     "output_type": "stream",
     "text": [
      "<class 'pandas.core.frame.DataFrame'>\n",
      "Index: 19331 entries, 0 to 23170\n",
      "Data columns (total 20 columns):\n",
      " #   Column                  Non-Null Count  Dtype \n",
      "---  ------                  --------------  ----- \n",
      " 0   Unnamed: 0              19331 non-null  int64 \n",
      " 1   Airline Name            19331 non-null  object\n",
      " 2   Overall_Rating          19331 non-null  object\n",
      " 3   Review_Title            19331 non-null  object\n",
      " 4   Review Date             19331 non-null  object\n",
      " 5   Verified                19331 non-null  bool  \n",
      " 6   Review                  19331 non-null  object\n",
      " 7   Aircraft                19331 non-null  object\n",
      " 8   Type Of Traveller       19331 non-null  object\n",
      " 9   Seat Type               19331 non-null  object\n",
      " 10  Route                   19331 non-null  object\n",
      " 11  Date Flown              19331 non-null  object\n",
      " 12  Seat Comfort            19331 non-null  int64 \n",
      " 13  Cabin Staff Service     19331 non-null  int64 \n",
      " 14  Food & Beverages        19331 non-null  int64 \n",
      " 15  Ground Service          19331 non-null  int64 \n",
      " 16  Inflight Entertainment  19331 non-null  int64 \n",
      " 17  Wifi & Connectivity     19331 non-null  int64 \n",
      " 18  Value For Money         19331 non-null  int64 \n",
      " 19  Recommended             19331 non-null  bool  \n",
      "dtypes: bool(2), int64(8), object(10)\n",
      "memory usage: 2.8+ MB\n"
     ]
    }
   ],
   "source": [
    "tmp = {'Seat Comfort': [], 'Cabin Staff Service': [], 'Food & Beverages': [], 'Ground Service': [], 'Inflight Entertainment': [], 'Wifi & Connectivity': [], 'Value For Money': []}\n",
    "for key in ['Seat Comfort', 'Cabin Staff Service', 'Food & Beverages', 'Ground Service', 'Inflight Entertainment', 'Wifi & Connectivity', 'Value For Money']:\n",
    "    for value in review_df[key]:\n",
    "        tmp[key].append(int(value))\n",
    "    review_df[key] = tmp[key]\n",
    "\n",
    "review_df.info()"
   ],
   "metadata": {
    "collapsed": false,
    "ExecuteTime": {
     "end_time": "2023-09-10T12:27:00.820925600Z",
     "start_time": "2023-09-10T12:27:00.758418500Z"
    }
   },
   "id": "53c0f6359c4174ba"
  },
  {
   "cell_type": "code",
   "execution_count": 26,
   "outputs": [
    {
     "name": "stdout",
     "output_type": "stream",
     "text": [
      "<class 'pandas.core.frame.DataFrame'>\n",
      "Index: 19331 entries, 0 to 23170\n",
      "Data columns (total 20 columns):\n",
      " #   Column                  Non-Null Count  Dtype \n",
      "---  ------                  --------------  ----- \n",
      " 0   Unnamed: 0              19331 non-null  object\n",
      " 1   Airline Name            19331 non-null  object\n",
      " 2   Overall_Rating          19331 non-null  object\n",
      " 3   Review_Title            19331 non-null  object\n",
      " 4   Review Date             19331 non-null  object\n",
      " 5   Verified                19331 non-null  bool  \n",
      " 6   Review                  19331 non-null  object\n",
      " 7   Aircraft                19331 non-null  object\n",
      " 8   Type Of Traveller       19331 non-null  object\n",
      " 9   Seat Type               19331 non-null  object\n",
      " 10  Route                   19331 non-null  object\n",
      " 11  Date Flown              19331 non-null  object\n",
      " 12  Seat Comfort            19331 non-null  int64 \n",
      " 13  Cabin Staff Service     19331 non-null  int64 \n",
      " 14  Food & Beverages        19331 non-null  int64 \n",
      " 15  Ground Service          19331 non-null  int64 \n",
      " 16  Inflight Entertainment  19331 non-null  int64 \n",
      " 17  Wifi & Connectivity     19331 non-null  int64 \n",
      " 18  Value For Money         19331 non-null  int64 \n",
      " 19  Recommended             19331 non-null  bool  \n",
      "dtypes: bool(2), int64(7), object(11)\n",
      "memory usage: 2.8+ MB\n"
     ]
    }
   ],
   "source": [
    "review_id = []\n",
    "for value in review_df['Unnamed: 0']:\n",
    "    review_id.append(f'{value:X>10}')\n",
    "review_df['Unnamed: 0'] = review_id\n",
    "\n",
    "review_df.info()"
   ],
   "metadata": {
    "collapsed": false,
    "ExecuteTime": {
     "end_time": "2023-09-10T12:30:43.083662900Z",
     "start_time": "2023-09-10T12:30:43.043388200Z"
    }
   },
   "id": "17d6ea8bb2bfc58e"
  },
  {
   "cell_type": "code",
   "execution_count": 29,
   "outputs": [
    {
     "data": {
      "text/plain": "{'1', '2', '3', '4', '5', '6', '7', '8', '9'}"
     },
     "execution_count": 29,
     "metadata": {},
     "output_type": "execute_result"
    }
   ],
   "source": [
    "set(review_df['Overall_Rating'])"
   ],
   "metadata": {
    "collapsed": false,
    "ExecuteTime": {
     "end_time": "2023-09-10T12:40:00.719512700Z",
     "start_time": "2023-09-10T12:40:00.683238200Z"
    }
   },
   "id": "ff66fb797d541c31"
  },
  {
   "cell_type": "code",
   "execution_count": 30,
   "outputs": [
    {
     "name": "stdout",
     "output_type": "stream",
     "text": [
      "<class 'pandas.core.frame.DataFrame'>\n",
      "Index: 19331 entries, 0 to 23170\n",
      "Data columns (total 20 columns):\n",
      " #   Column                  Non-Null Count  Dtype \n",
      "---  ------                  --------------  ----- \n",
      " 0   Unnamed: 0              19331 non-null  object\n",
      " 1   Airline Name            19331 non-null  object\n",
      " 2   Overall_Rating          19331 non-null  int64 \n",
      " 3   Review_Title            19331 non-null  object\n",
      " 4   Review Date             19331 non-null  object\n",
      " 5   Verified                19331 non-null  bool  \n",
      " 6   Review                  19331 non-null  object\n",
      " 7   Aircraft                19331 non-null  object\n",
      " 8   Type Of Traveller       19331 non-null  object\n",
      " 9   Seat Type               19331 non-null  object\n",
      " 10  Route                   19331 non-null  object\n",
      " 11  Date Flown              19331 non-null  object\n",
      " 12  Seat Comfort            19331 non-null  int64 \n",
      " 13  Cabin Staff Service     19331 non-null  int64 \n",
      " 14  Food & Beverages        19331 non-null  int64 \n",
      " 15  Ground Service          19331 non-null  int64 \n",
      " 16  Inflight Entertainment  19331 non-null  int64 \n",
      " 17  Wifi & Connectivity     19331 non-null  int64 \n",
      " 18  Value For Money         19331 non-null  int64 \n",
      " 19  Recommended             19331 non-null  bool  \n",
      "dtypes: bool(2), int64(8), object(10)\n",
      "memory usage: 2.8+ MB\n"
     ]
    }
   ],
   "source": [
    "overall_rating = []\n",
    "for value in review_df['Overall_Rating']:\n",
    "    overall_rating.append(int(value))\n",
    "review_df['Overall_Rating'] = overall_rating\n",
    "\n",
    "review_df.info()"
   ],
   "metadata": {
    "collapsed": false,
    "ExecuteTime": {
     "end_time": "2023-09-10T12:41:03.668589Z",
     "start_time": "2023-09-10T12:41:03.633252900Z"
    }
   },
   "id": "8622125c8daaf43d"
  },
  {
   "cell_type": "code",
   "execution_count": 36,
   "outputs": [
    {
     "data": {
      "text/plain": "19331"
     },
     "execution_count": 36,
     "metadata": {},
     "output_type": "execute_result"
    }
   ],
   "source": [
    "len(review_df)"
   ],
   "metadata": {
    "collapsed": false,
    "ExecuteTime": {
     "end_time": "2023-09-10T12:52:24.976026400Z",
     "start_time": "2023-09-10T12:52:24.928711400Z"
    }
   },
   "id": "26655e6f5474a9a5"
  },
  {
   "cell_type": "code",
   "execution_count": 37,
   "outputs": [
    {
     "name": "stdout",
     "output_type": "stream",
     "text": [
      "<class 'pandas.core.frame.DataFrame'>\n",
      "Index: 19331 entries, 0 to 23170\n",
      "Data columns (total 21 columns):\n",
      " #   Column                  Non-Null Count  Dtype \n",
      "---  ------                  --------------  ----- \n",
      " 0   Unnamed: 0              19331 non-null  object\n",
      " 1   Airline Name            19331 non-null  object\n",
      " 2   Overall_Rating          19331 non-null  int64 \n",
      " 3   Review_Title            19331 non-null  object\n",
      " 4   Review Date             19331 non-null  object\n",
      " 5   Verified                19331 non-null  bool  \n",
      " 6   Review                  19331 non-null  object\n",
      " 7   Aircraft                19331 non-null  object\n",
      " 8   Type Of Traveller       19331 non-null  object\n",
      " 9   Seat Type               19331 non-null  object\n",
      " 10  Route                   19331 non-null  object\n",
      " 11  Date Flown              19331 non-null  object\n",
      " 12  Seat Comfort            19331 non-null  int64 \n",
      " 13  Cabin Staff Service     19331 non-null  int64 \n",
      " 14  Food & Beverages        19331 non-null  int64 \n",
      " 15  Ground Service          19331 non-null  int64 \n",
      " 16  Inflight Entertainment  19331 non-null  int64 \n",
      " 17  Wifi & Connectivity     19331 non-null  int64 \n",
      " 18  Value For Money         19331 non-null  int64 \n",
      " 19  Recommended             19331 non-null  bool  \n",
      " 20  passenger id            19331 non-null  object\n",
      "dtypes: bool(2), int64(8), object(11)\n",
      "memory usage: 3.0+ MB\n"
     ]
    }
   ],
   "source": [
    "# 生成随机用户名的函数\n",
    "def generate_username():\n",
    "    while True:\n",
    "        # 生成一个随机用户名，可以根据需要自定义生成规则\n",
    "        username = random.choice(string.ascii_uppercase)\n",
    "        username += ''.join(random.choice(string.ascii_uppercase + '23456789') for _ in range(7))\n",
    "        # 检查用户名是否已经存在\n",
    "        if username not in used_usernames:\n",
    "            used_usernames.add(username)\n",
    "            return username\n",
    "\n",
    "\n",
    "used_usernames = set()\n",
    "# 为每一行添加用户名列\n",
    "review_df['passenger id'] = [generate_username() for _ in range(len(review_df))]\n",
    "\n",
    "review_df.info()"
   ],
   "metadata": {
    "collapsed": false,
    "ExecuteTime": {
     "end_time": "2023-09-10T12:53:08.369770500Z",
     "start_time": "2023-09-10T12:53:08.285092100Z"
    }
   },
   "id": "c16b4ab9f613e52"
  },
  {
   "cell_type": "code",
   "execution_count": 39,
   "outputs": [
    {
     "data": {
      "text/plain": "       Unnamed: 0   Airline Name  Overall_Rating  \\\n0      XXXXXXXXX0    AB Aviation               9   \n1      XXXXXXXXX1    AB Aviation               1   \n2      XXXXXXXXX2    AB Aviation               1   \n3      XXXXXXXXX3  Adria Airways               1   \n4      XXXXXXXXX4  Adria Airways               1   \n...           ...            ...             ...   \n23166  XXXXX23166         ZIPAIR               1   \n23167  XXXXX23167         ZIPAIR               1   \n23168  XXXXX23168         ZIPAIR               3   \n23169  XXXXX23169         ZIPAIR               6   \n23170  XXXXX23170         ZIPAIR               1   \n\n                                 Review_Title          Review Date  Verified  \\\n0                     \"pretty decent airline\"   11th November 2019      True   \n1                        \"Not a good airline\"       25th June 2019      True   \n2              \"flight was fortunately short\"       25th June 2019      True   \n3         \"I will never fly again with Adria\"  28th September 2019     False   \n4       \"it ruined our last days of holidays\"  24th September 2019      True   \n...                                       ...                  ...       ...   \n23166          \"customer service is terrible\"        5th July 2022     False   \n23167                    \"Avoid at all costs\"        1st June 2022      True   \n23168          \"Will not recommend to anyone\"        31st May 2022      True   \n23169             \"It was immaculately clean\"        23rd May 2022      True   \n23170  \"lost all of our money with no refund\"        20th May 2022      True   \n\n                                                  Review       Aircraft  \\\n0        Moroni to Moheli. Turned out to be a pretty ...             NA   \n1       Moroni to Anjouan. It is a very small airline...           E120   \n2        Anjouan to Dzaoudzi. A very small airline an...  Embraer E120    \n3        Please do a favor yourself and do not fly wi...             NA   \n4       Do not book a flight with this airline! My fr...             NA   \n...                                                  ...            ...   \n23166   Bangkok to Tokyo. I’ve flown many low cost ai...             NA   \n23167    Avoid at all costs. I booked flights to go f...             NA   \n23168    Flight was leaving at 23.15 and after an hou...             NA   \n23169   Zipair is JAL’s budget airline. They don’t ha...     Dreamliner   \n23170    They lied about connection in Narita and we ...             NA   \n\n      Type Of Traveller       Seat Type  ...      Date Flown Seat Comfort  \\\n0          Solo Leisure   Economy Class  ...   November 2019            4   \n1          Solo Leisure   Economy Class  ...       June 2019            2   \n2          Solo Leisure   Economy Class  ...       June 2019            2   \n3          Solo Leisure   Economy Class  ...  September 2019            1   \n4        Couple Leisure   Economy Class  ...  September 2019            1   \n...                 ...             ...  ...             ...          ...   \n23166    Couple Leisure   Economy Class  ...       June 2022            2   \n23167      Solo Leisure   Economy Class  ...       June 2022           -1   \n23168          Business   Economy Class  ...        May 2022            2   \n23169          Business  Business Class  ...        May 2022            3   \n23170      Solo Leisure   Economy Class  ...        May 2022           -1   \n\n       Cabin Staff Service  Food & Beverages  Ground Service  \\\n0                        5                 4               4   \n1                        2                 1               1   \n2                        1                 1               1   \n3                        1                -1               1   \n4                        1                 1               1   \n...                    ...               ...             ...   \n23166                    1                -1               1   \n23167                   -1                -1              -1   \n23168                    4                 2               1   \n23169                    4                 3               1   \n23170                   -1                -1               1   \n\n       Inflight Entertainment  Wifi & Connectivity  Value For Money  \\\n0                          -1                   -1                3   \n1                          -1                   -1                2   \n2                          -1                   -1                2   \n3                          -1                   -1                1   \n4                           1                    1                1   \n...                       ...                  ...              ...   \n23166                       1                    1                1   \n23167                      -1                   -1                1   \n23168                      -1                   -1                2   \n23169                       2                    5                5   \n23170                      -1                   -1                1   \n\n       Recommended  passenger id  \n0             True      OPCN6ETD  \n1            False      JSIDOPAO  \n2            False      T3ZD5GXA  \n3            False      MN2E7R5L  \n4            False      UEAUI9G2  \n...            ...           ...  \n23166        False      N86BJ5FM  \n23167        False      Y9X4ORJ6  \n23168        False      REG73CZS  \n23169         True      M7MQ9IOI  \n23170        False      XC7AIBSO  \n\n[19331 rows x 21 columns]",
      "text/html": "<div>\n<style scoped>\n    .dataframe tbody tr th:only-of-type {\n        vertical-align: middle;\n    }\n\n    .dataframe tbody tr th {\n        vertical-align: top;\n    }\n\n    .dataframe thead th {\n        text-align: right;\n    }\n</style>\n<table border=\"1\" class=\"dataframe\">\n  <thead>\n    <tr style=\"text-align: right;\">\n      <th></th>\n      <th>Unnamed: 0</th>\n      <th>Airline Name</th>\n      <th>Overall_Rating</th>\n      <th>Review_Title</th>\n      <th>Review Date</th>\n      <th>Verified</th>\n      <th>Review</th>\n      <th>Aircraft</th>\n      <th>Type Of Traveller</th>\n      <th>Seat Type</th>\n      <th>...</th>\n      <th>Date Flown</th>\n      <th>Seat Comfort</th>\n      <th>Cabin Staff Service</th>\n      <th>Food &amp; Beverages</th>\n      <th>Ground Service</th>\n      <th>Inflight Entertainment</th>\n      <th>Wifi &amp; Connectivity</th>\n      <th>Value For Money</th>\n      <th>Recommended</th>\n      <th>passenger id</th>\n    </tr>\n  </thead>\n  <tbody>\n    <tr>\n      <th>0</th>\n      <td>XXXXXXXXX0</td>\n      <td>AB Aviation</td>\n      <td>9</td>\n      <td>\"pretty decent airline\"</td>\n      <td>11th November 2019</td>\n      <td>True</td>\n      <td>Moroni to Moheli. Turned out to be a pretty ...</td>\n      <td>NA</td>\n      <td>Solo Leisure</td>\n      <td>Economy Class</td>\n      <td>...</td>\n      <td>November 2019</td>\n      <td>4</td>\n      <td>5</td>\n      <td>4</td>\n      <td>4</td>\n      <td>-1</td>\n      <td>-1</td>\n      <td>3</td>\n      <td>True</td>\n      <td>OPCN6ETD</td>\n    </tr>\n    <tr>\n      <th>1</th>\n      <td>XXXXXXXXX1</td>\n      <td>AB Aviation</td>\n      <td>1</td>\n      <td>\"Not a good airline\"</td>\n      <td>25th June 2019</td>\n      <td>True</td>\n      <td>Moroni to Anjouan. It is a very small airline...</td>\n      <td>E120</td>\n      <td>Solo Leisure</td>\n      <td>Economy Class</td>\n      <td>...</td>\n      <td>June 2019</td>\n      <td>2</td>\n      <td>2</td>\n      <td>1</td>\n      <td>1</td>\n      <td>-1</td>\n      <td>-1</td>\n      <td>2</td>\n      <td>False</td>\n      <td>JSIDOPAO</td>\n    </tr>\n    <tr>\n      <th>2</th>\n      <td>XXXXXXXXX2</td>\n      <td>AB Aviation</td>\n      <td>1</td>\n      <td>\"flight was fortunately short\"</td>\n      <td>25th June 2019</td>\n      <td>True</td>\n      <td>Anjouan to Dzaoudzi. A very small airline an...</td>\n      <td>Embraer E120</td>\n      <td>Solo Leisure</td>\n      <td>Economy Class</td>\n      <td>...</td>\n      <td>June 2019</td>\n      <td>2</td>\n      <td>1</td>\n      <td>1</td>\n      <td>1</td>\n      <td>-1</td>\n      <td>-1</td>\n      <td>2</td>\n      <td>False</td>\n      <td>T3ZD5GXA</td>\n    </tr>\n    <tr>\n      <th>3</th>\n      <td>XXXXXXXXX3</td>\n      <td>Adria Airways</td>\n      <td>1</td>\n      <td>\"I will never fly again with Adria\"</td>\n      <td>28th September 2019</td>\n      <td>False</td>\n      <td>Please do a favor yourself and do not fly wi...</td>\n      <td>NA</td>\n      <td>Solo Leisure</td>\n      <td>Economy Class</td>\n      <td>...</td>\n      <td>September 2019</td>\n      <td>1</td>\n      <td>1</td>\n      <td>-1</td>\n      <td>1</td>\n      <td>-1</td>\n      <td>-1</td>\n      <td>1</td>\n      <td>False</td>\n      <td>MN2E7R5L</td>\n    </tr>\n    <tr>\n      <th>4</th>\n      <td>XXXXXXXXX4</td>\n      <td>Adria Airways</td>\n      <td>1</td>\n      <td>\"it ruined our last days of holidays\"</td>\n      <td>24th September 2019</td>\n      <td>True</td>\n      <td>Do not book a flight with this airline! My fr...</td>\n      <td>NA</td>\n      <td>Couple Leisure</td>\n      <td>Economy Class</td>\n      <td>...</td>\n      <td>September 2019</td>\n      <td>1</td>\n      <td>1</td>\n      <td>1</td>\n      <td>1</td>\n      <td>1</td>\n      <td>1</td>\n      <td>1</td>\n      <td>False</td>\n      <td>UEAUI9G2</td>\n    </tr>\n    <tr>\n      <th>...</th>\n      <td>...</td>\n      <td>...</td>\n      <td>...</td>\n      <td>...</td>\n      <td>...</td>\n      <td>...</td>\n      <td>...</td>\n      <td>...</td>\n      <td>...</td>\n      <td>...</td>\n      <td>...</td>\n      <td>...</td>\n      <td>...</td>\n      <td>...</td>\n      <td>...</td>\n      <td>...</td>\n      <td>...</td>\n      <td>...</td>\n      <td>...</td>\n      <td>...</td>\n      <td>...</td>\n    </tr>\n    <tr>\n      <th>23166</th>\n      <td>XXXXX23166</td>\n      <td>ZIPAIR</td>\n      <td>1</td>\n      <td>\"customer service is terrible\"</td>\n      <td>5th July 2022</td>\n      <td>False</td>\n      <td>Bangkok to Tokyo. I’ve flown many low cost ai...</td>\n      <td>NA</td>\n      <td>Couple Leisure</td>\n      <td>Economy Class</td>\n      <td>...</td>\n      <td>June 2022</td>\n      <td>2</td>\n      <td>1</td>\n      <td>-1</td>\n      <td>1</td>\n      <td>1</td>\n      <td>1</td>\n      <td>1</td>\n      <td>False</td>\n      <td>N86BJ5FM</td>\n    </tr>\n    <tr>\n      <th>23167</th>\n      <td>XXXXX23167</td>\n      <td>ZIPAIR</td>\n      <td>1</td>\n      <td>\"Avoid at all costs\"</td>\n      <td>1st June 2022</td>\n      <td>True</td>\n      <td>Avoid at all costs. I booked flights to go f...</td>\n      <td>NA</td>\n      <td>Solo Leisure</td>\n      <td>Economy Class</td>\n      <td>...</td>\n      <td>June 2022</td>\n      <td>-1</td>\n      <td>-1</td>\n      <td>-1</td>\n      <td>-1</td>\n      <td>-1</td>\n      <td>-1</td>\n      <td>1</td>\n      <td>False</td>\n      <td>Y9X4ORJ6</td>\n    </tr>\n    <tr>\n      <th>23168</th>\n      <td>XXXXX23168</td>\n      <td>ZIPAIR</td>\n      <td>3</td>\n      <td>\"Will not recommend to anyone\"</td>\n      <td>31st May 2022</td>\n      <td>True</td>\n      <td>Flight was leaving at 23.15 and after an hou...</td>\n      <td>NA</td>\n      <td>Business</td>\n      <td>Economy Class</td>\n      <td>...</td>\n      <td>May 2022</td>\n      <td>2</td>\n      <td>4</td>\n      <td>2</td>\n      <td>1</td>\n      <td>-1</td>\n      <td>-1</td>\n      <td>2</td>\n      <td>False</td>\n      <td>REG73CZS</td>\n    </tr>\n    <tr>\n      <th>23169</th>\n      <td>XXXXX23169</td>\n      <td>ZIPAIR</td>\n      <td>6</td>\n      <td>\"It was immaculately clean\"</td>\n      <td>23rd May 2022</td>\n      <td>True</td>\n      <td>Zipair is JAL’s budget airline. They don’t ha...</td>\n      <td>Dreamliner</td>\n      <td>Business</td>\n      <td>Business Class</td>\n      <td>...</td>\n      <td>May 2022</td>\n      <td>3</td>\n      <td>4</td>\n      <td>3</td>\n      <td>1</td>\n      <td>2</td>\n      <td>5</td>\n      <td>5</td>\n      <td>True</td>\n      <td>M7MQ9IOI</td>\n    </tr>\n    <tr>\n      <th>23170</th>\n      <td>XXXXX23170</td>\n      <td>ZIPAIR</td>\n      <td>1</td>\n      <td>\"lost all of our money with no refund\"</td>\n      <td>20th May 2022</td>\n      <td>True</td>\n      <td>They lied about connection in Narita and we ...</td>\n      <td>NA</td>\n      <td>Solo Leisure</td>\n      <td>Economy Class</td>\n      <td>...</td>\n      <td>May 2022</td>\n      <td>-1</td>\n      <td>-1</td>\n      <td>-1</td>\n      <td>1</td>\n      <td>-1</td>\n      <td>-1</td>\n      <td>1</td>\n      <td>False</td>\n      <td>XC7AIBSO</td>\n    </tr>\n  </tbody>\n</table>\n<p>19331 rows × 21 columns</p>\n</div>"
     },
     "execution_count": 39,
     "metadata": {},
     "output_type": "execute_result"
    }
   ],
   "source": [
    "review_df"
   ],
   "metadata": {
    "collapsed": false,
    "ExecuteTime": {
     "end_time": "2023-09-10T12:53:42.569752900Z",
     "start_time": "2023-09-10T12:53:42.527820100Z"
    }
   },
   "id": "34fea19758643154"
  },
  {
   "cell_type": "code",
   "execution_count": 40,
   "outputs": [],
   "source": [
    "review_df.to_csv('./new_df1009.csv', index = False)"
   ],
   "metadata": {
    "collapsed": false,
    "ExecuteTime": {
     "end_time": "2023-09-10T12:56:35.172354900Z",
     "start_time": "2023-09-10T12:56:34.934696500Z"
    }
   },
   "id": "77347254cf9642e5"
  },
  {
   "cell_type": "code",
   "execution_count": 42,
   "outputs": [
    {
     "data": {
      "text/plain": "0          MALE\n1          MALE\n2        FEMALE\n3        FEMALE\n4        FEMALE\n          ...  \n23166      MALE\n23167      MALE\n23168    FEMALE\n23169    FEMALE\n23170      MALE\nName: gender, Length: 19331, dtype: object"
     },
     "execution_count": 42,
     "metadata": {},
     "output_type": "execute_result"
    }
   ],
   "source": [
    "review_df['gender'] = [random.choice(['MALE', 'FEMALE']) for _ in range(len(review_df))]\n",
    "\n",
    "review_df['gender']"
   ],
   "metadata": {
    "collapsed": false,
    "ExecuteTime": {
     "end_time": "2023-09-10T13:01:10.918245400Z",
     "start_time": "2023-09-10T13:01:10.887007700Z"
    }
   },
   "id": "822e283b66443a64"
  },
  {
   "cell_type": "code",
   "execution_count": 47,
   "outputs": [
    {
     "data": {
      "text/plain": "0        37\n1        25\n2        42\n3        35\n4        23\n         ..\n23166    28\n23167    17\n23168    51\n23169    23\n23170    13\nName: age, Length: 19331, dtype: int64"
     },
     "execution_count": 47,
     "metadata": {},
     "output_type": "execute_result"
    }
   ],
   "source": [
    "review_df['age'] = [random.choice(range(13, random.choice([25, 30, 30, 35, 40, 50, 55, 65]))) for _ in range(len(review_df))]\n",
    "\n",
    "review_df['age']"
   ],
   "metadata": {
    "collapsed": false,
    "ExecuteTime": {
     "end_time": "2023-09-10T13:06:58.178858600Z",
     "start_time": "2023-09-10T13:06:58.131976800Z"
    }
   },
   "id": "b118eef55d10c03"
  },
  {
   "cell_type": "code",
   "execution_count": 48,
   "outputs": [],
   "source": [
    "review_df.to_csv('./new_df1009.csv', index = False)"
   ],
   "metadata": {
    "collapsed": false,
    "ExecuteTime": {
     "end_time": "2023-09-10T13:07:32.324859200Z",
     "start_time": "2023-09-10T13:07:32.090859300Z"
    }
   },
   "id": "c2ee0092b019c1bc"
  },
  {
   "cell_type": "code",
   "execution_count": 49,
   "outputs": [
    {
     "data": {
      "text/plain": "       Unnamed: 0   Airline Name  Overall_Rating  \\\n0      XXXXXXXXX0    AB Aviation               9   \n1      XXXXXXXXX1    AB Aviation               1   \n2      XXXXXXXXX2    AB Aviation               1   \n3      XXXXXXXXX3  Adria Airways               1   \n4      XXXXXXXXX4  Adria Airways               1   \n...           ...            ...             ...   \n23166  XXXXX23166         ZIPAIR               1   \n23167  XXXXX23167         ZIPAIR               1   \n23168  XXXXX23168         ZIPAIR               3   \n23169  XXXXX23169         ZIPAIR               6   \n23170  XXXXX23170         ZIPAIR               1   \n\n                                 Review_Title          Review Date  Verified  \\\n0                     \"pretty decent airline\"   11th November 2019      True   \n1                        \"Not a good airline\"       25th June 2019      True   \n2              \"flight was fortunately short\"       25th June 2019      True   \n3         \"I will never fly again with Adria\"  28th September 2019     False   \n4       \"it ruined our last days of holidays\"  24th September 2019      True   \n...                                       ...                  ...       ...   \n23166          \"customer service is terrible\"        5th July 2022     False   \n23167                    \"Avoid at all costs\"        1st June 2022      True   \n23168          \"Will not recommend to anyone\"        31st May 2022      True   \n23169             \"It was immaculately clean\"        23rd May 2022      True   \n23170  \"lost all of our money with no refund\"        20th May 2022      True   \n\n                                                  Review       Aircraft  \\\n0        Moroni to Moheli. Turned out to be a pretty ...             NA   \n1       Moroni to Anjouan. It is a very small airline...           E120   \n2        Anjouan to Dzaoudzi. A very small airline an...  Embraer E120    \n3        Please do a favor yourself and do not fly wi...             NA   \n4       Do not book a flight with this airline! My fr...             NA   \n...                                                  ...            ...   \n23166   Bangkok to Tokyo. I’ve flown many low cost ai...             NA   \n23167    Avoid at all costs. I booked flights to go f...             NA   \n23168    Flight was leaving at 23.15 and after an hou...             NA   \n23169   Zipair is JAL’s budget airline. They don’t ha...     Dreamliner   \n23170    They lied about connection in Narita and we ...             NA   \n\n      Type Of Traveller       Seat Type  ... Cabin Staff Service  \\\n0          Solo Leisure   Economy Class  ...                   5   \n1          Solo Leisure   Economy Class  ...                   2   \n2          Solo Leisure   Economy Class  ...                   1   \n3          Solo Leisure   Economy Class  ...                   1   \n4        Couple Leisure   Economy Class  ...                   1   \n...                 ...             ...  ...                 ...   \n23166    Couple Leisure   Economy Class  ...                   1   \n23167      Solo Leisure   Economy Class  ...                  -1   \n23168          Business   Economy Class  ...                   4   \n23169          Business  Business Class  ...                   4   \n23170      Solo Leisure   Economy Class  ...                  -1   \n\n      Food & Beverages  Ground Service  Inflight Entertainment  \\\n0                    4               4                      -1   \n1                    1               1                      -1   \n2                    1               1                      -1   \n3                   -1               1                      -1   \n4                    1               1                       1   \n...                ...             ...                     ...   \n23166               -1               1                       1   \n23167               -1              -1                      -1   \n23168                2               1                      -1   \n23169                3               1                       2   \n23170               -1               1                      -1   \n\n       Wifi & Connectivity  Value For Money  Recommended  passenger id  \\\n0                       -1                3         True      OPCN6ETD   \n1                       -1                2        False      JSIDOPAO   \n2                       -1                2        False      T3ZD5GXA   \n3                       -1                1        False      MN2E7R5L   \n4                        1                1        False      UEAUI9G2   \n...                    ...              ...          ...           ...   \n23166                    1                1        False      N86BJ5FM   \n23167                   -1                1        False      Y9X4ORJ6   \n23168                   -1                2        False      REG73CZS   \n23169                    5                5         True      M7MQ9IOI   \n23170                   -1                1        False      XC7AIBSO   \n\n       gender  age  \n0        MALE   37  \n1        MALE   25  \n2      FEMALE   42  \n3      FEMALE   35  \n4      FEMALE   23  \n...       ...  ...  \n23166    MALE   28  \n23167    MALE   17  \n23168  FEMALE   51  \n23169  FEMALE   23  \n23170    MALE   13  \n\n[19331 rows x 23 columns]",
      "text/html": "<div>\n<style scoped>\n    .dataframe tbody tr th:only-of-type {\n        vertical-align: middle;\n    }\n\n    .dataframe tbody tr th {\n        vertical-align: top;\n    }\n\n    .dataframe thead th {\n        text-align: right;\n    }\n</style>\n<table border=\"1\" class=\"dataframe\">\n  <thead>\n    <tr style=\"text-align: right;\">\n      <th></th>\n      <th>Unnamed: 0</th>\n      <th>Airline Name</th>\n      <th>Overall_Rating</th>\n      <th>Review_Title</th>\n      <th>Review Date</th>\n      <th>Verified</th>\n      <th>Review</th>\n      <th>Aircraft</th>\n      <th>Type Of Traveller</th>\n      <th>Seat Type</th>\n      <th>...</th>\n      <th>Cabin Staff Service</th>\n      <th>Food &amp; Beverages</th>\n      <th>Ground Service</th>\n      <th>Inflight Entertainment</th>\n      <th>Wifi &amp; Connectivity</th>\n      <th>Value For Money</th>\n      <th>Recommended</th>\n      <th>passenger id</th>\n      <th>gender</th>\n      <th>age</th>\n    </tr>\n  </thead>\n  <tbody>\n    <tr>\n      <th>0</th>\n      <td>XXXXXXXXX0</td>\n      <td>AB Aviation</td>\n      <td>9</td>\n      <td>\"pretty decent airline\"</td>\n      <td>11th November 2019</td>\n      <td>True</td>\n      <td>Moroni to Moheli. Turned out to be a pretty ...</td>\n      <td>NA</td>\n      <td>Solo Leisure</td>\n      <td>Economy Class</td>\n      <td>...</td>\n      <td>5</td>\n      <td>4</td>\n      <td>4</td>\n      <td>-1</td>\n      <td>-1</td>\n      <td>3</td>\n      <td>True</td>\n      <td>OPCN6ETD</td>\n      <td>MALE</td>\n      <td>37</td>\n    </tr>\n    <tr>\n      <th>1</th>\n      <td>XXXXXXXXX1</td>\n      <td>AB Aviation</td>\n      <td>1</td>\n      <td>\"Not a good airline\"</td>\n      <td>25th June 2019</td>\n      <td>True</td>\n      <td>Moroni to Anjouan. It is a very small airline...</td>\n      <td>E120</td>\n      <td>Solo Leisure</td>\n      <td>Economy Class</td>\n      <td>...</td>\n      <td>2</td>\n      <td>1</td>\n      <td>1</td>\n      <td>-1</td>\n      <td>-1</td>\n      <td>2</td>\n      <td>False</td>\n      <td>JSIDOPAO</td>\n      <td>MALE</td>\n      <td>25</td>\n    </tr>\n    <tr>\n      <th>2</th>\n      <td>XXXXXXXXX2</td>\n      <td>AB Aviation</td>\n      <td>1</td>\n      <td>\"flight was fortunately short\"</td>\n      <td>25th June 2019</td>\n      <td>True</td>\n      <td>Anjouan to Dzaoudzi. A very small airline an...</td>\n      <td>Embraer E120</td>\n      <td>Solo Leisure</td>\n      <td>Economy Class</td>\n      <td>...</td>\n      <td>1</td>\n      <td>1</td>\n      <td>1</td>\n      <td>-1</td>\n      <td>-1</td>\n      <td>2</td>\n      <td>False</td>\n      <td>T3ZD5GXA</td>\n      <td>FEMALE</td>\n      <td>42</td>\n    </tr>\n    <tr>\n      <th>3</th>\n      <td>XXXXXXXXX3</td>\n      <td>Adria Airways</td>\n      <td>1</td>\n      <td>\"I will never fly again with Adria\"</td>\n      <td>28th September 2019</td>\n      <td>False</td>\n      <td>Please do a favor yourself and do not fly wi...</td>\n      <td>NA</td>\n      <td>Solo Leisure</td>\n      <td>Economy Class</td>\n      <td>...</td>\n      <td>1</td>\n      <td>-1</td>\n      <td>1</td>\n      <td>-1</td>\n      <td>-1</td>\n      <td>1</td>\n      <td>False</td>\n      <td>MN2E7R5L</td>\n      <td>FEMALE</td>\n      <td>35</td>\n    </tr>\n    <tr>\n      <th>4</th>\n      <td>XXXXXXXXX4</td>\n      <td>Adria Airways</td>\n      <td>1</td>\n      <td>\"it ruined our last days of holidays\"</td>\n      <td>24th September 2019</td>\n      <td>True</td>\n      <td>Do not book a flight with this airline! My fr...</td>\n      <td>NA</td>\n      <td>Couple Leisure</td>\n      <td>Economy Class</td>\n      <td>...</td>\n      <td>1</td>\n      <td>1</td>\n      <td>1</td>\n      <td>1</td>\n      <td>1</td>\n      <td>1</td>\n      <td>False</td>\n      <td>UEAUI9G2</td>\n      <td>FEMALE</td>\n      <td>23</td>\n    </tr>\n    <tr>\n      <th>...</th>\n      <td>...</td>\n      <td>...</td>\n      <td>...</td>\n      <td>...</td>\n      <td>...</td>\n      <td>...</td>\n      <td>...</td>\n      <td>...</td>\n      <td>...</td>\n      <td>...</td>\n      <td>...</td>\n      <td>...</td>\n      <td>...</td>\n      <td>...</td>\n      <td>...</td>\n      <td>...</td>\n      <td>...</td>\n      <td>...</td>\n      <td>...</td>\n      <td>...</td>\n      <td>...</td>\n    </tr>\n    <tr>\n      <th>23166</th>\n      <td>XXXXX23166</td>\n      <td>ZIPAIR</td>\n      <td>1</td>\n      <td>\"customer service is terrible\"</td>\n      <td>5th July 2022</td>\n      <td>False</td>\n      <td>Bangkok to Tokyo. I’ve flown many low cost ai...</td>\n      <td>NA</td>\n      <td>Couple Leisure</td>\n      <td>Economy Class</td>\n      <td>...</td>\n      <td>1</td>\n      <td>-1</td>\n      <td>1</td>\n      <td>1</td>\n      <td>1</td>\n      <td>1</td>\n      <td>False</td>\n      <td>N86BJ5FM</td>\n      <td>MALE</td>\n      <td>28</td>\n    </tr>\n    <tr>\n      <th>23167</th>\n      <td>XXXXX23167</td>\n      <td>ZIPAIR</td>\n      <td>1</td>\n      <td>\"Avoid at all costs\"</td>\n      <td>1st June 2022</td>\n      <td>True</td>\n      <td>Avoid at all costs. I booked flights to go f...</td>\n      <td>NA</td>\n      <td>Solo Leisure</td>\n      <td>Economy Class</td>\n      <td>...</td>\n      <td>-1</td>\n      <td>-1</td>\n      <td>-1</td>\n      <td>-1</td>\n      <td>-1</td>\n      <td>1</td>\n      <td>False</td>\n      <td>Y9X4ORJ6</td>\n      <td>MALE</td>\n      <td>17</td>\n    </tr>\n    <tr>\n      <th>23168</th>\n      <td>XXXXX23168</td>\n      <td>ZIPAIR</td>\n      <td>3</td>\n      <td>\"Will not recommend to anyone\"</td>\n      <td>31st May 2022</td>\n      <td>True</td>\n      <td>Flight was leaving at 23.15 and after an hou...</td>\n      <td>NA</td>\n      <td>Business</td>\n      <td>Economy Class</td>\n      <td>...</td>\n      <td>4</td>\n      <td>2</td>\n      <td>1</td>\n      <td>-1</td>\n      <td>-1</td>\n      <td>2</td>\n      <td>False</td>\n      <td>REG73CZS</td>\n      <td>FEMALE</td>\n      <td>51</td>\n    </tr>\n    <tr>\n      <th>23169</th>\n      <td>XXXXX23169</td>\n      <td>ZIPAIR</td>\n      <td>6</td>\n      <td>\"It was immaculately clean\"</td>\n      <td>23rd May 2022</td>\n      <td>True</td>\n      <td>Zipair is JAL’s budget airline. They don’t ha...</td>\n      <td>Dreamliner</td>\n      <td>Business</td>\n      <td>Business Class</td>\n      <td>...</td>\n      <td>4</td>\n      <td>3</td>\n      <td>1</td>\n      <td>2</td>\n      <td>5</td>\n      <td>5</td>\n      <td>True</td>\n      <td>M7MQ9IOI</td>\n      <td>FEMALE</td>\n      <td>23</td>\n    </tr>\n    <tr>\n      <th>23170</th>\n      <td>XXXXX23170</td>\n      <td>ZIPAIR</td>\n      <td>1</td>\n      <td>\"lost all of our money with no refund\"</td>\n      <td>20th May 2022</td>\n      <td>True</td>\n      <td>They lied about connection in Narita and we ...</td>\n      <td>NA</td>\n      <td>Solo Leisure</td>\n      <td>Economy Class</td>\n      <td>...</td>\n      <td>-1</td>\n      <td>-1</td>\n      <td>1</td>\n      <td>-1</td>\n      <td>-1</td>\n      <td>1</td>\n      <td>False</td>\n      <td>XC7AIBSO</td>\n      <td>MALE</td>\n      <td>13</td>\n    </tr>\n  </tbody>\n</table>\n<p>19331 rows × 23 columns</p>\n</div>"
     },
     "execution_count": 49,
     "metadata": {},
     "output_type": "execute_result"
    }
   ],
   "source": [
    "review_df"
   ],
   "metadata": {
    "collapsed": false,
    "ExecuteTime": {
     "end_time": "2023-09-10T13:08:38.628790300Z",
     "start_time": "2023-09-10T13:08:38.592610400Z"
    }
   },
   "id": "b249db5298b36629"
  },
  {
   "cell_type": "code",
   "execution_count": 51,
   "outputs": [
    {
     "data": {
      "text/plain": "0        Moroni to Moheli. Turned out to be a pretty de...\n1        Moroni to Anjouan. It is a very small airline....\n2        Anjouan to Dzaoudzi. A very small airline and ...\n3        Please do a favor yourself and do not fly with...\n4        Do not book a flight with this airline! My fri...\n                               ...                        \n23166    Bangkok to Tokyo. I’ve flown many low cost air...\n23167    Avoid at all costs. I booked flights to go fro...\n23168    Flight was leaving at 23.15 and after an hour ...\n23169    Zipair is JAL’s budget airline. They don’t hav...\n23170    They lied about connection in Narita and we lo...\nName: Review, Length: 19331, dtype: object"
     },
     "execution_count": 51,
     "metadata": {},
     "output_type": "execute_result"
    }
   ],
   "source": [
    "review_content = []\n",
    "for value in review_df['Review']:\n",
    "    review_content.append(value.strip())\n",
    "review_df['Review'] = review_content\n",
    "\n",
    "review_df['Review']"
   ],
   "metadata": {
    "collapsed": false,
    "ExecuteTime": {
     "end_time": "2023-09-10T13:59:55.702141Z",
     "start_time": "2023-09-10T13:59:55.654230300Z"
    }
   },
   "id": "7fb2c1e98585330b"
  },
  {
   "cell_type": "code",
   "execution_count": 52,
   "outputs": [],
   "source": [
    "review_df.to_csv('./new_df1009.csv', index = False)"
   ],
   "metadata": {
    "collapsed": false,
    "ExecuteTime": {
     "end_time": "2023-09-10T14:01:05.890702200Z",
     "start_time": "2023-09-10T14:01:05.648563Z"
    }
   },
   "id": "a1bb851c2ca8262e"
  },
  {
   "cell_type": "code",
   "execution_count": 53,
   "outputs": [
    {
     "data": {
      "text/plain": "0                       pretty decent airline\n1                          Not a good airline\n2                flight was fortunately short\n3           I will never fly again with Adria\n4         it ruined our last days of holidays\n                         ...                 \n23166            customer service is terrible\n23167                      Avoid at all costs\n23168            Will not recommend to anyone\n23169               It was immaculately clean\n23170    lost all of our money with no refund\nName: Review_Title, Length: 19331, dtype: object"
     },
     "execution_count": 53,
     "metadata": {},
     "output_type": "execute_result"
    }
   ],
   "source": [
    "title_content = []\n",
    "for value in review_df['Review_Title']:\n",
    "    title_content.append(value.strip().strip('\\\"').strip().strip('\\\"').strip().strip('\\\"'))\n",
    "review_df['Review_Title'] = title_content\n",
    "\n",
    "review_df['Review_Title']"
   ],
   "metadata": {
    "collapsed": false,
    "ExecuteTime": {
     "end_time": "2023-09-10T14:04:11.467635300Z",
     "start_time": "2023-09-10T14:04:11.421273300Z"
    }
   },
   "id": "c07b2ce92d278e20"
  },
  {
   "cell_type": "code",
   "execution_count": 54,
   "outputs": [],
   "source": [
    "review_df.to_csv('./new_df1009.csv', index = False)"
   ],
   "metadata": {
    "collapsed": false,
    "ExecuteTime": {
     "end_time": "2023-09-10T14:04:12.989712400Z",
     "start_time": "2023-09-10T14:04:12.774604200Z"
    }
   },
   "id": "2ba0279df4b32e53"
  },
  {
   "cell_type": "code",
   "execution_count": 55,
   "outputs": [
    {
     "data": {
      "text/plain": "0        Moroni to Moheli. Turned out to be a pretty de...\n1        Moroni to Anjouan. It is a very small airline....\n2        Anjouan to Dzaoudzi. A very small airline and ...\n3        Please do a favor yourself and do not fly with...\n4        Do not book a flight with this airline! My fri...\n                               ...                        \n23166    Bangkok to Tokyo. I’ve flown many low cost air...\n23167    Avoid at all costs. I booked flights to go fro...\n23168    Flight was leaving at 23.15 and after an hour ...\n23169    Zipair is JAL’s budget airline. They don’t hav...\n23170    They lied about connection in Narita and we lo...\nName: Review, Length: 19331, dtype: object"
     },
     "execution_count": 55,
     "metadata": {},
     "output_type": "execute_result"
    }
   ],
   "source": [
    "review_content = []\n",
    "for value in review_df['Review']:\n",
    "    review_content.append(value.strip('\\\"').replace('\\r',' ').replace('\\n', ' '))\n",
    "review_df['Review'] = review_content\n",
    "\n",
    "review_df['Review']"
   ],
   "metadata": {
    "collapsed": false,
    "ExecuteTime": {
     "end_time": "2023-09-10T14:06:43.563565400Z",
     "start_time": "2023-09-10T14:06:43.500008700Z"
    }
   },
   "id": "ec2499d1d8ca583"
  },
  {
   "cell_type": "code",
   "execution_count": 56,
   "outputs": [],
   "source": [
    "review_df.to_csv('./new_df1009.csv', index = False)"
   ],
   "metadata": {
    "collapsed": false,
    "ExecuteTime": {
     "end_time": "2023-09-10T14:06:46.319794400Z",
     "start_time": "2023-09-10T14:06:46.101624900Z"
    }
   },
   "id": "949ddc4ceab96e49"
  },
  {
   "cell_type": "code",
   "execution_count": 60,
   "outputs": [],
   "source": [
    "review_df = pd.read_csv('new_df1009.csv')"
   ],
   "metadata": {
    "collapsed": false,
    "ExecuteTime": {
     "end_time": "2023-09-10T14:20:31.541120700Z",
     "start_time": "2023-09-10T14:20:31.371928200Z"
    }
   },
   "id": "3a8bdbf422dc822e"
  },
  {
   "cell_type": "code",
   "execution_count": 62,
   "outputs": [],
   "source": [
    "review_df.drop(review_df.index[10170-2], inplace = True)"
   ],
   "metadata": {
    "collapsed": false,
    "ExecuteTime": {
     "end_time": "2023-09-10T14:22:31.249480200Z",
     "start_time": "2023-09-10T14:22:31.196059900Z"
    }
   },
   "id": "7bfe66b23c3837be"
  },
  {
   "cell_type": "code",
   "execution_count": 63,
   "outputs": [],
   "source": [
    "review_df.to_csv('./new_df1009.csv', index = False)"
   ],
   "metadata": {
    "collapsed": false,
    "ExecuteTime": {
     "end_time": "2023-09-10T14:22:41.376837100Z",
     "start_time": "2023-09-10T14:22:41.124280900Z"
    }
   },
   "id": "4050f4bb026b1819"
  },
  {
   "cell_type": "code",
   "execution_count": 64,
   "outputs": [
    {
     "name": "stdout",
     "output_type": "stream",
     "text": [
      "<class 'pandas.core.frame.DataFrame'>\n",
      "Index: 19330 entries, 0 to 19330\n",
      "Data columns (total 23 columns):\n",
      " #   Column                  Non-Null Count  Dtype \n",
      "---  ------                  --------------  ----- \n",
      " 0   Unnamed: 0              19330 non-null  object\n",
      " 1   Airline Name            19330 non-null  object\n",
      " 2   Overall_Rating          19330 non-null  int64 \n",
      " 3   Review_Title            19329 non-null  object\n",
      " 4   Review Date             19330 non-null  object\n",
      " 5   Verified                19330 non-null  bool  \n",
      " 6   Review                  19330 non-null  object\n",
      " 7   Aircraft                7115 non-null   object\n",
      " 8   Type Of Traveller       19329 non-null  object\n",
      " 9   Seat Type               19327 non-null  object\n",
      " 10  Route                   19330 non-null  object\n",
      " 11  Date Flown              19330 non-null  object\n",
      " 12  Seat Comfort            19330 non-null  int64 \n",
      " 13  Cabin Staff Service     19330 non-null  int64 \n",
      " 14  Food & Beverages        19330 non-null  int64 \n",
      " 15  Ground Service          19330 non-null  int64 \n",
      " 16  Inflight Entertainment  19330 non-null  int64 \n",
      " 17  Wifi & Connectivity     19330 non-null  int64 \n",
      " 18  Value For Money         19330 non-null  int64 \n",
      " 19  Recommended             19330 non-null  bool  \n",
      " 20  passenger id            19330 non-null  object\n",
      " 21  gender                  19330 non-null  object\n",
      " 22  age                     19330 non-null  int64 \n",
      "dtypes: bool(2), int64(9), object(12)\n",
      "memory usage: 3.3+ MB\n"
     ]
    }
   ],
   "source": [
    "review_df.info()"
   ],
   "metadata": {
    "collapsed": false,
    "ExecuteTime": {
     "end_time": "2023-09-10T14:24:04.333431Z",
     "start_time": "2023-09-10T14:24:04.233652800Z"
    }
   },
   "id": "6a3a7b86c0158fb4"
  },
  {
   "cell_type": "code",
   "execution_count": 68,
   "outputs": [],
   "source": [
    "review_df = pd.read_csv('new_df1009.csv')\n",
    "# review_df"
   ],
   "metadata": {
    "collapsed": false,
    "ExecuteTime": {
     "end_time": "2023-09-10T14:30:13.281547500Z",
     "start_time": "2023-09-10T14:30:13.091508200Z"
    }
   },
   "id": "6b6a52d0e83319b0"
  },
  {
   "cell_type": "code",
   "execution_count": 69,
   "outputs": [
    {
     "name": "stdout",
     "output_type": "stream",
     "text": [
      "<class 'pandas.core.frame.DataFrame'>\n",
      "RangeIndex: 19330 entries, 0 to 19329\n",
      "Data columns (total 23 columns):\n",
      " #   Column                  Non-Null Count  Dtype \n",
      "---  ------                  --------------  ----- \n",
      " 0   Unnamed: 0              19330 non-null  object\n",
      " 1   Airline Name            19330 non-null  object\n",
      " 2   Overall_Rating          19330 non-null  int64 \n",
      " 3   Review_Title            19329 non-null  object\n",
      " 4   Review Date             19330 non-null  object\n",
      " 5   Verified                19330 non-null  bool  \n",
      " 6   Review                  19330 non-null  object\n",
      " 7   Aircraft                19330 non-null  object\n",
      " 8   Type Of Traveller       19330 non-null  object\n",
      " 9   Seat Type               19330 non-null  object\n",
      " 10  Route                   19330 non-null  object\n",
      " 11  Date Flown              19330 non-null  object\n",
      " 12  Seat Comfort            19330 non-null  int64 \n",
      " 13  Cabin Staff Service     19330 non-null  int64 \n",
      " 14  Food & Beverages        19330 non-null  int64 \n",
      " 15  Ground Service          19330 non-null  int64 \n",
      " 16  Inflight Entertainment  19330 non-null  int64 \n",
      " 17  Wifi & Connectivity     19330 non-null  int64 \n",
      " 18  Value For Money         19330 non-null  int64 \n",
      " 19  Recommended             19330 non-null  bool  \n",
      " 20  passenger id            19330 non-null  object\n",
      " 21  gender                  19330 non-null  object\n",
      " 22  age                     19330 non-null  int64 \n",
      "dtypes: bool(2), int64(9), object(12)\n",
      "memory usage: 3.1+ MB\n"
     ]
    }
   ],
   "source": [
    "review_df['Aircraft'].fillna('NONE', inplace = True)\n",
    "review_df['Type Of Traveller'].fillna('NONE', inplace = True)\n",
    "review_df['Seat Type'].fillna('NONE', inplace = True)\n",
    "\n",
    "review_df.info()"
   ],
   "metadata": {
    "collapsed": false,
    "ExecuteTime": {
     "end_time": "2023-09-10T14:30:19.564916200Z",
     "start_time": "2023-09-10T14:30:19.528257400Z"
    }
   },
   "id": "2e174efb7ae55e4"
  },
  {
   "cell_type": "code",
   "execution_count": 70,
   "outputs": [
    {
     "name": "stdout",
     "output_type": "stream",
     "text": [
      "<class 'pandas.core.frame.DataFrame'>\n",
      "Index: 19329 entries, 0 to 19329\n",
      "Data columns (total 23 columns):\n",
      " #   Column                  Non-Null Count  Dtype \n",
      "---  ------                  --------------  ----- \n",
      " 0   Unnamed: 0              19329 non-null  object\n",
      " 1   Airline Name            19329 non-null  object\n",
      " 2   Overall_Rating          19329 non-null  int64 \n",
      " 3   Review_Title            19329 non-null  object\n",
      " 4   Review Date             19329 non-null  object\n",
      " 5   Verified                19329 non-null  bool  \n",
      " 6   Review                  19329 non-null  object\n",
      " 7   Aircraft                19329 non-null  object\n",
      " 8   Type Of Traveller       19329 non-null  object\n",
      " 9   Seat Type               19329 non-null  object\n",
      " 10  Route                   19329 non-null  object\n",
      " 11  Date Flown              19329 non-null  object\n",
      " 12  Seat Comfort            19329 non-null  int64 \n",
      " 13  Cabin Staff Service     19329 non-null  int64 \n",
      " 14  Food & Beverages        19329 non-null  int64 \n",
      " 15  Ground Service          19329 non-null  int64 \n",
      " 16  Inflight Entertainment  19329 non-null  int64 \n",
      " 17  Wifi & Connectivity     19329 non-null  int64 \n",
      " 18  Value For Money         19329 non-null  int64 \n",
      " 19  Recommended             19329 non-null  bool  \n",
      " 20  passenger id            19329 non-null  object\n",
      " 21  gender                  19329 non-null  object\n",
      " 22  age                     19329 non-null  int64 \n",
      "dtypes: bool(2), int64(9), object(12)\n",
      "memory usage: 3.3+ MB\n"
     ]
    }
   ],
   "source": [
    "review_df.dropna(subset = ['Review_Title'], inplace = True)\n",
    "\n",
    "review_df.info()"
   ],
   "metadata": {
    "collapsed": false,
    "ExecuteTime": {
     "end_time": "2023-09-10T14:30:28.169887900Z",
     "start_time": "2023-09-10T14:30:28.142824600Z"
    }
   },
   "id": "dc86ccb53e41e302"
  },
  {
   "cell_type": "code",
   "execution_count": 71,
   "outputs": [],
   "source": [
    "review_df.to_csv('./new_df1009.csv', index = False)"
   ],
   "metadata": {
    "collapsed": false,
    "ExecuteTime": {
     "end_time": "2023-09-10T14:30:46.122633100Z",
     "start_time": "2023-09-10T14:30:45.898309600Z"
    }
   },
   "id": "80b3dac9c65d32df"
  },
  {
   "cell_type": "code",
   "execution_count": 72,
   "outputs": [],
   "source": [
    "r = redis.Redis(host = '192.168.0.103', port = 6379, db = 1)"
   ],
   "metadata": {
    "collapsed": false,
    "ExecuteTime": {
     "end_time": "2023-09-10T14:34:20.762031100Z",
     "start_time": "2023-09-10T14:34:20.705451400Z"
    }
   },
   "id": "65be0e03066cf484"
  },
  {
   "cell_type": "code",
   "execution_count": 73,
   "outputs": [
    {
     "data": {
      "text/plain": "[b'FLIGHT', b'AIRLINE', b'PASSENGER', b'REVIEW']"
     },
     "execution_count": 73,
     "metadata": {},
     "output_type": "execute_result"
    }
   ],
   "source": [
    "r.keys()"
   ],
   "metadata": {
    "collapsed": false,
    "ExecuteTime": {
     "end_time": "2023-09-10T14:34:24.329665300Z",
     "start_time": "2023-09-10T14:34:24.220800800Z"
    }
   },
   "id": "4d9f1695dff1d54d"
  },
  {
   "cell_type": "code",
   "execution_count": 74,
   "outputs": [],
   "source": [
    "# 遍历 DataFrame 中的每一行\n",
    "for index, row in review_df.iterrows():\n",
    "    # 将每一行数据转换为字典\n",
    "    row_dict = row.to_dict()\n",
    "    \n",
    "    # 使用 json.dumps() 将字典转换为 JSON 字符串\n",
    "    json_string = json.dumps(row_dict)\n",
    "    \n",
    "    r.rpush('REVIEW', json_string)"
   ],
   "metadata": {
    "collapsed": false,
    "ExecuteTime": {
     "end_time": "2023-09-10T14:38:23.849578300Z",
     "start_time": "2023-09-10T14:37:10.909860900Z"
    }
   },
   "id": "24221e542ce2e0f9"
  }
 ],
 "metadata": {
  "kernelspec": {
   "display_name": "Python 3",
   "language": "python",
   "name": "python3"
  },
  "language_info": {
   "codemirror_mode": {
    "name": "ipython",
    "version": 2
   },
   "file_extension": ".py",
   "mimetype": "text/x-python",
   "name": "python",
   "nbconvert_exporter": "python",
   "pygments_lexer": "ipython2",
   "version": "2.7.6"
  }
 },
 "nbformat": 4,
 "nbformat_minor": 5
}
