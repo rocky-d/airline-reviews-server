{
 "cells": [
  {
   "cell_type": "code",
   "execution_count": 1,
   "id": "initial_id",
   "metadata": {
    "ExecuteTime": {
     "end_time": "2023-09-11T13:40:54.245597900Z",
     "start_time": "2023-09-11T13:40:54.212956900Z"
    },
    "collapsed": false,
    "jupyter": {
     "outputs_hidden": false
    }
   },
   "outputs": [],
   "source": [
    "import math, redis, csv, json, random, string, pickle\n",
    "\n",
    "import numpy as np\n",
    "import pandas as pd"
   ]
  },
  {
   "cell_type": "code",
   "execution_count": 2,
   "id": "49bfd91029d71126",
   "metadata": {
    "ExecuteTime": {
     "end_time": "2023-09-11T13:40:55.138599Z",
     "start_time": "2023-09-11T13:40:55.122975300Z"
    },
    "collapsed": false,
    "jupyter": {
     "outputs_hidden": false
    }
   },
   "outputs": [],
   "source": [
    "r = redis.Redis(host = 'localhost', port = 6379, db = 1)"
   ]
  },
  {
   "cell_type": "code",
   "execution_count": 3,
   "id": "c5149bc0d40e41eb",
   "metadata": {
    "ExecuteTime": {
     "end_time": "2023-09-11T13:40:56.039861100Z",
     "start_time": "2023-09-11T13:40:56.008612300Z"
    },
    "collapsed": false,
    "jupyter": {
     "outputs_hidden": false
    }
   },
   "outputs": [
    {
     "data": {
      "text/plain": [
       "[b'REVIEW', b'AIRLINE', b'PASSENGER', b'FLIGHT']"
      ]
     },
     "execution_count": 3,
     "metadata": {},
     "output_type": "execute_result"
    }
   ],
   "source": [
    "r.keys()"
   ]
  },
  {
   "cell_type": "code",
   "execution_count": 4,
   "id": "ed48ded8336ac16c",
   "metadata": {
    "ExecuteTime": {
     "start_time": "2023-09-11T05:16:50.461017200Z"
    },
    "collapsed": false,
    "jupyter": {
     "outputs_hidden": false
    }
   },
   "outputs": [],
   "source": [
    "passenger_df = pd.read_csv(r'..\\..\\data_csv\\AIRLINEREVIEWS_DB\\PASSENGER.csv')"
   ]
  },
  {
   "cell_type": "code",
   "execution_count": 5,
   "id": "700adc68df5e3800",
   "metadata": {
    "ExecuteTime": {
     "start_time": "2023-09-11T05:16:57.443345400Z"
    },
    "collapsed": false,
    "jupyter": {
     "outputs_hidden": false
    }
   },
   "outputs": [
    {
     "name": "stdout",
     "output_type": "stream",
     "text": [
      "<class 'pandas.core.frame.DataFrame'>\n",
      "RangeIndex: 19329 entries, 0 to 19328\n",
      "Data columns (total 9 columns):\n",
      " #   Column            Non-Null Count  Dtype \n",
      "---  ------            --------------  ----- \n",
      " 0   PSG_ID            19329 non-null  object\n",
      " 1   PSG_VERIFIED      19329 non-null  bool  \n",
      " 2   PSG_AGE           19329 non-null  int64 \n",
      " 3   PSG_GENDER        19329 non-null  object\n",
      " 4   PSG_TYPE          19329 non-null  object\n",
      " 5   PSG_SEAT_TYPE     19329 non-null  object\n",
      " 6   PSG_FLT_ARL_IATA  19329 non-null  object\n",
      " 7   PSG_FLT_ROUTE     19329 non-null  object\n",
      " 8   PSG_FLT_DATE      19329 non-null  object\n",
      "dtypes: bool(1), int64(1), object(7)\n",
      "memory usage: 1.2+ MB\n"
     ]
    }
   ],
   "source": [
    "passenger_df.info()"
   ]
  },
  {
   "cell_type": "code",
   "execution_count": 6,
   "id": "3ee4afe57a32fce8",
   "metadata": {
    "ExecuteTime": {
     "end_time": "2023-09-11T05:23:18.633339100Z",
     "start_time": "2023-09-11T05:21:29.481932400Z"
    },
    "collapsed": false,
    "jupyter": {
     "outputs_hidden": false
    }
   },
   "outputs": [],
   "source": [
    "# 遍历 DataFrame 中的每一行\n",
    "for index, row in passenger_df.iterrows():\n",
    "    # 将每一行数据转换为字典\n",
    "    row_dict = row.to_dict()\n",
    "    row_dict['PSG_FLT_TAG'] = {'PSG_FLT_ARL_IATA': row_dict['PSG_FLT_ARL_IATA'],\n",
    "                               'PSG_FLT_ROUTE': row_dict['PSG_FLT_ROUTE'],\n",
    "                               'PSG_FLT_DATE': row_dict['PSG_FLT_DATE']}\n",
    "    del row_dict['PSG_FLT_ARL_IATA']\n",
    "    del row_dict['PSG_FLT_ROUTE']\n",
    "    del row_dict['PSG_FLT_DATE']\n",
    "    \n",
    "    # 使用 json.dumps() 将字典转换为 JSON 字符串\n",
    "    json_string = json.dumps(row_dict)\n",
    "    \n",
    "    r.rpush('PASSENGER', json_string)"
   ]
  },
  {
   "cell_type": "code",
   "execution_count": 7,
   "id": "72e91d8fbfb665a5",
   "metadata": {
    "ExecuteTime": {
     "end_time": "2023-09-11T05:23:43.886532300Z",
     "start_time": "2023-09-11T05:23:43.700459Z"
    },
    "collapsed": false,
    "jupyter": {
     "outputs_hidden": false
    }
   },
   "outputs": [],
   "source": [
    "review_df = pd.read_csv(r'..\\..\\data_csv\\AIRLINEREVIEWS_DB\\REVIEW.csv')"
   ]
  },
  {
   "cell_type": "code",
   "execution_count": 8,
   "id": "df22cf34ef5f44f5",
   "metadata": {
    "ExecuteTime": {
     "end_time": "2023-09-11T05:23:44.481990100Z",
     "start_time": "2023-09-11T05:23:44.450731300Z"
    },
    "collapsed": false,
    "jupyter": {
     "outputs_hidden": false
    }
   },
   "outputs": [
    {
     "name": "stdout",
     "output_type": "stream",
     "text": [
      "<class 'pandas.core.frame.DataFrame'>\n",
      "RangeIndex: 19329 entries, 0 to 19328\n",
      "Data columns (total 17 columns):\n",
      " #   Column            Non-Null Count  Dtype \n",
      "---  ------            --------------  ----- \n",
      " 0   REV_ID            19329 non-null  object\n",
      " 1   REV_RECOMMENDED   19329 non-null  bool  \n",
      " 2   REV_TITLE         19329 non-null  object\n",
      " 3   REV_CONTENT       19329 non-null  object\n",
      " 4   REV_DATE          19329 non-null  object\n",
      " 5   REV_RT_O          19329 non-null  int64 \n",
      " 6   REV_RT_SC         19329 non-null  int64 \n",
      " 7   REV_RT_CSS        19329 non-null  int64 \n",
      " 8   REV_RT_FB         19329 non-null  int64 \n",
      " 9   REV_RT_GS         19329 non-null  int64 \n",
      " 10  REV_RT_IE         19329 non-null  int64 \n",
      " 11  REV_RT_WC         19329 non-null  int64 \n",
      " 12  REV_RT_VFM        19329 non-null  int64 \n",
      " 13  REV_PSG_ID        19329 non-null  object\n",
      " 14  REV_FLT_ARL_IATA  19329 non-null  object\n",
      " 15  REV_FLT_ROUTE     19329 non-null  object\n",
      " 16  REV_FLT_DATE      19329 non-null  object\n",
      "dtypes: bool(1), int64(8), object(8)\n",
      "memory usage: 2.4+ MB\n"
     ]
    }
   ],
   "source": [
    "review_df.info()"
   ]
  },
  {
   "cell_type": "code",
   "execution_count": 9,
   "id": "d0faa3c90c9c98a9",
   "metadata": {
    "ExecuteTime": {
     "end_time": "2023-09-11T05:31:35.326433100Z",
     "start_time": "2023-09-11T05:29:52.125285100Z"
    },
    "collapsed": false,
    "jupyter": {
     "outputs_hidden": false
    }
   },
   "outputs": [],
   "source": [
    "# 遍历 DataFrame 中的每一行\n",
    "for index, row in review_df.iterrows():\n",
    "    # 将每一行数据转换为字典\n",
    "    row_dict = row.to_dict()\n",
    "    \n",
    "    row_dict['REV_RT'] = {'REV_RT_O': row_dict['REV_RT_O'],\n",
    "                          'REV_RT_SC': row_dict['REV_RT_SC'],\n",
    "                          'REV_RT_CSS': row_dict['REV_RT_CSS'],\n",
    "                          'REV_RT_FB': row_dict['REV_RT_FB'],\n",
    "                          'REV_RT_GS': row_dict['REV_RT_GS'],\n",
    "                          'REV_RT_IE': row_dict['REV_RT_IE'],\n",
    "                          'REV_RT_WC': row_dict['REV_RT_WC'],\n",
    "                          'REV_RT_VFM': row_dict['REV_RT_VFM']}\n",
    "    del row_dict['REV_RT_O']\n",
    "    del row_dict['REV_RT_SC']\n",
    "    del row_dict['REV_RT_CSS']\n",
    "    del row_dict['REV_RT_FB']\n",
    "    del row_dict['REV_RT_GS']\n",
    "    del row_dict['REV_RT_IE']\n",
    "    del row_dict['REV_RT_WC']\n",
    "    del row_dict['REV_RT_VFM']\n",
    "    \n",
    "    row_dict['REV_FLT_TAG'] = {'REV_FLT_ARL_IATA': row_dict['REV_FLT_ARL_IATA'],\n",
    "                               'REV_FLT_ROUTE': row_dict['REV_FLT_ROUTE'],\n",
    "                               'REV_FLT_DATE': row_dict['REV_FLT_DATE']}\n",
    "    del row_dict['REV_FLT_ARL_IATA']\n",
    "    del row_dict['REV_FLT_ROUTE']\n",
    "    del row_dict['REV_FLT_DATE']\n",
    "    \n",
    "    # 使用 json.dumps() 将字典转换为 JSON 字符串\n",
    "    json_string = json.dumps(row_dict)\n",
    "    \n",
    "    r.rpush('REVIEW', json_string)"
   ]
  },
  {
   "cell_type": "code",
   "execution_count": 10,
   "id": "cc63ef57a4a38407",
   "metadata": {
    "ExecuteTime": {
     "end_time": "2023-09-11T13:41:02.054363Z",
     "start_time": "2023-09-11T13:41:02.017468100Z"
    },
    "collapsed": false,
    "jupyter": {
     "outputs_hidden": false
    }
   },
   "outputs": [],
   "source": [
    "flight_df = pd.read_csv(r'..\\..\\data_csv\\AIRLINEREVIEWS_DB\\FLIGHT.csv')"
   ]
  },
  {
   "cell_type": "code",
   "execution_count": 11,
   "id": "5218e596fef359b6",
   "metadata": {
    "ExecuteTime": {
     "end_time": "2023-09-11T13:41:14.205518200Z",
     "start_time": "2023-09-11T13:41:14.142391200Z"
    },
    "collapsed": false,
    "jupyter": {
     "outputs_hidden": false
    }
   },
   "outputs": [
    {
     "name": "stdout",
     "output_type": "stream",
     "text": [
      "<class 'pandas.core.frame.DataFrame'>\n",
      "RangeIndex: 18819 entries, 0 to 18818\n",
      "Data columns (total 4 columns):\n",
      " #   Column        Non-Null Count  Dtype \n",
      "---  ------        --------------  ----- \n",
      " 0   FLT_ARL_IATA  18819 non-null  object\n",
      " 1   FLT_ROUTE     18819 non-null  object\n",
      " 2   FLT_DATE      18819 non-null  object\n",
      " 3   FLT_AIRCRAFT  18819 non-null  object\n",
      "dtypes: object(4)\n",
      "memory usage: 588.2+ KB\n"
     ]
    }
   ],
   "source": [
    "flight_df.info()"
   ]
  },
  {
   "cell_type": "code",
   "execution_count": 12,
   "id": "bb81a00d2ef4dda9",
   "metadata": {
    "ExecuteTime": {
     "end_time": "2023-09-11T13:44:14.964643Z",
     "start_time": "2023-09-11T13:43:19.148047700Z"
    },
    "collapsed": false,
    "jupyter": {
     "outputs_hidden": false
    }
   },
   "outputs": [],
   "source": [
    "# 遍历 DataFrame 中的每一行\n",
    "for index, row in flight_df.iterrows():\n",
    "    # 将每一行数据转换为字典\n",
    "    row_dict = row.to_dict()\n",
    "    row_dict['FLT_TAG'] = {'FLT_ARL_IATA': row_dict['FLT_ARL_IATA'],\n",
    "                               'FLT_ROUTE': row_dict['FLT_ROUTE'],\n",
    "                               'FLT_DATE': row_dict['FLT_DATE']}\n",
    "    del row_dict['FLT_ARL_IATA']\n",
    "    del row_dict['FLT_ROUTE']\n",
    "    del row_dict['FLT_DATE']\n",
    "\n",
    "    # 使用 json.dumps() 将字典转换为 JSON 字符串\n",
    "    json_string = json.dumps(row_dict)\n",
    "\n",
    "    r.rpush('FLIGHT', json_string)"
   ]
  },
  {
   "cell_type": "code",
   "execution_count": 13,
   "id": "86d48e264f990050",
   "metadata": {
    "ExecuteTime": {
     "end_time": "2023-09-11T13:45:08.801790500Z",
     "start_time": "2023-09-11T13:45:08.754918900Z"
    },
    "collapsed": false,
    "jupyter": {
     "outputs_hidden": false
    }
   },
   "outputs": [],
   "source": [
    "airline_df = pd.read_csv(r'..\\..\\data_csv\\AIRLINEREVIEWS_DB\\AIRLINE.csv')"
   ]
  },
  {
   "cell_type": "code",
   "execution_count": 14,
   "id": "21fec44f1846bd1b",
   "metadata": {
    "ExecuteTime": {
     "end_time": "2023-09-11T13:45:39.641070200Z",
     "start_time": "2023-09-11T13:45:39.609810Z"
    },
    "collapsed": false,
    "jupyter": {
     "outputs_hidden": false
    }
   },
   "outputs": [
    {
     "name": "stdout",
     "output_type": "stream",
     "text": [
      "<class 'pandas.core.frame.DataFrame'>\n",
      "RangeIndex: 467 entries, 0 to 466\n",
      "Data columns (total 4 columns):\n",
      " #   Column         Non-Null Count  Dtype \n",
      "---  ------         --------------  ----- \n",
      " 0   ARL_IATA       467 non-null    object\n",
      " 1   ARL_ICAO       467 non-null    object\n",
      " 2   ARL_NAME       467 non-null    object\n",
      " 3   ARL_HQ_NATION  467 non-null    object\n",
      "dtypes: object(4)\n",
      "memory usage: 14.7+ KB\n"
     ]
    }
   ],
   "source": [
    "airline_df.info()"
   ]
  },
  {
   "cell_type": "code",
   "execution_count": 15,
   "id": "6197c3c1920c43f8",
   "metadata": {
    "ExecuteTime": {
     "end_time": "2023-09-11T13:46:18.497437900Z",
     "start_time": "2023-09-11T13:46:16.859429Z"
    },
    "collapsed": false,
    "jupyter": {
     "outputs_hidden": false
    }
   },
   "outputs": [],
   "source": [
    "# 遍历 DataFrame 中的每一行\n",
    "for index, row in airline_df.iterrows():\n",
    "    # 将每一行数据转换为字典\n",
    "    row_dict = row.to_dict()\n",
    "\n",
    "    # 使用 json.dumps() 将字典转换为 JSON 字符串\n",
    "    json_string = json.dumps(row_dict)\n",
    "\n",
    "    r.rpush('AIRLINE', json_string)"
   ]
  }
 ],
 "metadata": {
  "kernelspec": {
   "display_name": "Python 3 (ipykernel)",
   "language": "python",
   "name": "python3"
  },
  "language_info": {
   "codemirror_mode": {
    "name": "ipython",
    "version": 3
   },
   "file_extension": ".py",
   "mimetype": "text/x-python",
   "name": "python",
   "nbconvert_exporter": "python",
   "pygments_lexer": "ipython3",
   "version": "3.10.8"
  }
 },
 "nbformat": 4,
 "nbformat_minor": 5
}
