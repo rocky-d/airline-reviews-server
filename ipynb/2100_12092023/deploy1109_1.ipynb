{
 "cells": [
  {
   "cell_type": "code",
   "execution_count": 1,
   "id": "initial_id",
   "metadata": {
    "collapsed": true,
    "ExecuteTime": {
     "end_time": "2023-09-11T06:15:25.011728700Z",
     "start_time": "2023-09-11T06:15:24.962203700Z"
    }
   },
   "outputs": [],
   "source": [
    "import math, redis, csv, json, random, string, pickle\n",
    "\n",
    "import numpy as np\n",
    "import pandas as pd\n",
    "\n",
    "import matplotlib.pyplot as plt\n",
    "import seaborn as sns"
   ]
  },
  {
   "cell_type": "code",
   "execution_count": 2,
   "outputs": [
    {
     "name": "stdout",
     "output_type": "stream",
     "text": [
      "<class 'pandas.core.frame.DataFrame'>\n",
      "RangeIndex: 19329 entries, 0 to 19328\n",
      "Data columns (total 26 columns):\n",
      " #   Column           Non-Null Count  Dtype \n",
      "---  ------           --------------  ----- \n",
      " 0   REV_ID           19329 non-null  object\n",
      " 1   ARL_NAME         19329 non-null  object\n",
      " 2   REV_RT_O         19329 non-null  int64 \n",
      " 3   REV_TITLE        19329 non-null  object\n",
      " 4   REV_DATE         19329 non-null  object\n",
      " 5   PSG_VERIFIED     19329 non-null  bool  \n",
      " 6   REV_CONTENT      19329 non-null  object\n",
      " 7   FLT_AIRCRAFT     19329 non-null  object\n",
      " 8   PSG_TYPE         19329 non-null  object\n",
      " 9   PSG_SEAT_TYPE    19329 non-null  object\n",
      " 10  FLT_ROUTE        19329 non-null  object\n",
      " 11  FLT_DATE         19329 non-null  object\n",
      " 12  REV_RT_SC        19329 non-null  int64 \n",
      " 13  REV_RT_CSS       19329 non-null  int64 \n",
      " 14  REV_RT_FB        19329 non-null  int64 \n",
      " 15  REV_RT_GS        19329 non-null  int64 \n",
      " 16  REV_RT_IE        19329 non-null  int64 \n",
      " 17  REV_RT_WC        19329 non-null  int64 \n",
      " 18  REV_RT_VFM       19329 non-null  int64 \n",
      " 19  REV_RECOMMENDED  19329 non-null  bool  \n",
      " 20  PSG_ID           19329 non-null  object\n",
      " 21  PSG_GENDER       19329 non-null  object\n",
      " 22  PSG_AGE          19329 non-null  int64 \n",
      " 23  ARL_IATA         19329 non-null  object\n",
      " 24  ARL_ICAO         19329 non-null  object\n",
      " 25  ARL_HQ_NATION    19329 non-null  object\n",
      "dtypes: bool(2), int64(9), object(15)\n",
      "memory usage: 3.6+ MB\n"
     ]
    }
   ],
   "source": [
    "df = pd.read_csv(r'..\\data_csv\\new_df1109.csv')\n",
    "\n",
    "df.info()"
   ],
   "metadata": {
    "collapsed": false,
    "ExecuteTime": {
     "end_time": "2023-09-11T06:15:26.887519300Z",
     "start_time": "2023-09-11T06:15:26.690741800Z"
    }
   },
   "id": "81ca0887bcc5ce80"
  },
  {
   "cell_type": "code",
   "execution_count": 3,
   "outputs": [],
   "source": [
    "# review_df = pd.DataFrame()\n",
    "# \n",
    "# review_df['REV_ID'] = df['REV_ID']\n",
    "# review_df['REV_RECOMMENDED'] = df['REV_RECOMMENDED']\n",
    "# review_df['REV_TITLE'] = df['REV_TITLE']\n",
    "# review_df['REV_CONTENT'] = df['REV_CONTENT']\n",
    "# review_df['REV_DATE'] = df['REV_DATE']\n",
    "# review_df['REV_RT_O'] = df['REV_RT_O']\n",
    "# review_df['REV_RT_SC'] = df['REV_RT_SC']\n",
    "# review_df['REV_RT_CSS'] = df['REV_RT_CSS']\n",
    "# review_df['REV_RT_FB'] = df['REV_RT_FB']\n",
    "# review_df['REV_RT_GS'] = df['REV_RT_GS']\n",
    "# review_df['REV_RT_IE'] = df['REV_RT_IE']\n",
    "# review_df['REV_RT_WC'] = df['REV_RT_WC']\n",
    "# review_df['REV_RT_VFM'] = df['REV_RT_VFM']\n",
    "# review_df['REV_PSG_ID'] = df['PSG_ID']\n",
    "# review_df['REV_FLT_ARL_IATA'] = df['ARL_IATA']\n",
    "# review_df['REV_FLT_ROUTE'] = df['FLT_ROUTE']\n",
    "# review_df['REV_FLT_DATE'] = df['FLT_DATE']\n",
    "# \n",
    "# review_df.info()"
   ],
   "metadata": {
    "collapsed": false,
    "ExecuteTime": {
     "end_time": "2023-09-11T05:02:11.018649800Z",
     "start_time": "2023-09-11T05:02:11.003023200Z"
    }
   },
   "id": "4e0760f24cd7b974"
  },
  {
   "cell_type": "code",
   "execution_count": 4,
   "outputs": [],
   "source": [
    "# review_df.to_csv(r'..\\data_csv\\REVIEW.csv', index = False)"
   ],
   "metadata": {
    "collapsed": false,
    "ExecuteTime": {
     "end_time": "2023-09-11T05:02:11.065518900Z",
     "start_time": "2023-09-11T05:02:11.018649800Z"
    }
   },
   "id": "6b6c1ac5faff32cd"
  },
  {
   "cell_type": "code",
   "execution_count": 5,
   "outputs": [],
   "source": [
    "# passenger_df = pd.DataFrame()\n",
    "# \n",
    "# passenger_df['PSG_ID'] = df['PSG_ID']\n",
    "# passenger_df['PSG_VERIFIED'] = df['PSG_VERIFIED']\n",
    "# passenger_df['PSG_AGE'] = df['PSG_AGE']\n",
    "# passenger_df['PSG_GENDER'] = df['PSG_GENDER']\n",
    "# passenger_df['PSG_TYPE'] = df['PSG_TYPE']\n",
    "# passenger_df['PSG_SEAT_TYPE'] = df['PSG_SEAT_TYPE']\n",
    "# passenger_df['PSG_FLT_ARL_IATA'] = df['ARL_IATA']\n",
    "# passenger_df['PSG_FLT_ROUTE'] = df['FLT_ROUTE']\n",
    "# passenger_df['PSG_FLT_DATE'] = df['FLT_DATE']\n",
    "# \n",
    "# passenger_df.info()"
   ],
   "metadata": {
    "collapsed": false,
    "ExecuteTime": {
     "end_time": "2023-09-11T05:02:11.065518900Z",
     "start_time": "2023-09-11T05:02:11.034264100Z"
    }
   },
   "id": "fef21022dbb2b84a"
  },
  {
   "cell_type": "code",
   "execution_count": 6,
   "outputs": [],
   "source": [
    "# passenger_df.to_csv(r'..\\data_csv\\PASSENGER.csv', index = False)"
   ],
   "metadata": {
    "collapsed": false,
    "ExecuteTime": {
     "end_time": "2023-09-11T05:02:11.065518900Z",
     "start_time": "2023-09-11T05:02:11.049886500Z"
    }
   },
   "id": "7b3b248258e54f06"
  },
  {
   "cell_type": "code",
   "execution_count": 3,
   "outputs": [
    {
     "name": "stdout",
     "output_type": "stream",
     "text": [
      "467\n",
      "13597\n",
      "109\n"
     ]
    }
   ],
   "source": [
    "# print(len(df['ARL_IATA'].unique()))\n",
    "# print(len(df['FLT_ROUTE'].unique()))\n",
    "# print(len(df['FLT_DATE'].unique()))"
   ],
   "metadata": {
    "collapsed": false,
    "ExecuteTime": {
     "end_time": "2023-09-11T06:15:31.861933100Z",
     "start_time": "2023-09-11T06:15:31.829538400Z"
    }
   },
   "id": "4d9ece1116623959"
  },
  {
   "cell_type": "code",
   "execution_count": 5,
   "outputs": [
    {
     "data": {
      "text/plain": "18819"
     },
     "execution_count": 5,
     "metadata": {},
     "output_type": "execute_result"
    }
   ],
   "source": [
    "# flt_dict = {}\n",
    "# iata = df['ARL_IATA'].to_list()\n",
    "# route = df['FLT_ROUTE'].to_list()\n",
    "# date = df['FLT_DATE'].to_list()\n",
    "# aircraft = df['FLT_AIRCRAFT'].to_list()\n",
    "# \n",
    "# for i in range(len(iata)):\n",
    "#     flt_dict[iata[i] + route[i] + date[i]] = [iata[i], route[i], date[i], aircraft[i]]\n",
    "# \n",
    "# len(flt_dict)"
   ],
   "metadata": {
    "collapsed": false,
    "ExecuteTime": {
     "end_time": "2023-09-11T06:34:52.489670100Z",
     "start_time": "2023-09-11T06:34:52.442734100Z"
    }
   },
   "id": "7bc7b1b902e20212"
  },
  {
   "cell_type": "code",
   "execution_count": 6,
   "outputs": [
    {
     "name": "stdout",
     "output_type": "stream",
     "text": [
      "<class 'pandas.core.frame.DataFrame'>\n",
      "RangeIndex: 18819 entries, 0 to 18818\n",
      "Data columns (total 4 columns):\n",
      " #   Column        Non-Null Count  Dtype \n",
      "---  ------        --------------  ----- \n",
      " 0   FLT_ARL_IATA  18819 non-null  object\n",
      " 1   FLT_ROUTE     18819 non-null  object\n",
      " 2   FLT_DATE      18819 non-null  object\n",
      " 3   FLT_AIRCRAFT  18819 non-null  object\n",
      "dtypes: object(4)\n",
      "memory usage: 588.2+ KB\n"
     ]
    }
   ],
   "source": [
    "# flight_df = pd.DataFrame()\n",
    "# \n",
    "# flight_df['FLT_ARL_IATA'] = [flt_dict[key][0] for key in flt_dict.keys()]\n",
    "# flight_df['FLT_ROUTE'] = [flt_dict[key][1] for key in flt_dict.keys()]\n",
    "# flight_df['FLT_DATE'] = [flt_dict[key][2] for key in flt_dict.keys()]\n",
    "# flight_df['FLT_AIRCRAFT'] = [flt_dict[key][3] for key in flt_dict.keys()]\n",
    "# \n",
    "# flight_df.info()"
   ],
   "metadata": {
    "collapsed": false,
    "ExecuteTime": {
     "end_time": "2023-09-11T06:48:26.885532400Z",
     "start_time": "2023-09-11T06:48:26.773030400Z"
    }
   },
   "id": "e57a088ed7e74e9d"
  },
  {
   "cell_type": "code",
   "execution_count": 7,
   "outputs": [],
   "source": [
    "# flight_df.to_csv(r'..\\data_csv\\FLIGHT.csv', index = False)"
   ],
   "metadata": {
    "collapsed": false,
    "ExecuteTime": {
     "end_time": "2023-09-11T06:48:55.594078300Z",
     "start_time": "2023-09-11T06:48:55.500292900Z"
    }
   },
   "id": "a55626ce321a81f9"
  },
  {
   "cell_type": "code",
   "execution_count": 8,
   "outputs": [
    {
     "name": "stdout",
     "output_type": "stream",
     "text": [
      "467\n",
      "467\n",
      "467\n",
      "44\n"
     ]
    }
   ],
   "source": [
    "# print(len(df['ARL_IATA'].unique()))\n",
    "# print(len(df['ARL_ICAO'].unique()))\n",
    "# print(len(df['ARL_NAME'].unique()))\n",
    "# print(len(df['ARL_HQ_NATION'].unique()))"
   ],
   "metadata": {
    "collapsed": false,
    "ExecuteTime": {
     "end_time": "2023-09-11T06:51:16.096536400Z",
     "start_time": "2023-09-11T06:51:16.034026100Z"
    }
   },
   "id": "b7d6c73a21ec44be"
  },
  {
   "cell_type": "code",
   "execution_count": 9,
   "outputs": [
    {
     "data": {
      "text/plain": "467"
     },
     "execution_count": 9,
     "metadata": {},
     "output_type": "execute_result"
    }
   ],
   "source": [
    "# arl_dict = {}\n",
    "# iata = df['ARL_IATA'].to_list()\n",
    "# icao = df['ARL_ICAO'].to_list()\n",
    "# name = df['ARL_NAME'].to_list()\n",
    "# nation = df['ARL_HQ_NATION'].to_list()\n",
    "# \n",
    "# for i in range(len(iata)):\n",
    "#     arl_dict[iata[i]] = [iata[i], icao[i], name[i], nation[i]]\n",
    "# \n",
    "# len(arl_dict)"
   ],
   "metadata": {
    "collapsed": false,
    "ExecuteTime": {
     "end_time": "2023-09-11T06:54:34.730511500Z",
     "start_time": "2023-09-11T06:54:34.574243200Z"
    }
   },
   "id": "13da6e26c855a303"
  },
  {
   "cell_type": "code",
   "execution_count": 10,
   "outputs": [
    {
     "name": "stdout",
     "output_type": "stream",
     "text": [
      "<class 'pandas.core.frame.DataFrame'>\n",
      "RangeIndex: 467 entries, 0 to 466\n",
      "Data columns (total 4 columns):\n",
      " #   Column         Non-Null Count  Dtype \n",
      "---  ------         --------------  ----- \n",
      " 0   ARL_IATA       467 non-null    object\n",
      " 1   ARL_ICAO       467 non-null    object\n",
      " 2   ARL_NAME       467 non-null    object\n",
      " 3   ARL_HQ_NATION  467 non-null    object\n",
      "dtypes: object(4)\n",
      "memory usage: 14.7+ KB\n"
     ]
    }
   ],
   "source": [
    "# airline_df = pd.DataFrame()\n",
    "# \n",
    "# airline_df['ARL_IATA'] = [arl_dict[key][0] for key in arl_dict.keys()]\n",
    "# airline_df['ARL_ICAO'] = [arl_dict[key][1] for key in arl_dict.keys()]\n",
    "# airline_df['ARL_NAME'] = [arl_dict[key][2] for key in arl_dict.keys()]\n",
    "# airline_df['ARL_HQ_NATION'] = [arl_dict[key][3] for key in arl_dict.keys()]\n",
    "# \n",
    "# airline_df.info()"
   ],
   "metadata": {
    "collapsed": false,
    "ExecuteTime": {
     "end_time": "2023-09-11T06:56:40.315558100Z",
     "start_time": "2023-09-11T06:56:40.206192Z"
    }
   },
   "id": "c9afc77203eef90c"
  },
  {
   "cell_type": "code",
   "execution_count": 11,
   "outputs": [],
   "source": [
    "# airline_df.to_csv(r'..\\data_csv\\AIRLINE.csv', index = False)"
   ],
   "metadata": {
    "collapsed": false,
    "ExecuteTime": {
     "end_time": "2023-09-11T06:57:10.938323100Z",
     "start_time": "2023-09-11T06:57:10.891454Z"
    }
   },
   "id": "7b7ea8d6621ce2e4"
  }
 ],
 "metadata": {
  "kernelspec": {
   "display_name": "Python 3",
   "language": "python",
   "name": "python3"
  },
  "language_info": {
   "codemirror_mode": {
    "name": "ipython",
    "version": 2
   },
   "file_extension": ".py",
   "mimetype": "text/x-python",
   "name": "python",
   "nbconvert_exporter": "python",
   "pygments_lexer": "ipython2",
   "version": "2.7.6"
  }
 },
 "nbformat": 4,
 "nbformat_minor": 5
}
